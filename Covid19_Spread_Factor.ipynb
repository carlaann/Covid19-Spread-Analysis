{
 "cells": [
  {
   "cell_type": "markdown",
   "metadata": {
    "colab_type": "text",
    "id": "HDOGvVdLCW2I"
   },
   "source": [
    "- Name:  Carla Harrell\n",
    "- Course: DSC630\n",
    "- Assignment: Final Project\n",
    "- Date: 05/30/20"
   ]
  },
  {
   "cell_type": "markdown",
   "metadata": {
    "colab_type": "text",
    "id": "uyDiIdSwCW2J"
   },
   "source": [
    "## Import necessary libraries"
   ]
  },
  {
   "cell_type": "code",
   "execution_count": 1,
   "metadata": {
    "colab": {
     "base_uri": "https://localhost:8080/",
     "height": 72
    },
    "colab_type": "code",
    "id": "VyQRGw7bCW2K",
    "outputId": "180c82b4-5b4c-4bc8-866e-fc2af59b108e"
   },
   "outputs": [],
   "source": [
    "import pandas as pd\n",
    "import numpy as np\n",
    "from datetime import datetime as dt\n",
    "from matplotlib import pyplot as plt\n",
    "import re\n",
    "import seaborn as sns\n",
    "from array import *\n",
    "from sklearn import linear_model\n",
    "from scipy.special import expit"
   ]
  },
  {
   "cell_type": "markdown",
   "metadata": {
    "colab_type": "text",
    "id": "WR6nrZDxCW2N"
   },
   "source": [
    "## Import the dataset "
   ]
  },
  {
   "cell_type": "code",
   "execution_count": 2,
   "metadata": {
    "colab": {},
    "colab_type": "code",
    "id": "9s2H6zNKCW2O"
   },
   "outputs": [],
   "source": [
    "us_data = pd.read_csv(\"us_covid19_daily.csv\")"
   ]
  },
  {
   "cell_type": "code",
   "execution_count": 3,
   "metadata": {
    "colab": {
     "base_uri": "https://localhost:8080/",
     "height": 309
    },
    "colab_type": "code",
    "id": "Oi9mfcPzCW2Q",
    "outputId": "23c76711-96fa-4406-997f-fe2480f1577b"
   },
   "outputs": [
    {
     "data": {
      "text/html": [
       "<div>\n",
       "<style scoped>\n",
       "    .dataframe tbody tr th:only-of-type {\n",
       "        vertical-align: middle;\n",
       "    }\n",
       "\n",
       "    .dataframe tbody tr th {\n",
       "        vertical-align: top;\n",
       "    }\n",
       "\n",
       "    .dataframe thead th {\n",
       "        text-align: right;\n",
       "    }\n",
       "</style>\n",
       "<table border=\"1\" class=\"dataframe\">\n",
       "  <thead>\n",
       "    <tr style=\"text-align: right;\">\n",
       "      <th></th>\n",
       "      <th>date</th>\n",
       "      <th>states</th>\n",
       "      <th>positive</th>\n",
       "      <th>negative</th>\n",
       "      <th>pending</th>\n",
       "      <th>hospitalizedCurrently</th>\n",
       "      <th>hospitalizedCumulative</th>\n",
       "      <th>inIcuCurrently</th>\n",
       "      <th>inIcuCumulative</th>\n",
       "      <th>onVentilatorCurrently</th>\n",
       "      <th>...</th>\n",
       "      <th>death</th>\n",
       "      <th>hospitalized</th>\n",
       "      <th>total</th>\n",
       "      <th>totalTestResults</th>\n",
       "      <th>posNeg</th>\n",
       "      <th>deathIncrease</th>\n",
       "      <th>hospitalizedIncrease</th>\n",
       "      <th>negativeIncrease</th>\n",
       "      <th>positiveIncrease</th>\n",
       "      <th>totalTestResultsIncrease</th>\n",
       "    </tr>\n",
       "  </thead>\n",
       "  <tbody>\n",
       "    <tr>\n",
       "      <th>0</th>\n",
       "      <td>20200425</td>\n",
       "      <td>56</td>\n",
       "      <td>931698</td>\n",
       "      <td>4252937.0</td>\n",
       "      <td>5315.0</td>\n",
       "      <td>56312.0</td>\n",
       "      <td>94743.0</td>\n",
       "      <td>15020.0</td>\n",
       "      <td>2516.0</td>\n",
       "      <td>5266.0</td>\n",
       "      <td>...</td>\n",
       "      <td>47980.0</td>\n",
       "      <td>94743.0</td>\n",
       "      <td>5189950</td>\n",
       "      <td>5184635</td>\n",
       "      <td>5184635</td>\n",
       "      <td>2194.0</td>\n",
       "      <td>1636.0</td>\n",
       "      <td>259951.0</td>\n",
       "      <td>40882.0</td>\n",
       "      <td>300833.0</td>\n",
       "    </tr>\n",
       "    <tr>\n",
       "      <th>1</th>\n",
       "      <td>20200424</td>\n",
       "      <td>56</td>\n",
       "      <td>890816</td>\n",
       "      <td>3992986.0</td>\n",
       "      <td>4396.0</td>\n",
       "      <td>56118.0</td>\n",
       "      <td>93107.0</td>\n",
       "      <td>15078.0</td>\n",
       "      <td>2468.0</td>\n",
       "      <td>5187.0</td>\n",
       "      <td>...</td>\n",
       "      <td>45786.0</td>\n",
       "      <td>93107.0</td>\n",
       "      <td>4888198</td>\n",
       "      <td>4883802</td>\n",
       "      <td>4883802</td>\n",
       "      <td>1772.0</td>\n",
       "      <td>1999.0</td>\n",
       "      <td>192054.0</td>\n",
       "      <td>31498.0</td>\n",
       "      <td>223552.0</td>\n",
       "    </tr>\n",
       "    <tr>\n",
       "      <th>2</th>\n",
       "      <td>20200423</td>\n",
       "      <td>56</td>\n",
       "      <td>859318</td>\n",
       "      <td>3800932.0</td>\n",
       "      <td>4258.0</td>\n",
       "      <td>57879.0</td>\n",
       "      <td>91108.0</td>\n",
       "      <td>15163.0</td>\n",
       "      <td>2428.0</td>\n",
       "      <td>5464.0</td>\n",
       "      <td>...</td>\n",
       "      <td>44014.0</td>\n",
       "      <td>91108.0</td>\n",
       "      <td>4664508</td>\n",
       "      <td>4660250</td>\n",
       "      <td>4660250</td>\n",
       "      <td>1886.0</td>\n",
       "      <td>5565.0</td>\n",
       "      <td>159700.0</td>\n",
       "      <td>31355.0</td>\n",
       "      <td>191055.0</td>\n",
       "    </tr>\n",
       "    <tr>\n",
       "      <th>3</th>\n",
       "      <td>20200422</td>\n",
       "      <td>56</td>\n",
       "      <td>827963</td>\n",
       "      <td>3641232.0</td>\n",
       "      <td>4191.0</td>\n",
       "      <td>58173.0</td>\n",
       "      <td>85543.0</td>\n",
       "      <td>15341.0</td>\n",
       "      <td>2370.0</td>\n",
       "      <td>5474.0</td>\n",
       "      <td>...</td>\n",
       "      <td>42128.0</td>\n",
       "      <td>85543.0</td>\n",
       "      <td>4473386</td>\n",
       "      <td>4469195</td>\n",
       "      <td>4469195</td>\n",
       "      <td>2133.0</td>\n",
       "      <td>1251.0</td>\n",
       "      <td>285950.0</td>\n",
       "      <td>27658.0</td>\n",
       "      <td>313608.0</td>\n",
       "    </tr>\n",
       "    <tr>\n",
       "      <th>4</th>\n",
       "      <td>20200421</td>\n",
       "      <td>56</td>\n",
       "      <td>800305</td>\n",
       "      <td>3355282.0</td>\n",
       "      <td>3956.0</td>\n",
       "      <td>58468.0</td>\n",
       "      <td>84292.0</td>\n",
       "      <td>15228.0</td>\n",
       "      <td>2315.0</td>\n",
       "      <td>5514.0</td>\n",
       "      <td>...</td>\n",
       "      <td>39995.0</td>\n",
       "      <td>84292.0</td>\n",
       "      <td>4159543</td>\n",
       "      <td>4155587</td>\n",
       "      <td>4155587</td>\n",
       "      <td>2674.0</td>\n",
       "      <td>1413.0</td>\n",
       "      <td>124255.0</td>\n",
       "      <td>27285.0</td>\n",
       "      <td>151540.0</td>\n",
       "    </tr>\n",
       "  </tbody>\n",
       "</table>\n",
       "<p>5 rows × 24 columns</p>\n",
       "</div>"
      ],
      "text/plain": [
       "       date  states  positive   negative  pending  hospitalizedCurrently  \\\n",
       "0  20200425      56    931698  4252937.0   5315.0                56312.0   \n",
       "1  20200424      56    890816  3992986.0   4396.0                56118.0   \n",
       "2  20200423      56    859318  3800932.0   4258.0                57879.0   \n",
       "3  20200422      56    827963  3641232.0   4191.0                58173.0   \n",
       "4  20200421      56    800305  3355282.0   3956.0                58468.0   \n",
       "\n",
       "   hospitalizedCumulative  inIcuCurrently  inIcuCumulative  \\\n",
       "0                 94743.0         15020.0           2516.0   \n",
       "1                 93107.0         15078.0           2468.0   \n",
       "2                 91108.0         15163.0           2428.0   \n",
       "3                 85543.0         15341.0           2370.0   \n",
       "4                 84292.0         15228.0           2315.0   \n",
       "\n",
       "   onVentilatorCurrently  ...    death  hospitalized    total  \\\n",
       "0                 5266.0  ...  47980.0       94743.0  5189950   \n",
       "1                 5187.0  ...  45786.0       93107.0  4888198   \n",
       "2                 5464.0  ...  44014.0       91108.0  4664508   \n",
       "3                 5474.0  ...  42128.0       85543.0  4473386   \n",
       "4                 5514.0  ...  39995.0       84292.0  4159543   \n",
       "\n",
       "  totalTestResults   posNeg  deathIncrease  hospitalizedIncrease  \\\n",
       "0          5184635  5184635         2194.0                1636.0   \n",
       "1          4883802  4883802         1772.0                1999.0   \n",
       "2          4660250  4660250         1886.0                5565.0   \n",
       "3          4469195  4469195         2133.0                1251.0   \n",
       "4          4155587  4155587         2674.0                1413.0   \n",
       "\n",
       "   negativeIncrease  positiveIncrease  totalTestResultsIncrease  \n",
       "0          259951.0           40882.0                  300833.0  \n",
       "1          192054.0           31498.0                  223552.0  \n",
       "2          159700.0           31355.0                  191055.0  \n",
       "3          285950.0           27658.0                  313608.0  \n",
       "4          124255.0           27285.0                  151540.0  \n",
       "\n",
       "[5 rows x 24 columns]"
      ]
     },
     "execution_count": 3,
     "metadata": {},
     "output_type": "execute_result"
    }
   ],
   "source": [
    "us_data.head()"
   ]
  },
  {
   "cell_type": "markdown",
   "metadata": {
    "colab_type": "text",
    "id": "neFzzVKxCW2T"
   },
   "source": [
    "## data cleaning and data preprocessing"
   ]
  },
  {
   "cell_type": "code",
   "execution_count": 4,
   "metadata": {
    "colab": {},
    "colab_type": "code",
    "id": "k6caiw_KCW2U"
   },
   "outputs": [],
   "source": [
    "### first convert the date column to yyyy mm dd format\n",
    "\n",
    "us_data['New_Date'] = pd.to_datetime(us_data.date, format='%Y%m%d')\n"
   ]
  },
  {
   "cell_type": "code",
   "execution_count": 5,
   "metadata": {
    "colab": {},
    "colab_type": "code",
    "id": "2gG99d9wCW2X"
   },
   "outputs": [],
   "source": [
    "### then create a new column No_days which states number of days passed since first outbreak in US\n",
    "\n",
    "us_data['No_days'] = us_data['New_Date'] - min(us_data['New_Date'])"
   ]
  },
  {
   "cell_type": "code",
   "execution_count": 6,
   "metadata": {
    "colab": {
     "base_uri": "https://localhost:8080/",
     "height": 309
    },
    "colab_type": "code",
    "id": "K1esV66aCW2a",
    "outputId": "e3dacafe-2d26-405c-d643-053c5d081b3e"
   },
   "outputs": [
    {
     "data": {
      "text/html": [
       "<div>\n",
       "<style scoped>\n",
       "    .dataframe tbody tr th:only-of-type {\n",
       "        vertical-align: middle;\n",
       "    }\n",
       "\n",
       "    .dataframe tbody tr th {\n",
       "        vertical-align: top;\n",
       "    }\n",
       "\n",
       "    .dataframe thead th {\n",
       "        text-align: right;\n",
       "    }\n",
       "</style>\n",
       "<table border=\"1\" class=\"dataframe\">\n",
       "  <thead>\n",
       "    <tr style=\"text-align: right;\">\n",
       "      <th></th>\n",
       "      <th>date</th>\n",
       "      <th>states</th>\n",
       "      <th>positive</th>\n",
       "      <th>negative</th>\n",
       "      <th>pending</th>\n",
       "      <th>hospitalizedCurrently</th>\n",
       "      <th>hospitalizedCumulative</th>\n",
       "      <th>inIcuCurrently</th>\n",
       "      <th>inIcuCumulative</th>\n",
       "      <th>onVentilatorCurrently</th>\n",
       "      <th>...</th>\n",
       "      <th>total</th>\n",
       "      <th>totalTestResults</th>\n",
       "      <th>posNeg</th>\n",
       "      <th>deathIncrease</th>\n",
       "      <th>hospitalizedIncrease</th>\n",
       "      <th>negativeIncrease</th>\n",
       "      <th>positiveIncrease</th>\n",
       "      <th>totalTestResultsIncrease</th>\n",
       "      <th>New_Date</th>\n",
       "      <th>No_days</th>\n",
       "    </tr>\n",
       "  </thead>\n",
       "  <tbody>\n",
       "    <tr>\n",
       "      <th>0</th>\n",
       "      <td>20200425</td>\n",
       "      <td>56</td>\n",
       "      <td>931698</td>\n",
       "      <td>4252937.0</td>\n",
       "      <td>5315.0</td>\n",
       "      <td>56312.0</td>\n",
       "      <td>94743.0</td>\n",
       "      <td>15020.0</td>\n",
       "      <td>2516.0</td>\n",
       "      <td>5266.0</td>\n",
       "      <td>...</td>\n",
       "      <td>5189950</td>\n",
       "      <td>5184635</td>\n",
       "      <td>5184635</td>\n",
       "      <td>2194.0</td>\n",
       "      <td>1636.0</td>\n",
       "      <td>259951.0</td>\n",
       "      <td>40882.0</td>\n",
       "      <td>300833.0</td>\n",
       "      <td>2020-04-25</td>\n",
       "      <td>94 days</td>\n",
       "    </tr>\n",
       "    <tr>\n",
       "      <th>1</th>\n",
       "      <td>20200424</td>\n",
       "      <td>56</td>\n",
       "      <td>890816</td>\n",
       "      <td>3992986.0</td>\n",
       "      <td>4396.0</td>\n",
       "      <td>56118.0</td>\n",
       "      <td>93107.0</td>\n",
       "      <td>15078.0</td>\n",
       "      <td>2468.0</td>\n",
       "      <td>5187.0</td>\n",
       "      <td>...</td>\n",
       "      <td>4888198</td>\n",
       "      <td>4883802</td>\n",
       "      <td>4883802</td>\n",
       "      <td>1772.0</td>\n",
       "      <td>1999.0</td>\n",
       "      <td>192054.0</td>\n",
       "      <td>31498.0</td>\n",
       "      <td>223552.0</td>\n",
       "      <td>2020-04-24</td>\n",
       "      <td>93 days</td>\n",
       "    </tr>\n",
       "    <tr>\n",
       "      <th>2</th>\n",
       "      <td>20200423</td>\n",
       "      <td>56</td>\n",
       "      <td>859318</td>\n",
       "      <td>3800932.0</td>\n",
       "      <td>4258.0</td>\n",
       "      <td>57879.0</td>\n",
       "      <td>91108.0</td>\n",
       "      <td>15163.0</td>\n",
       "      <td>2428.0</td>\n",
       "      <td>5464.0</td>\n",
       "      <td>...</td>\n",
       "      <td>4664508</td>\n",
       "      <td>4660250</td>\n",
       "      <td>4660250</td>\n",
       "      <td>1886.0</td>\n",
       "      <td>5565.0</td>\n",
       "      <td>159700.0</td>\n",
       "      <td>31355.0</td>\n",
       "      <td>191055.0</td>\n",
       "      <td>2020-04-23</td>\n",
       "      <td>92 days</td>\n",
       "    </tr>\n",
       "    <tr>\n",
       "      <th>3</th>\n",
       "      <td>20200422</td>\n",
       "      <td>56</td>\n",
       "      <td>827963</td>\n",
       "      <td>3641232.0</td>\n",
       "      <td>4191.0</td>\n",
       "      <td>58173.0</td>\n",
       "      <td>85543.0</td>\n",
       "      <td>15341.0</td>\n",
       "      <td>2370.0</td>\n",
       "      <td>5474.0</td>\n",
       "      <td>...</td>\n",
       "      <td>4473386</td>\n",
       "      <td>4469195</td>\n",
       "      <td>4469195</td>\n",
       "      <td>2133.0</td>\n",
       "      <td>1251.0</td>\n",
       "      <td>285950.0</td>\n",
       "      <td>27658.0</td>\n",
       "      <td>313608.0</td>\n",
       "      <td>2020-04-22</td>\n",
       "      <td>91 days</td>\n",
       "    </tr>\n",
       "    <tr>\n",
       "      <th>4</th>\n",
       "      <td>20200421</td>\n",
       "      <td>56</td>\n",
       "      <td>800305</td>\n",
       "      <td>3355282.0</td>\n",
       "      <td>3956.0</td>\n",
       "      <td>58468.0</td>\n",
       "      <td>84292.0</td>\n",
       "      <td>15228.0</td>\n",
       "      <td>2315.0</td>\n",
       "      <td>5514.0</td>\n",
       "      <td>...</td>\n",
       "      <td>4159543</td>\n",
       "      <td>4155587</td>\n",
       "      <td>4155587</td>\n",
       "      <td>2674.0</td>\n",
       "      <td>1413.0</td>\n",
       "      <td>124255.0</td>\n",
       "      <td>27285.0</td>\n",
       "      <td>151540.0</td>\n",
       "      <td>2020-04-21</td>\n",
       "      <td>90 days</td>\n",
       "    </tr>\n",
       "  </tbody>\n",
       "</table>\n",
       "<p>5 rows × 26 columns</p>\n",
       "</div>"
      ],
      "text/plain": [
       "       date  states  positive   negative  pending  hospitalizedCurrently  \\\n",
       "0  20200425      56    931698  4252937.0   5315.0                56312.0   \n",
       "1  20200424      56    890816  3992986.0   4396.0                56118.0   \n",
       "2  20200423      56    859318  3800932.0   4258.0                57879.0   \n",
       "3  20200422      56    827963  3641232.0   4191.0                58173.0   \n",
       "4  20200421      56    800305  3355282.0   3956.0                58468.0   \n",
       "\n",
       "   hospitalizedCumulative  inIcuCurrently  inIcuCumulative  \\\n",
       "0                 94743.0         15020.0           2516.0   \n",
       "1                 93107.0         15078.0           2468.0   \n",
       "2                 91108.0         15163.0           2428.0   \n",
       "3                 85543.0         15341.0           2370.0   \n",
       "4                 84292.0         15228.0           2315.0   \n",
       "\n",
       "   onVentilatorCurrently  ...    total  totalTestResults   posNeg  \\\n",
       "0                 5266.0  ...  5189950           5184635  5184635   \n",
       "1                 5187.0  ...  4888198           4883802  4883802   \n",
       "2                 5464.0  ...  4664508           4660250  4660250   \n",
       "3                 5474.0  ...  4473386           4469195  4469195   \n",
       "4                 5514.0  ...  4159543           4155587  4155587   \n",
       "\n",
       "  deathIncrease  hospitalizedIncrease  negativeIncrease  positiveIncrease  \\\n",
       "0        2194.0                1636.0          259951.0           40882.0   \n",
       "1        1772.0                1999.0          192054.0           31498.0   \n",
       "2        1886.0                5565.0          159700.0           31355.0   \n",
       "3        2133.0                1251.0          285950.0           27658.0   \n",
       "4        2674.0                1413.0          124255.0           27285.0   \n",
       "\n",
       "   totalTestResultsIncrease   New_Date  No_days  \n",
       "0                  300833.0 2020-04-25  94 days  \n",
       "1                  223552.0 2020-04-24  93 days  \n",
       "2                  191055.0 2020-04-23  92 days  \n",
       "3                  313608.0 2020-04-22  91 days  \n",
       "4                  151540.0 2020-04-21  90 days  \n",
       "\n",
       "[5 rows x 26 columns]"
      ]
     },
     "execution_count": 6,
     "metadata": {},
     "output_type": "execute_result"
    }
   ],
   "source": [
    "us_data.head() ## we can see the two new columns in the last of the dataframe"
   ]
  },
  {
   "cell_type": "markdown",
   "metadata": {
    "colab_type": "text",
    "id": "uJkIetczCW2d"
   },
   "source": [
    "## EDA (Exploratory Data Analysis)"
   ]
  },
  {
   "cell_type": "code",
   "execution_count": 7,
   "metadata": {
    "colab": {
     "base_uri": "https://localhost:8080/",
     "height": 458
    },
    "colab_type": "code",
    "id": "Dtyj3yV6CW2e",
    "outputId": "a1ff9459-b50e-4414-b7ab-a3baf32d0387"
   },
   "outputs": [
    {
     "data": {
      "image/png": "[encoded data removed]",
      "text/plain": [
       "<Figure size 1080x504 with 1 Axes>"
      ]
     },
     "metadata": {
      "needs_background": "light"
     },
     "output_type": "display_data"
    }
   ],
   "source": [
    "## lets see the number of positive cases by days\n",
    "\n",
    "plt.figure(figsize=(15,7))\n",
    "\n",
    "plt.plot(us_data.No_days,us_data.positive)\n",
    "plt.xlabel('Days After Outbreak')\n",
    "plt.ylabel('Positive Cases')\n",
    "plt.title('Number of Positive Cases by number of days since outbreak in US')\n",
    "plt.show()"
   ]
  },
  {
   "cell_type": "code",
   "execution_count": 8,
   "metadata": {
    "colab": {
     "base_uri": "https://localhost:8080/",
     "height": 458
    },
    "colab_type": "code",
    "id": "hmIsDl-jCW2g",
    "outputId": "db7acd27-e6a9-441e-80ce-3809e56ca428"
   },
   "outputs": [
    {
     "data": {
      "image/png": "[encoded data removed]",
      "text/plain": [
       "<Figure size 1080x504 with 1 Axes>"
      ]
     },
     "metadata": {
      "needs_background": "light"
     },
     "output_type": "display_data"
    }
   ],
   "source": [
    "## lets see the number of negative cases by days\n",
    "\n",
    "plt.figure(figsize=(15,7))\n",
    "\n",
    "plt.plot(us_data.No_days,us_data.negative)\n",
    "plt.xlabel('Days After Outbreak')\n",
    "plt.ylabel('Negative Cases')\n",
    "plt.title('Number of Negative Cases by number of days since outbreak in US')\n",
    "plt.show()"
   ]
  },
  {
   "cell_type": "code",
   "execution_count": 9,
   "metadata": {
    "colab": {
     "base_uri": "https://localhost:8080/",
     "height": 458
    },
    "colab_type": "code",
    "id": "Hntf7aa0CW2j",
    "outputId": "636c07e9-8b15-42af-eb5b-05515bf1f86a"
   },
   "outputs": [
    {
     "data": {
      "image/png": "[encoded data removed]",
      "text/plain": [
       "<Figure size 1080x504 with 1 Axes>"
      ]
     },
     "metadata": {
      "needs_background": "light"
     },
     "output_type": "display_data"
    }
   ],
   "source": [
    "## lets see the number of death cases by days\n",
    "\n",
    "plt.figure(figsize=(15,7))\n",
    "\n",
    "plt.plot(us_data.No_days,us_data.death)\n",
    "plt.xlabel('Days After Outbreak')\n",
    "plt.ylabel('Death or Fatalities')\n",
    "plt.title('Number of Deaths by number of days since outbreak in US')\n",
    "plt.show()"
   ]
  },
  {
   "cell_type": "code",
   "execution_count": 10,
   "metadata": {
    "colab": {
     "base_uri": "https://localhost:8080/",
     "height": 458
    },
    "colab_type": "code",
    "id": "MZbDam4gCW2l",
    "outputId": "402aa046-5905-45c3-e0ff-3c5b5ac38789"
   },
   "outputs": [
    {
     "data": {
      "image/png": "[encoded data removed]",
      "text/plain": [
       "<Figure size 1080x504 with 1 Axes>"
      ]
     },
     "metadata": {
      "needs_background": "light"
     },
     "output_type": "display_data"
    }
   ],
   "source": [
    "## lets see the death increase rate\n",
    "\n",
    "plt.figure(figsize=(15,7))\n",
    "\n",
    "plt.plot(us_data.No_days,us_data.deathIncrease)\n",
    "plt.xlabel('Days After Outbreak')\n",
    "plt.ylabel('Death Increase Rate')\n",
    "plt.title('Number of increased death vs days since outbreak in US')\n",
    "plt.show()"
   ]
  },
  {
   "cell_type": "markdown",
   "metadata": {
    "colab_type": "text",
    "id": "nyPZvtdgCW2n"
   },
   "source": [
    "## Important Insight\n",
    "\n",
    "Death Increase rate doesn't give us a proper indication of the spread of this outbreak as death depends on individuals immune system\n",
    "and many other factors.\n",
    "To actually understand the spread of outbreak we need to calculate the growth factor or spread factor of Covid 19 in United\n",
    "States.\n",
    "\n",
    "We can calculate the Spread Factor based on postive cases Increase each day compared to previus day"
   ]
  },
  {
   "cell_type": "markdown",
   "metadata": {
    "colab_type": "text",
    "id": "K2naVnXlCW2o"
   },
   "source": [
    "## Calculation of Spread Factor"
   ]
  },
  {
   "cell_type": "code",
   "execution_count": 11,
   "metadata": {
    "colab": {},
    "colab_type": "code",
    "id": "iwPQHRHRCW2o"
   },
   "outputs": [],
   "source": [
    "## ascending values based on number of days since outbreak\n",
    "\n",
    "us_data = us_data.sort_values(['No_days'], ascending = True)\n",
    "us_data = us_data.reset_index(drop=True)"
   ]
  },
  {
   "cell_type": "code",
   "execution_count": 12,
   "metadata": {
    "colab": {
     "base_uri": "https://localhost:8080/",
     "height": 309
    },
    "colab_type": "code",
    "id": "kXR9e7-HCW2r",
    "outputId": "6fd87e61-bee0-42af-e685-964beef2d5a5"
   },
   "outputs": [
    {
     "data": {
      "text/html": [
       "<div>\n",
       "<style scoped>\n",
       "    .dataframe tbody tr th:only-of-type {\n",
       "        vertical-align: middle;\n",
       "    }\n",
       "\n",
       "    .dataframe tbody tr th {\n",
       "        vertical-align: top;\n",
       "    }\n",
       "\n",
       "    .dataframe thead th {\n",
       "        text-align: right;\n",
       "    }\n",
       "</style>\n",
       "<table border=\"1\" class=\"dataframe\">\n",
       "  <thead>\n",
       "    <tr style=\"text-align: right;\">\n",
       "      <th></th>\n",
       "      <th>date</th>\n",
       "      <th>states</th>\n",
       "      <th>positive</th>\n",
       "      <th>negative</th>\n",
       "      <th>pending</th>\n",
       "      <th>hospitalizedCurrently</th>\n",
       "      <th>hospitalizedCumulative</th>\n",
       "      <th>inIcuCurrently</th>\n",
       "      <th>inIcuCumulative</th>\n",
       "      <th>onVentilatorCurrently</th>\n",
       "      <th>...</th>\n",
       "      <th>total</th>\n",
       "      <th>totalTestResults</th>\n",
       "      <th>posNeg</th>\n",
       "      <th>deathIncrease</th>\n",
       "      <th>hospitalizedIncrease</th>\n",
       "      <th>negativeIncrease</th>\n",
       "      <th>positiveIncrease</th>\n",
       "      <th>totalTestResultsIncrease</th>\n",
       "      <th>New_Date</th>\n",
       "      <th>No_days</th>\n",
       "    </tr>\n",
       "  </thead>\n",
       "  <tbody>\n",
       "    <tr>\n",
       "      <th>0</th>\n",
       "      <td>20200122</td>\n",
       "      <td>1</td>\n",
       "      <td>1</td>\n",
       "      <td>NaN</td>\n",
       "      <td>NaN</td>\n",
       "      <td>NaN</td>\n",
       "      <td>NaN</td>\n",
       "      <td>NaN</td>\n",
       "      <td>NaN</td>\n",
       "      <td>NaN</td>\n",
       "      <td>...</td>\n",
       "      <td>1</td>\n",
       "      <td>1</td>\n",
       "      <td>1</td>\n",
       "      <td>NaN</td>\n",
       "      <td>NaN</td>\n",
       "      <td>NaN</td>\n",
       "      <td>NaN</td>\n",
       "      <td>NaN</td>\n",
       "      <td>2020-01-22</td>\n",
       "      <td>0 days</td>\n",
       "    </tr>\n",
       "    <tr>\n",
       "      <th>1</th>\n",
       "      <td>20200123</td>\n",
       "      <td>1</td>\n",
       "      <td>1</td>\n",
       "      <td>NaN</td>\n",
       "      <td>NaN</td>\n",
       "      <td>NaN</td>\n",
       "      <td>NaN</td>\n",
       "      <td>NaN</td>\n",
       "      <td>NaN</td>\n",
       "      <td>NaN</td>\n",
       "      <td>...</td>\n",
       "      <td>1</td>\n",
       "      <td>1</td>\n",
       "      <td>1</td>\n",
       "      <td>0.0</td>\n",
       "      <td>0.0</td>\n",
       "      <td>0.0</td>\n",
       "      <td>0.0</td>\n",
       "      <td>0.0</td>\n",
       "      <td>2020-01-23</td>\n",
       "      <td>1 days</td>\n",
       "    </tr>\n",
       "    <tr>\n",
       "      <th>2</th>\n",
       "      <td>20200124</td>\n",
       "      <td>1</td>\n",
       "      <td>1</td>\n",
       "      <td>NaN</td>\n",
       "      <td>NaN</td>\n",
       "      <td>NaN</td>\n",
       "      <td>NaN</td>\n",
       "      <td>NaN</td>\n",
       "      <td>NaN</td>\n",
       "      <td>NaN</td>\n",
       "      <td>...</td>\n",
       "      <td>1</td>\n",
       "      <td>1</td>\n",
       "      <td>1</td>\n",
       "      <td>0.0</td>\n",
       "      <td>0.0</td>\n",
       "      <td>0.0</td>\n",
       "      <td>0.0</td>\n",
       "      <td>0.0</td>\n",
       "      <td>2020-01-24</td>\n",
       "      <td>2 days</td>\n",
       "    </tr>\n",
       "    <tr>\n",
       "      <th>3</th>\n",
       "      <td>20200125</td>\n",
       "      <td>1</td>\n",
       "      <td>1</td>\n",
       "      <td>NaN</td>\n",
       "      <td>NaN</td>\n",
       "      <td>NaN</td>\n",
       "      <td>NaN</td>\n",
       "      <td>NaN</td>\n",
       "      <td>NaN</td>\n",
       "      <td>NaN</td>\n",
       "      <td>...</td>\n",
       "      <td>1</td>\n",
       "      <td>1</td>\n",
       "      <td>1</td>\n",
       "      <td>0.0</td>\n",
       "      <td>0.0</td>\n",
       "      <td>0.0</td>\n",
       "      <td>0.0</td>\n",
       "      <td>0.0</td>\n",
       "      <td>2020-01-25</td>\n",
       "      <td>3 days</td>\n",
       "    </tr>\n",
       "    <tr>\n",
       "      <th>4</th>\n",
       "      <td>20200126</td>\n",
       "      <td>1</td>\n",
       "      <td>1</td>\n",
       "      <td>NaN</td>\n",
       "      <td>NaN</td>\n",
       "      <td>NaN</td>\n",
       "      <td>NaN</td>\n",
       "      <td>NaN</td>\n",
       "      <td>NaN</td>\n",
       "      <td>NaN</td>\n",
       "      <td>...</td>\n",
       "      <td>1</td>\n",
       "      <td>1</td>\n",
       "      <td>1</td>\n",
       "      <td>0.0</td>\n",
       "      <td>0.0</td>\n",
       "      <td>0.0</td>\n",
       "      <td>0.0</td>\n",
       "      <td>0.0</td>\n",
       "      <td>2020-01-26</td>\n",
       "      <td>4 days</td>\n",
       "    </tr>\n",
       "  </tbody>\n",
       "</table>\n",
       "<p>5 rows × 26 columns</p>\n",
       "</div>"
      ],
      "text/plain": [
       "       date  states  positive  negative  pending  hospitalizedCurrently  \\\n",
       "0  20200122       1         1       NaN      NaN                    NaN   \n",
       "1  20200123       1         1       NaN      NaN                    NaN   \n",
       "2  20200124       1         1       NaN      NaN                    NaN   \n",
       "3  20200125       1         1       NaN      NaN                    NaN   \n",
       "4  20200126       1         1       NaN      NaN                    NaN   \n",
       "\n",
       "   hospitalizedCumulative  inIcuCurrently  inIcuCumulative  \\\n",
       "0                     NaN             NaN              NaN   \n",
       "1                     NaN             NaN              NaN   \n",
       "2                     NaN             NaN              NaN   \n",
       "3                     NaN             NaN              NaN   \n",
       "4                     NaN             NaN              NaN   \n",
       "\n",
       "   onVentilatorCurrently  ...  total  totalTestResults posNeg deathIncrease  \\\n",
       "0                    NaN  ...      1                 1      1           NaN   \n",
       "1                    NaN  ...      1                 1      1           0.0   \n",
       "2                    NaN  ...      1                 1      1           0.0   \n",
       "3                    NaN  ...      1                 1      1           0.0   \n",
       "4                    NaN  ...      1                 1      1           0.0   \n",
       "\n",
       "   hospitalizedIncrease  negativeIncrease  positiveIncrease  \\\n",
       "0                   NaN               NaN               NaN   \n",
       "1                   0.0               0.0               0.0   \n",
       "2                   0.0               0.0               0.0   \n",
       "3                   0.0               0.0               0.0   \n",
       "4                   0.0               0.0               0.0   \n",
       "\n",
       "   totalTestResultsIncrease   New_Date  No_days  \n",
       "0                       NaN 2020-01-22   0 days  \n",
       "1                       0.0 2020-01-23   1 days  \n",
       "2                       0.0 2020-01-24   2 days  \n",
       "3                       0.0 2020-01-25   3 days  \n",
       "4                       0.0 2020-01-26   4 days  \n",
       "\n",
       "[5 rows x 26 columns]"
      ]
     },
     "execution_count": 12,
     "metadata": {},
     "output_type": "execute_result"
    }
   ],
   "source": [
    "us_data.head()"
   ]
  },
  {
   "cell_type": "code",
   "execution_count": 13,
   "metadata": {
    "colab": {},
    "colab_type": "code",
    "id": "2xmKP4m1CW2t"
   },
   "outputs": [
    {
     "name": "stderr",
     "output_type": "stream",
     "text": [
      "C:\\Users\\carla\\Anaconda3\\lib\\site-packages\\ipykernel_launcher.py:11: RuntimeWarning: invalid value encountered in double_scalars\n",
      "  # This is added back by InteractiveShellApp.init_path()\n",
      "C:\\Users\\carla\\Anaconda3\\lib\\site-packages\\ipykernel_launcher.py:11: RuntimeWarning: divide by zero encountered in double_scalars\n",
      "  # This is added back by InteractiveShellApp.init_path()\n"
     ]
    }
   ],
   "source": [
    "## calculating the Spread factor for each day in United States\n",
    "\n",
    "## initialize the column\n",
    "us_data['Spread_factor'] = float(0)\n",
    "\n",
    "\n",
    "for val in range(len(us_data.Spread_factor.tolist())):\n",
    "    if val <= 1: ### spread factor for first day of outbreak will be 0 as it depends on previous day\n",
    "        us_data.at[val,'Spread_factor'] = 0\n",
    "    else:\n",
    "        us_data.at[val,'Spread_factor'] = us_data.positiveIncrease[val]/us_data.positiveIncrease[val-1]"
   ]
  },
  {
   "cell_type": "code",
   "execution_count": 14,
   "metadata": {
    "colab": {
     "base_uri": "https://localhost:8080/",
     "height": 309
    },
    "colab_type": "code",
    "id": "EkzdHpWeCW2v",
    "outputId": "1d66a607-7554-4924-8b17-b0c4c7898bcf"
   },
   "outputs": [
    {
     "data": {
      "text/html": [
       "<div>\n",
       "<style scoped>\n",
       "    .dataframe tbody tr th:only-of-type {\n",
       "        vertical-align: middle;\n",
       "    }\n",
       "\n",
       "    .dataframe tbody tr th {\n",
       "        vertical-align: top;\n",
       "    }\n",
       "\n",
       "    .dataframe thead th {\n",
       "        text-align: right;\n",
       "    }\n",
       "</style>\n",
       "<table border=\"1\" class=\"dataframe\">\n",
       "  <thead>\n",
       "    <tr style=\"text-align: right;\">\n",
       "      <th></th>\n",
       "      <th>date</th>\n",
       "      <th>states</th>\n",
       "      <th>positive</th>\n",
       "      <th>negative</th>\n",
       "      <th>pending</th>\n",
       "      <th>hospitalizedCurrently</th>\n",
       "      <th>hospitalizedCumulative</th>\n",
       "      <th>inIcuCurrently</th>\n",
       "      <th>inIcuCumulative</th>\n",
       "      <th>onVentilatorCurrently</th>\n",
       "      <th>...</th>\n",
       "      <th>totalTestResults</th>\n",
       "      <th>posNeg</th>\n",
       "      <th>deathIncrease</th>\n",
       "      <th>hospitalizedIncrease</th>\n",
       "      <th>negativeIncrease</th>\n",
       "      <th>positiveIncrease</th>\n",
       "      <th>totalTestResultsIncrease</th>\n",
       "      <th>New_Date</th>\n",
       "      <th>No_days</th>\n",
       "      <th>Spread_factor</th>\n",
       "    </tr>\n",
       "  </thead>\n",
       "  <tbody>\n",
       "    <tr>\n",
       "      <th>0</th>\n",
       "      <td>20200122</td>\n",
       "      <td>1</td>\n",
       "      <td>1</td>\n",
       "      <td>NaN</td>\n",
       "      <td>NaN</td>\n",
       "      <td>NaN</td>\n",
       "      <td>NaN</td>\n",
       "      <td>NaN</td>\n",
       "      <td>NaN</td>\n",
       "      <td>NaN</td>\n",
       "      <td>...</td>\n",
       "      <td>1</td>\n",
       "      <td>1</td>\n",
       "      <td>NaN</td>\n",
       "      <td>NaN</td>\n",
       "      <td>NaN</td>\n",
       "      <td>NaN</td>\n",
       "      <td>NaN</td>\n",
       "      <td>2020-01-22</td>\n",
       "      <td>0 days</td>\n",
       "      <td>0.0</td>\n",
       "    </tr>\n",
       "    <tr>\n",
       "      <th>1</th>\n",
       "      <td>20200123</td>\n",
       "      <td>1</td>\n",
       "      <td>1</td>\n",
       "      <td>NaN</td>\n",
       "      <td>NaN</td>\n",
       "      <td>NaN</td>\n",
       "      <td>NaN</td>\n",
       "      <td>NaN</td>\n",
       "      <td>NaN</td>\n",
       "      <td>NaN</td>\n",
       "      <td>...</td>\n",
       "      <td>1</td>\n",
       "      <td>1</td>\n",
       "      <td>0.0</td>\n",
       "      <td>0.0</td>\n",
       "      <td>0.0</td>\n",
       "      <td>0.0</td>\n",
       "      <td>0.0</td>\n",
       "      <td>2020-01-23</td>\n",
       "      <td>1 days</td>\n",
       "      <td>0.0</td>\n",
       "    </tr>\n",
       "    <tr>\n",
       "      <th>2</th>\n",
       "      <td>20200124</td>\n",
       "      <td>1</td>\n",
       "      <td>1</td>\n",
       "      <td>NaN</td>\n",
       "      <td>NaN</td>\n",
       "      <td>NaN</td>\n",
       "      <td>NaN</td>\n",
       "      <td>NaN</td>\n",
       "      <td>NaN</td>\n",
       "      <td>NaN</td>\n",
       "      <td>...</td>\n",
       "      <td>1</td>\n",
       "      <td>1</td>\n",
       "      <td>0.0</td>\n",
       "      <td>0.0</td>\n",
       "      <td>0.0</td>\n",
       "      <td>0.0</td>\n",
       "      <td>0.0</td>\n",
       "      <td>2020-01-24</td>\n",
       "      <td>2 days</td>\n",
       "      <td>NaN</td>\n",
       "    </tr>\n",
       "    <tr>\n",
       "      <th>3</th>\n",
       "      <td>20200125</td>\n",
       "      <td>1</td>\n",
       "      <td>1</td>\n",
       "      <td>NaN</td>\n",
       "      <td>NaN</td>\n",
       "      <td>NaN</td>\n",
       "      <td>NaN</td>\n",
       "      <td>NaN</td>\n",
       "      <td>NaN</td>\n",
       "      <td>NaN</td>\n",
       "      <td>...</td>\n",
       "      <td>1</td>\n",
       "      <td>1</td>\n",
       "      <td>0.0</td>\n",
       "      <td>0.0</td>\n",
       "      <td>0.0</td>\n",
       "      <td>0.0</td>\n",
       "      <td>0.0</td>\n",
       "      <td>2020-01-25</td>\n",
       "      <td>3 days</td>\n",
       "      <td>NaN</td>\n",
       "    </tr>\n",
       "    <tr>\n",
       "      <th>4</th>\n",
       "      <td>20200126</td>\n",
       "      <td>1</td>\n",
       "      <td>1</td>\n",
       "      <td>NaN</td>\n",
       "      <td>NaN</td>\n",
       "      <td>NaN</td>\n",
       "      <td>NaN</td>\n",
       "      <td>NaN</td>\n",
       "      <td>NaN</td>\n",
       "      <td>NaN</td>\n",
       "      <td>...</td>\n",
       "      <td>1</td>\n",
       "      <td>1</td>\n",
       "      <td>0.0</td>\n",
       "      <td>0.0</td>\n",
       "      <td>0.0</td>\n",
       "      <td>0.0</td>\n",
       "      <td>0.0</td>\n",
       "      <td>2020-01-26</td>\n",
       "      <td>4 days</td>\n",
       "      <td>NaN</td>\n",
       "    </tr>\n",
       "  </tbody>\n",
       "</table>\n",
       "<p>5 rows × 27 columns</p>\n",
       "</div>"
      ],
      "text/plain": [
       "       date  states  positive  negative  pending  hospitalizedCurrently  \\\n",
       "0  20200122       1         1       NaN      NaN                    NaN   \n",
       "1  20200123       1         1       NaN      NaN                    NaN   \n",
       "2  20200124       1         1       NaN      NaN                    NaN   \n",
       "3  20200125       1         1       NaN      NaN                    NaN   \n",
       "4  20200126       1         1       NaN      NaN                    NaN   \n",
       "\n",
       "   hospitalizedCumulative  inIcuCurrently  inIcuCumulative  \\\n",
       "0                     NaN             NaN              NaN   \n",
       "1                     NaN             NaN              NaN   \n",
       "2                     NaN             NaN              NaN   \n",
       "3                     NaN             NaN              NaN   \n",
       "4                     NaN             NaN              NaN   \n",
       "\n",
       "   onVentilatorCurrently  ...  totalTestResults  posNeg deathIncrease  \\\n",
       "0                    NaN  ...                 1       1           NaN   \n",
       "1                    NaN  ...                 1       1           0.0   \n",
       "2                    NaN  ...                 1       1           0.0   \n",
       "3                    NaN  ...                 1       1           0.0   \n",
       "4                    NaN  ...                 1       1           0.0   \n",
       "\n",
       "  hospitalizedIncrease  negativeIncrease  positiveIncrease  \\\n",
       "0                  NaN               NaN               NaN   \n",
       "1                  0.0               0.0               0.0   \n",
       "2                  0.0               0.0               0.0   \n",
       "3                  0.0               0.0               0.0   \n",
       "4                  0.0               0.0               0.0   \n",
       "\n",
       "   totalTestResultsIncrease   New_Date  No_days  Spread_factor  \n",
       "0                       NaN 2020-01-22   0 days            0.0  \n",
       "1                       0.0 2020-01-23   1 days            0.0  \n",
       "2                       0.0 2020-01-24   2 days            NaN  \n",
       "3                       0.0 2020-01-25   3 days            NaN  \n",
       "4                       0.0 2020-01-26   4 days            NaN  \n",
       "\n",
       "[5 rows x 27 columns]"
      ]
     },
     "execution_count": 14,
     "metadata": {},
     "output_type": "execute_result"
    }
   ],
   "source": [
    "## lets check the values of Spread factor column\n",
    "\n",
    "us_data.head()"
   ]
  },
  {
   "cell_type": "code",
   "execution_count": 15,
   "metadata": {
    "colab": {
     "base_uri": "https://localhost:8080/",
     "height": 458
    },
    "colab_type": "code",
    "id": "0GOYHHuiCW2x",
    "outputId": "35aec6e8-65f9-44b2-92e9-7e5f96bf0924"
   },
   "outputs": [
    {
     "data": {
      "image/png": "[encoded data removed]",
      "text/plain": [
       "<Figure size 1080x504 with 1 Axes>"
      ]
     },
     "metadata": {
      "needs_background": "light"
     },
     "output_type": "display_data"
    }
   ],
   "source": [
    "## lets visualize the growth factor since the number of days of outbreak\n",
    "\n",
    "## lets see the death increase rate\n",
    "\n",
    "plt.figure(figsize=(15,7))\n",
    "\n",
    "plt.plot(us_data.No_days,us_data.Spread_factor)\n",
    "plt.xlabel('Days After Outbreak')\n",
    "plt.ylabel('Spread Factor')\n",
    "plt.title('Spread Factor vs days since outbreak in US')\n",
    "plt.show()"
   ]
  },
  {
   "cell_type": "markdown",
   "metadata": {
    "colab_type": "text",
    "id": "ivz-UuxACW20"
   },
   "source": [
    "## Importing Statewise data and cleaning it "
   ]
  },
  {
   "cell_type": "code",
   "execution_count": 16,
   "metadata": {
    "colab": {},
    "colab_type": "code",
    "id": "ZFdBOtgVCW20"
   },
   "outputs": [],
   "source": [
    "us_state = pd.read_csv(\"us_states_covid19_daily.csv\")"
   ]
  },
  {
   "cell_type": "code",
   "execution_count": 17,
   "metadata": {
    "colab": {
     "base_uri": "https://localhost:8080/",
     "height": 309
    },
    "colab_type": "code",
    "id": "ZvMc3BZHCW22",
    "outputId": "cf8ae3a2-c27a-4d3c-d1a1-9e7f9cd115e8"
   },
   "outputs": [
    {
     "data": {
      "text/html": [
       "<div>\n",
       "<style scoped>\n",
       "    .dataframe tbody tr th:only-of-type {\n",
       "        vertical-align: middle;\n",
       "    }\n",
       "\n",
       "    .dataframe tbody tr th {\n",
       "        vertical-align: top;\n",
       "    }\n",
       "\n",
       "    .dataframe thead th {\n",
       "        text-align: right;\n",
       "    }\n",
       "</style>\n",
       "<table border=\"1\" class=\"dataframe\">\n",
       "  <thead>\n",
       "    <tr style=\"text-align: right;\">\n",
       "      <th></th>\n",
       "      <th>date</th>\n",
       "      <th>state</th>\n",
       "      <th>positive</th>\n",
       "      <th>negative</th>\n",
       "      <th>pending</th>\n",
       "      <th>hospitalizedCurrently</th>\n",
       "      <th>hospitalizedCumulative</th>\n",
       "      <th>inIcuCurrently</th>\n",
       "      <th>inIcuCumulative</th>\n",
       "      <th>onVentilatorCurrently</th>\n",
       "      <th>...</th>\n",
       "      <th>hospitalized</th>\n",
       "      <th>total</th>\n",
       "      <th>totalTestResults</th>\n",
       "      <th>posNeg</th>\n",
       "      <th>fips</th>\n",
       "      <th>deathIncrease</th>\n",
       "      <th>hospitalizedIncrease</th>\n",
       "      <th>negativeIncrease</th>\n",
       "      <th>positiveIncrease</th>\n",
       "      <th>totalTestResultsIncrease</th>\n",
       "    </tr>\n",
       "  </thead>\n",
       "  <tbody>\n",
       "    <tr>\n",
       "      <th>0</th>\n",
       "      <td>20200425</td>\n",
       "      <td>AK</td>\n",
       "      <td>339.0</td>\n",
       "      <td>15393.0</td>\n",
       "      <td>NaN</td>\n",
       "      <td>32.0</td>\n",
       "      <td>NaN</td>\n",
       "      <td>NaN</td>\n",
       "      <td>NaN</td>\n",
       "      <td>NaN</td>\n",
       "      <td>...</td>\n",
       "      <td>NaN</td>\n",
       "      <td>15732.0</td>\n",
       "      <td>15732.0</td>\n",
       "      <td>15732.0</td>\n",
       "      <td>2</td>\n",
       "      <td>0.0</td>\n",
       "      <td>0.0</td>\n",
       "      <td>3451.0</td>\n",
       "      <td>0.0</td>\n",
       "      <td>3451.0</td>\n",
       "    </tr>\n",
       "    <tr>\n",
       "      <th>1</th>\n",
       "      <td>20200425</td>\n",
       "      <td>AL</td>\n",
       "      <td>6137.0</td>\n",
       "      <td>65207.0</td>\n",
       "      <td>NaN</td>\n",
       "      <td>NaN</td>\n",
       "      <td>839.0</td>\n",
       "      <td>NaN</td>\n",
       "      <td>288.0</td>\n",
       "      <td>NaN</td>\n",
       "      <td>...</td>\n",
       "      <td>839.0</td>\n",
       "      <td>71344.0</td>\n",
       "      <td>71344.0</td>\n",
       "      <td>71344.0</td>\n",
       "      <td>1</td>\n",
       "      <td>15.0</td>\n",
       "      <td>71.0</td>\n",
       "      <td>18344.0</td>\n",
       "      <td>305.0</td>\n",
       "      <td>18649.0</td>\n",
       "    </tr>\n",
       "    <tr>\n",
       "      <th>2</th>\n",
       "      <td>20200425</td>\n",
       "      <td>AR</td>\n",
       "      <td>2829.0</td>\n",
       "      <td>35224.0</td>\n",
       "      <td>NaN</td>\n",
       "      <td>104.0</td>\n",
       "      <td>291.0</td>\n",
       "      <td>NaN</td>\n",
       "      <td>NaN</td>\n",
       "      <td>25.0</td>\n",
       "      <td>...</td>\n",
       "      <td>291.0</td>\n",
       "      <td>38053.0</td>\n",
       "      <td>38053.0</td>\n",
       "      <td>38053.0</td>\n",
       "      <td>5</td>\n",
       "      <td>2.0</td>\n",
       "      <td>0.0</td>\n",
       "      <td>2387.0</td>\n",
       "      <td>88.0</td>\n",
       "      <td>2475.0</td>\n",
       "    </tr>\n",
       "    <tr>\n",
       "      <th>3</th>\n",
       "      <td>20200425</td>\n",
       "      <td>AS</td>\n",
       "      <td>0.0</td>\n",
       "      <td>3.0</td>\n",
       "      <td>17.0</td>\n",
       "      <td>NaN</td>\n",
       "      <td>NaN</td>\n",
       "      <td>NaN</td>\n",
       "      <td>NaN</td>\n",
       "      <td>NaN</td>\n",
       "      <td>...</td>\n",
       "      <td>NaN</td>\n",
       "      <td>20.0</td>\n",
       "      <td>3.0</td>\n",
       "      <td>3.0</td>\n",
       "      <td>60</td>\n",
       "      <td>0.0</td>\n",
       "      <td>0.0</td>\n",
       "      <td>0.0</td>\n",
       "      <td>0.0</td>\n",
       "      <td>0.0</td>\n",
       "    </tr>\n",
       "    <tr>\n",
       "      <th>4</th>\n",
       "      <td>20200425</td>\n",
       "      <td>AZ</td>\n",
       "      <td>6280.0</td>\n",
       "      <td>56228.0</td>\n",
       "      <td>NaN</td>\n",
       "      <td>697.0</td>\n",
       "      <td>1022.0</td>\n",
       "      <td>313.0</td>\n",
       "      <td>NaN</td>\n",
       "      <td>191.0</td>\n",
       "      <td>...</td>\n",
       "      <td>1022.0</td>\n",
       "      <td>62508.0</td>\n",
       "      <td>62508.0</td>\n",
       "      <td>62508.0</td>\n",
       "      <td>4</td>\n",
       "      <td>0.0</td>\n",
       "      <td>38.0</td>\n",
       "      <td>1559.0</td>\n",
       "      <td>235.0</td>\n",
       "      <td>1794.0</td>\n",
       "    </tr>\n",
       "  </tbody>\n",
       "</table>\n",
       "<p>5 rows × 25 columns</p>\n",
       "</div>"
      ],
      "text/plain": [
       "       date state  positive  negative  pending  hospitalizedCurrently  \\\n",
       "0  20200425    AK     339.0   15393.0      NaN                   32.0   \n",
       "1  20200425    AL    6137.0   65207.0      NaN                    NaN   \n",
       "2  20200425    AR    2829.0   35224.0      NaN                  104.0   \n",
       "3  20200425    AS       0.0       3.0     17.0                    NaN   \n",
       "4  20200425    AZ    6280.0   56228.0      NaN                  697.0   \n",
       "\n",
       "   hospitalizedCumulative  inIcuCurrently  inIcuCumulative  \\\n",
       "0                     NaN             NaN              NaN   \n",
       "1                   839.0             NaN            288.0   \n",
       "2                   291.0             NaN              NaN   \n",
       "3                     NaN             NaN              NaN   \n",
       "4                  1022.0           313.0              NaN   \n",
       "\n",
       "   onVentilatorCurrently  ...  hospitalized    total totalTestResults  \\\n",
       "0                    NaN  ...           NaN  15732.0          15732.0   \n",
       "1                    NaN  ...         839.0  71344.0          71344.0   \n",
       "2                   25.0  ...         291.0  38053.0          38053.0   \n",
       "3                    NaN  ...           NaN     20.0              3.0   \n",
       "4                  191.0  ...        1022.0  62508.0          62508.0   \n",
       "\n",
       "    posNeg  fips  deathIncrease  hospitalizedIncrease  negativeIncrease  \\\n",
       "0  15732.0     2            0.0                   0.0            3451.0   \n",
       "1  71344.0     1           15.0                  71.0           18344.0   \n",
       "2  38053.0     5            2.0                   0.0            2387.0   \n",
       "3      3.0    60            0.0                   0.0               0.0   \n",
       "4  62508.0     4            0.0                  38.0            1559.0   \n",
       "\n",
       "   positiveIncrease  totalTestResultsIncrease  \n",
       "0               0.0                    3451.0  \n",
       "1             305.0                   18649.0  \n",
       "2              88.0                    2475.0  \n",
       "3               0.0                       0.0  \n",
       "4             235.0                    1794.0  \n",
       "\n",
       "[5 rows x 25 columns]"
      ]
     },
     "execution_count": 17,
     "metadata": {},
     "output_type": "execute_result"
    }
   ],
   "source": [
    "us_state.head()"
   ]
  },
  {
   "cell_type": "code",
   "execution_count": 18,
   "metadata": {
    "colab": {},
    "colab_type": "code",
    "id": "Y5MlIKKVCW24"
   },
   "outputs": [],
   "source": [
    "### first convert the date column to yyyy mm dd format\n",
    "\n",
    "us_state['New_Date'] = pd.to_datetime(us_state.date, format='%Y%m%d')\n"
   ]
  },
  {
   "cell_type": "code",
   "execution_count": 19,
   "metadata": {
    "colab": {},
    "colab_type": "code",
    "id": "tg_dEDCpCW26"
   },
   "outputs": [],
   "source": [
    "### then create a new column No_days which states number of days passed since first outbreak in US\n",
    "\n",
    "us_state['No_days'] = us_state['New_Date'] - min(us_state['New_Date'])"
   ]
  },
  {
   "cell_type": "code",
   "execution_count": 20,
   "metadata": {
    "colab": {},
    "colab_type": "code",
    "id": "NKid-iJuCW28"
   },
   "outputs": [],
   "source": [
    "us_state.drop(columns='New_Date',inplace=True)"
   ]
  },
  {
   "cell_type": "code",
   "execution_count": 21,
   "metadata": {
    "colab": {
     "base_uri": "https://localhost:8080/",
     "height": 309
    },
    "colab_type": "code",
    "id": "C4sBs0adCW2-",
    "outputId": "77181f47-837b-4fdf-e445-82fb923c6055"
   },
   "outputs": [
    {
     "data": {
      "text/html": [
       "<div>\n",
       "<style scoped>\n",
       "    .dataframe tbody tr th:only-of-type {\n",
       "        vertical-align: middle;\n",
       "    }\n",
       "\n",
       "    .dataframe tbody tr th {\n",
       "        vertical-align: top;\n",
       "    }\n",
       "\n",
       "    .dataframe thead th {\n",
       "        text-align: right;\n",
       "    }\n",
       "</style>\n",
       "<table border=\"1\" class=\"dataframe\">\n",
       "  <thead>\n",
       "    <tr style=\"text-align: right;\">\n",
       "      <th></th>\n",
       "      <th>date</th>\n",
       "      <th>state</th>\n",
       "      <th>positive</th>\n",
       "      <th>negative</th>\n",
       "      <th>pending</th>\n",
       "      <th>hospitalizedCurrently</th>\n",
       "      <th>hospitalizedCumulative</th>\n",
       "      <th>inIcuCurrently</th>\n",
       "      <th>inIcuCumulative</th>\n",
       "      <th>onVentilatorCurrently</th>\n",
       "      <th>...</th>\n",
       "      <th>total</th>\n",
       "      <th>totalTestResults</th>\n",
       "      <th>posNeg</th>\n",
       "      <th>fips</th>\n",
       "      <th>deathIncrease</th>\n",
       "      <th>hospitalizedIncrease</th>\n",
       "      <th>negativeIncrease</th>\n",
       "      <th>positiveIncrease</th>\n",
       "      <th>totalTestResultsIncrease</th>\n",
       "      <th>No_days</th>\n",
       "    </tr>\n",
       "  </thead>\n",
       "  <tbody>\n",
       "    <tr>\n",
       "      <th>0</th>\n",
       "      <td>20200425</td>\n",
       "      <td>AK</td>\n",
       "      <td>339.0</td>\n",
       "      <td>15393.0</td>\n",
       "      <td>NaN</td>\n",
       "      <td>32.0</td>\n",
       "      <td>NaN</td>\n",
       "      <td>NaN</td>\n",
       "      <td>NaN</td>\n",
       "      <td>NaN</td>\n",
       "      <td>...</td>\n",
       "      <td>15732.0</td>\n",
       "      <td>15732.0</td>\n",
       "      <td>15732.0</td>\n",
       "      <td>2</td>\n",
       "      <td>0.0</td>\n",
       "      <td>0.0</td>\n",
       "      <td>3451.0</td>\n",
       "      <td>0.0</td>\n",
       "      <td>3451.0</td>\n",
       "      <td>94 days</td>\n",
       "    </tr>\n",
       "    <tr>\n",
       "      <th>1</th>\n",
       "      <td>20200425</td>\n",
       "      <td>AL</td>\n",
       "      <td>6137.0</td>\n",
       "      <td>65207.0</td>\n",
       "      <td>NaN</td>\n",
       "      <td>NaN</td>\n",
       "      <td>839.0</td>\n",
       "      <td>NaN</td>\n",
       "      <td>288.0</td>\n",
       "      <td>NaN</td>\n",
       "      <td>...</td>\n",
       "      <td>71344.0</td>\n",
       "      <td>71344.0</td>\n",
       "      <td>71344.0</td>\n",
       "      <td>1</td>\n",
       "      <td>15.0</td>\n",
       "      <td>71.0</td>\n",
       "      <td>18344.0</td>\n",
       "      <td>305.0</td>\n",
       "      <td>18649.0</td>\n",
       "      <td>94 days</td>\n",
       "    </tr>\n",
       "    <tr>\n",
       "      <th>2</th>\n",
       "      <td>20200425</td>\n",
       "      <td>AR</td>\n",
       "      <td>2829.0</td>\n",
       "      <td>35224.0</td>\n",
       "      <td>NaN</td>\n",
       "      <td>104.0</td>\n",
       "      <td>291.0</td>\n",
       "      <td>NaN</td>\n",
       "      <td>NaN</td>\n",
       "      <td>25.0</td>\n",
       "      <td>...</td>\n",
       "      <td>38053.0</td>\n",
       "      <td>38053.0</td>\n",
       "      <td>38053.0</td>\n",
       "      <td>5</td>\n",
       "      <td>2.0</td>\n",
       "      <td>0.0</td>\n",
       "      <td>2387.0</td>\n",
       "      <td>88.0</td>\n",
       "      <td>2475.0</td>\n",
       "      <td>94 days</td>\n",
       "    </tr>\n",
       "    <tr>\n",
       "      <th>3</th>\n",
       "      <td>20200425</td>\n",
       "      <td>AS</td>\n",
       "      <td>0.0</td>\n",
       "      <td>3.0</td>\n",
       "      <td>17.0</td>\n",
       "      <td>NaN</td>\n",
       "      <td>NaN</td>\n",
       "      <td>NaN</td>\n",
       "      <td>NaN</td>\n",
       "      <td>NaN</td>\n",
       "      <td>...</td>\n",
       "      <td>20.0</td>\n",
       "      <td>3.0</td>\n",
       "      <td>3.0</td>\n",
       "      <td>60</td>\n",
       "      <td>0.0</td>\n",
       "      <td>0.0</td>\n",
       "      <td>0.0</td>\n",
       "      <td>0.0</td>\n",
       "      <td>0.0</td>\n",
       "      <td>94 days</td>\n",
       "    </tr>\n",
       "    <tr>\n",
       "      <th>4</th>\n",
       "      <td>20200425</td>\n",
       "      <td>AZ</td>\n",
       "      <td>6280.0</td>\n",
       "      <td>56228.0</td>\n",
       "      <td>NaN</td>\n",
       "      <td>697.0</td>\n",
       "      <td>1022.0</td>\n",
       "      <td>313.0</td>\n",
       "      <td>NaN</td>\n",
       "      <td>191.0</td>\n",
       "      <td>...</td>\n",
       "      <td>62508.0</td>\n",
       "      <td>62508.0</td>\n",
       "      <td>62508.0</td>\n",
       "      <td>4</td>\n",
       "      <td>0.0</td>\n",
       "      <td>38.0</td>\n",
       "      <td>1559.0</td>\n",
       "      <td>235.0</td>\n",
       "      <td>1794.0</td>\n",
       "      <td>94 days</td>\n",
       "    </tr>\n",
       "  </tbody>\n",
       "</table>\n",
       "<p>5 rows × 26 columns</p>\n",
       "</div>"
      ],
      "text/plain": [
       "       date state  positive  negative  pending  hospitalizedCurrently  \\\n",
       "0  20200425    AK     339.0   15393.0      NaN                   32.0   \n",
       "1  20200425    AL    6137.0   65207.0      NaN                    NaN   \n",
       "2  20200425    AR    2829.0   35224.0      NaN                  104.0   \n",
       "3  20200425    AS       0.0       3.0     17.0                    NaN   \n",
       "4  20200425    AZ    6280.0   56228.0      NaN                  697.0   \n",
       "\n",
       "   hospitalizedCumulative  inIcuCurrently  inIcuCumulative  \\\n",
       "0                     NaN             NaN              NaN   \n",
       "1                   839.0             NaN            288.0   \n",
       "2                   291.0             NaN              NaN   \n",
       "3                     NaN             NaN              NaN   \n",
       "4                  1022.0           313.0              NaN   \n",
       "\n",
       "   onVentilatorCurrently  ...    total  totalTestResults   posNeg fips  \\\n",
       "0                    NaN  ...  15732.0           15732.0  15732.0    2   \n",
       "1                    NaN  ...  71344.0           71344.0  71344.0    1   \n",
       "2                   25.0  ...  38053.0           38053.0  38053.0    5   \n",
       "3                    NaN  ...     20.0               3.0      3.0   60   \n",
       "4                  191.0  ...  62508.0           62508.0  62508.0    4   \n",
       "\n",
       "   deathIncrease  hospitalizedIncrease  negativeIncrease  positiveIncrease  \\\n",
       "0            0.0                   0.0            3451.0               0.0   \n",
       "1           15.0                  71.0           18344.0             305.0   \n",
       "2            2.0                   0.0            2387.0              88.0   \n",
       "3            0.0                   0.0               0.0               0.0   \n",
       "4            0.0                  38.0            1559.0             235.0   \n",
       "\n",
       "   totalTestResultsIncrease  No_days  \n",
       "0                    3451.0  94 days  \n",
       "1                   18649.0  94 days  \n",
       "2                    2475.0  94 days  \n",
       "3                       0.0  94 days  \n",
       "4                    1794.0  94 days  \n",
       "\n",
       "[5 rows x 26 columns]"
      ]
     },
     "execution_count": 21,
     "metadata": {},
     "output_type": "execute_result"
    }
   ],
   "source": [
    "us_state.head()"
   ]
  },
  {
   "cell_type": "markdown",
   "metadata": {
    "colab_type": "text",
    "id": "-WSMIbe9CW3A"
   },
   "source": [
    "## Analyze states with most outbreak"
   ]
  },
  {
   "cell_type": "markdown",
   "metadata": {
    "colab_type": "text",
    "id": "VDxKGaL-CW3A"
   },
   "source": [
    "### New York , Washington, California, Louisiana, Texas"
   ]
  },
  {
   "cell_type": "code",
   "execution_count": 22,
   "metadata": {
    "colab": {},
    "colab_type": "code",
    "id": "CqX12ucCCW3B"
   },
   "outputs": [],
   "source": [
    "df_New_York = us_state.loc[us_state['state'] == 'NY']\n"
   ]
  },
  {
   "cell_type": "code",
   "execution_count": 23,
   "metadata": {
    "colab": {
     "base_uri": "https://localhost:8080/",
     "height": 309
    },
    "colab_type": "code",
    "id": "PC7-rKhTCW3D",
    "outputId": "5bc4df71-877f-4f91-eea0-74917a812119"
   },
   "outputs": [
    {
     "data": {
      "text/html": [
       "<div>\n",
       "<style scoped>\n",
       "    .dataframe tbody tr th:only-of-type {\n",
       "        vertical-align: middle;\n",
       "    }\n",
       "\n",
       "    .dataframe tbody tr th {\n",
       "        vertical-align: top;\n",
       "    }\n",
       "\n",
       "    .dataframe thead th {\n",
       "        text-align: right;\n",
       "    }\n",
       "</style>\n",
       "<table border=\"1\" class=\"dataframe\">\n",
       "  <thead>\n",
       "    <tr style=\"text-align: right;\">\n",
       "      <th></th>\n",
       "      <th>date</th>\n",
       "      <th>state</th>\n",
       "      <th>positive</th>\n",
       "      <th>negative</th>\n",
       "      <th>pending</th>\n",
       "      <th>hospitalizedCurrently</th>\n",
       "      <th>hospitalizedCumulative</th>\n",
       "      <th>inIcuCurrently</th>\n",
       "      <th>inIcuCumulative</th>\n",
       "      <th>onVentilatorCurrently</th>\n",
       "      <th>...</th>\n",
       "      <th>total</th>\n",
       "      <th>totalTestResults</th>\n",
       "      <th>posNeg</th>\n",
       "      <th>fips</th>\n",
       "      <th>deathIncrease</th>\n",
       "      <th>hospitalizedIncrease</th>\n",
       "      <th>negativeIncrease</th>\n",
       "      <th>positiveIncrease</th>\n",
       "      <th>totalTestResultsIncrease</th>\n",
       "      <th>No_days</th>\n",
       "    </tr>\n",
       "  </thead>\n",
       "  <tbody>\n",
       "    <tr>\n",
       "      <th>37</th>\n",
       "      <td>20200425</td>\n",
       "      <td>NY</td>\n",
       "      <td>282143.0</td>\n",
       "      <td>495425.0</td>\n",
       "      <td>NaN</td>\n",
       "      <td>13524.0</td>\n",
       "      <td>57103.0</td>\n",
       "      <td>5016.0</td>\n",
       "      <td>NaN</td>\n",
       "      <td>NaN</td>\n",
       "      <td>...</td>\n",
       "      <td>777568.0</td>\n",
       "      <td>777568.0</td>\n",
       "      <td>777568.0</td>\n",
       "      <td>36</td>\n",
       "      <td>437.0</td>\n",
       "      <td>0.0</td>\n",
       "      <td>36359.0</td>\n",
       "      <td>10553.0</td>\n",
       "      <td>46912.0</td>\n",
       "      <td>94 days</td>\n",
       "    </tr>\n",
       "    <tr>\n",
       "      <th>93</th>\n",
       "      <td>20200424</td>\n",
       "      <td>NY</td>\n",
       "      <td>271590.0</td>\n",
       "      <td>459066.0</td>\n",
       "      <td>NaN</td>\n",
       "      <td>14258.0</td>\n",
       "      <td>57103.0</td>\n",
       "      <td>5016.0</td>\n",
       "      <td>NaN</td>\n",
       "      <td>NaN</td>\n",
       "      <td>...</td>\n",
       "      <td>730656.0</td>\n",
       "      <td>730656.0</td>\n",
       "      <td>730656.0</td>\n",
       "      <td>36</td>\n",
       "      <td>422.0</td>\n",
       "      <td>0.0</td>\n",
       "      <td>26606.0</td>\n",
       "      <td>8130.0</td>\n",
       "      <td>34736.0</td>\n",
       "      <td>93 days</td>\n",
       "    </tr>\n",
       "    <tr>\n",
       "      <th>149</th>\n",
       "      <td>20200423</td>\n",
       "      <td>NY</td>\n",
       "      <td>263460.0</td>\n",
       "      <td>432460.0</td>\n",
       "      <td>NaN</td>\n",
       "      <td>15021.0</td>\n",
       "      <td>57103.0</td>\n",
       "      <td>5016.0</td>\n",
       "      <td>NaN</td>\n",
       "      <td>NaN</td>\n",
       "      <td>...</td>\n",
       "      <td>695920.0</td>\n",
       "      <td>695920.0</td>\n",
       "      <td>695920.0</td>\n",
       "      <td>36</td>\n",
       "      <td>438.0</td>\n",
       "      <td>0.0</td>\n",
       "      <td>19694.0</td>\n",
       "      <td>6244.0</td>\n",
       "      <td>25938.0</td>\n",
       "      <td>92 days</td>\n",
       "    </tr>\n",
       "    <tr>\n",
       "      <th>205</th>\n",
       "      <td>20200422</td>\n",
       "      <td>NY</td>\n",
       "      <td>257216.0</td>\n",
       "      <td>412766.0</td>\n",
       "      <td>NaN</td>\n",
       "      <td>15599.0</td>\n",
       "      <td>57103.0</td>\n",
       "      <td>5016.0</td>\n",
       "      <td>NaN</td>\n",
       "      <td>NaN</td>\n",
       "      <td>...</td>\n",
       "      <td>669982.0</td>\n",
       "      <td>669982.0</td>\n",
       "      <td>669982.0</td>\n",
       "      <td>36</td>\n",
       "      <td>474.0</td>\n",
       "      <td>0.0</td>\n",
       "      <td>15131.0</td>\n",
       "      <td>5526.0</td>\n",
       "      <td>20657.0</td>\n",
       "      <td>91 days</td>\n",
       "    </tr>\n",
       "    <tr>\n",
       "      <th>261</th>\n",
       "      <td>20200421</td>\n",
       "      <td>NY</td>\n",
       "      <td>251690.0</td>\n",
       "      <td>397635.0</td>\n",
       "      <td>NaN</td>\n",
       "      <td>16076.0</td>\n",
       "      <td>57103.0</td>\n",
       "      <td>5016.0</td>\n",
       "      <td>NaN</td>\n",
       "      <td>NaN</td>\n",
       "      <td>...</td>\n",
       "      <td>649325.0</td>\n",
       "      <td>649325.0</td>\n",
       "      <td>649325.0</td>\n",
       "      <td>36</td>\n",
       "      <td>481.0</td>\n",
       "      <td>0.0</td>\n",
       "      <td>11286.0</td>\n",
       "      <td>4178.0</td>\n",
       "      <td>15464.0</td>\n",
       "      <td>90 days</td>\n",
       "    </tr>\n",
       "  </tbody>\n",
       "</table>\n",
       "<p>5 rows × 26 columns</p>\n",
       "</div>"
      ],
      "text/plain": [
       "         date state  positive  negative  pending  hospitalizedCurrently  \\\n",
       "37   20200425    NY  282143.0  495425.0      NaN                13524.0   \n",
       "93   20200424    NY  271590.0  459066.0      NaN                14258.0   \n",
       "149  20200423    NY  263460.0  432460.0      NaN                15021.0   \n",
       "205  20200422    NY  257216.0  412766.0      NaN                15599.0   \n",
       "261  20200421    NY  251690.0  397635.0      NaN                16076.0   \n",
       "\n",
       "     hospitalizedCumulative  inIcuCurrently  inIcuCumulative  \\\n",
       "37                  57103.0          5016.0              NaN   \n",
       "93                  57103.0          5016.0              NaN   \n",
       "149                 57103.0          5016.0              NaN   \n",
       "205                 57103.0          5016.0              NaN   \n",
       "261                 57103.0          5016.0              NaN   \n",
       "\n",
       "     onVentilatorCurrently  ...     total  totalTestResults    posNeg fips  \\\n",
       "37                     NaN  ...  777568.0          777568.0  777568.0   36   \n",
       "93                     NaN  ...  730656.0          730656.0  730656.0   36   \n",
       "149                    NaN  ...  695920.0          695920.0  695920.0   36   \n",
       "205                    NaN  ...  669982.0          669982.0  669982.0   36   \n",
       "261                    NaN  ...  649325.0          649325.0  649325.0   36   \n",
       "\n",
       "     deathIncrease  hospitalizedIncrease  negativeIncrease  positiveIncrease  \\\n",
       "37           437.0                   0.0           36359.0           10553.0   \n",
       "93           422.0                   0.0           26606.0            8130.0   \n",
       "149          438.0                   0.0           19694.0            6244.0   \n",
       "205          474.0                   0.0           15131.0            5526.0   \n",
       "261          481.0                   0.0           11286.0            4178.0   \n",
       "\n",
       "     totalTestResultsIncrease  No_days  \n",
       "37                    46912.0  94 days  \n",
       "93                    34736.0  93 days  \n",
       "149                   25938.0  92 days  \n",
       "205                   20657.0  91 days  \n",
       "261                   15464.0  90 days  \n",
       "\n",
       "[5 rows x 26 columns]"
      ]
     },
     "execution_count": 23,
     "metadata": {},
     "output_type": "execute_result"
    }
   ],
   "source": [
    "df_New_York.head()"
   ]
  },
  {
   "cell_type": "code",
   "execution_count": 24,
   "metadata": {
    "colab": {},
    "colab_type": "code",
    "id": "42isqJM5CW3F"
   },
   "outputs": [],
   "source": [
    "df_Washington = us_state.loc[us_state['state'] == 'WA']\n"
   ]
  },
  {
   "cell_type": "code",
   "execution_count": 25,
   "metadata": {
    "colab": {},
    "colab_type": "code",
    "id": "rQcQEEWWCW3H"
   },
   "outputs": [],
   "source": [
    "df_Texas = us_state.loc[us_state['state'] == 'TX']\n"
   ]
  },
  {
   "cell_type": "code",
   "execution_count": 26,
   "metadata": {
    "colab": {},
    "colab_type": "code",
    "id": "KxxJBU4RCW3J"
   },
   "outputs": [],
   "source": [
    "df_California = us_state.loc[us_state['state']=='CA']"
   ]
  },
  {
   "cell_type": "code",
   "execution_count": 27,
   "metadata": {
    "colab": {},
    "colab_type": "code",
    "id": "fVNsVTUvCW3L"
   },
   "outputs": [],
   "source": [
    "df_Louisinia = us_state.loc[us_state['state']=='LA']"
   ]
  },
  {
   "cell_type": "markdown",
   "metadata": {
    "colab_type": "text",
    "id": "goOOZzFTCW3M"
   },
   "source": [
    "## Positive Cases comparision in these states"
   ]
  },
  {
   "cell_type": "code",
   "execution_count": 28,
   "metadata": {
    "colab": {
     "base_uri": "https://localhost:8080/",
     "height": 567
    },
    "colab_type": "code",
    "id": "y0yoHX1VCW3N",
    "outputId": "c1fb8814-a91b-43a1-bf93-63700a4c2a3d"
   },
   "outputs": [
    {
     "data": {
      "image/png": "[encoded data removed]",
      "text/plain": [
       "<Figure size 1080x648 with 1 Axes>"
      ]
     },
     "metadata": {
      "needs_background": "light"
     },
     "output_type": "display_data"
    }
   ],
   "source": [
    "## lets see the number of positive cases by days in major states\n",
    "\n",
    "plt.figure(figsize=(15,9))\n",
    "plt.plot(df_New_York.No_days,df_New_York.positive, label=\"NY\")\n",
    "plt.plot(df_Washington.No_days,df_Washington.positive, label=\"Washington\")\n",
    "plt.plot(df_Louisinia.No_days,df_Louisinia.positive,label=\"Louisiana\")\n",
    "plt.plot(df_California.No_days, df_California.positive, label=\"California\")\n",
    "plt.plot(df_Texas.No_days,df_Texas.positive, label=\"Texas\")\n",
    "\n",
    "plt.xlabel('Days After Outbreak')\n",
    "plt.ylabel('Positive Cases in major states')\n",
    "plt.title('Number of Positive Cases by number of days since outbreak in major states')\n",
    "plt.legend()\n",
    "plt.show()"
   ]
  },
  {
   "cell_type": "code",
   "execution_count": 29,
   "metadata": {
    "colab": {
     "base_uri": "https://localhost:8080/",
     "height": 621
    },
    "colab_type": "code",
    "id": "VpdiENWzCW3P",
    "outputId": "d74d46d2-3dbf-4714-8e65-ff4de2133ea3"
   },
   "outputs": [
    {
     "data": {
      "image/png": "[encoded data removed]",
      "text/plain": [
       "<Figure size 1080x720 with 1 Axes>"
      ]
     },
     "metadata": {
      "needs_background": "light"
     },
     "output_type": "display_data"
    }
   ],
   "source": [
    "## lets see the number of deaths by days in major states\n",
    "\n",
    "plt.figure(figsize=(15,10))\n",
    "\n",
    "plt.plot(df_New_York.No_days,df_New_York.death, label=\"NY\")\n",
    "plt.plot(df_Washington.No_days,df_Washington.death, label=\"Washington\")\n",
    "plt.plot(df_Louisinia.No_days,df_Louisinia.death,label=\"Louisiana\")\n",
    "plt.plot(df_California.No_days, df_California.death, label=\"California\")\n",
    "plt.plot(df_Texas.No_days,df_Texas.death, label=\"Texas\")\n",
    "\n",
    "plt.xlabel('Days After Outbreak')\n",
    "plt.ylabel('Deaths in major outbreak States')\n",
    "plt.title('Number of Fatalities by number of days since outbreak in major states')\n",
    "plt.legend()\n",
    "\n",
    "plt.show()"
   ]
  },
  {
   "cell_type": "markdown",
   "metadata": {
    "colab_type": "text",
    "id": "uZ57oh8jCW3R"
   },
   "source": [
    "### Data aggregation for each state"
   ]
  },
  {
   "cell_type": "code",
   "execution_count": 30,
   "metadata": {
    "colab": {},
    "colab_type": "code",
    "id": "rbpOs7AhCW3R"
   },
   "outputs": [],
   "source": [
    "pos_state_cases=pd.DataFrame(us_state.groupby(['state'], sort=False)['positive'].max())"
   ]
  },
  {
   "cell_type": "code",
   "execution_count": 31,
   "metadata": {
    "colab": {
     "base_uri": "https://localhost:8080/",
     "height": 233
    },
    "colab_type": "code",
    "id": "9hW2xbRuCW3U",
    "outputId": "2ae7eba6-a415-4ff7-caf2-8202f2835b9e"
   },
   "outputs": [
    {
     "data": {
      "text/html": [
       "<div>\n",
       "<style scoped>\n",
       "    .dataframe tbody tr th:only-of-type {\n",
       "        vertical-align: middle;\n",
       "    }\n",
       "\n",
       "    .dataframe tbody tr th {\n",
       "        vertical-align: top;\n",
       "    }\n",
       "\n",
       "    .dataframe thead th {\n",
       "        text-align: right;\n",
       "    }\n",
       "</style>\n",
       "<table border=\"1\" class=\"dataframe\">\n",
       "  <thead>\n",
       "    <tr style=\"text-align: right;\">\n",
       "      <th></th>\n",
       "      <th>positive</th>\n",
       "    </tr>\n",
       "    <tr>\n",
       "      <th>state</th>\n",
       "      <th></th>\n",
       "    </tr>\n",
       "  </thead>\n",
       "  <tbody>\n",
       "    <tr>\n",
       "      <th>AK</th>\n",
       "      <td>339.0</td>\n",
       "    </tr>\n",
       "    <tr>\n",
       "      <th>AL</th>\n",
       "      <td>6137.0</td>\n",
       "    </tr>\n",
       "    <tr>\n",
       "      <th>AR</th>\n",
       "      <td>2829.0</td>\n",
       "    </tr>\n",
       "    <tr>\n",
       "      <th>AS</th>\n",
       "      <td>0.0</td>\n",
       "    </tr>\n",
       "    <tr>\n",
       "      <th>AZ</th>\n",
       "      <td>6280.0</td>\n",
       "    </tr>\n",
       "  </tbody>\n",
       "</table>\n",
       "</div>"
      ],
      "text/plain": [
       "       positive\n",
       "state          \n",
       "AK        339.0\n",
       "AL       6137.0\n",
       "AR       2829.0\n",
       "AS          0.0\n",
       "AZ       6280.0"
      ]
     },
     "execution_count": 31,
     "metadata": {},
     "output_type": "execute_result"
    }
   ],
   "source": [
    "pos_state_cases.head()"
   ]
  },
  {
   "cell_type": "code",
   "execution_count": 32,
   "metadata": {
    "colab": {},
    "colab_type": "code",
    "id": "IZPgA6GLCW3V"
   },
   "outputs": [],
   "source": [
    "y_pos = np.arange(len(pos_state_cases))\n"
   ]
  },
  {
   "cell_type": "code",
   "execution_count": 33,
   "metadata": {
    "colab": {
     "base_uri": "https://localhost:8080/",
     "height": 475
    },
    "colab_type": "code",
    "id": "fevQ8XdqCW3X",
    "outputId": "1d6d8aea-8a90-4472-f883-e67145a5dc71"
   },
   "outputs": [
    {
     "data": {
      "image/png": "[encoded data removed]",
      "text/plain": [
       "<Figure size 1800x720 with 1 Axes>"
      ]
     },
     "metadata": {
      "needs_background": "light"
     },
     "output_type": "display_data"
    }
   ],
   "source": [
    "plt.figure(figsize=(25,10))\n",
    "\n",
    "\n",
    "plt.xlabel('States in US')\n",
    "plt.ylabel('Total Positive Cases')\n",
    "plt.title('Total Positive Cases in all the US states')\n",
    "\n",
    "plt.bar(y_pos, pos_state_cases.positive, color=(0.2, 0.4, 0.6, 0.6))\n",
    "plt.xticks(y_pos, pos_state_cases.index)\n",
    "plt.show()\n"
   ]
  },
  {
   "cell_type": "markdown",
   "metadata": {
    "colab_type": "text",
    "id": "NYLnXxoYCW3Z"
   },
   "source": [
    "## Apply Polynomial Regression (including linear Regression on New York (state with the most cases))"
   ]
  },
  {
   "cell_type": "code",
   "execution_count": 34,
   "metadata": {
    "colab": {},
    "colab_type": "code",
    "id": "J5CtDYzACW3a"
   },
   "outputs": [],
   "source": [
    "df_New_York=df_New_York.sort_values(['No_days'],ascending=True)"
   ]
  },
  {
   "cell_type": "code",
   "execution_count": 35,
   "metadata": {
    "colab": {},
    "colab_type": "code",
    "id": "6A044nF4CW3c"
   },
   "outputs": [],
   "source": [
    "df_New_York=df_New_York.reset_index(drop=True)"
   ]
  },
  {
   "cell_type": "code",
   "execution_count": 36,
   "metadata": {
    "colab": {
     "base_uri": "https://localhost:8080/",
     "height": 52
    },
    "colab_type": "code",
    "id": "b60ewDIYCW3f",
    "outputId": "17f18d23-2323-4486-f690-4e070868a2e2"
   },
   "outputs": [
    {
     "name": "stderr",
     "output_type": "stream",
     "text": [
      "C:\\Users\\carla\\Anaconda3\\lib\\site-packages\\ipykernel_launcher.py:11: RuntimeWarning: divide by zero encountered in double_scalars\n",
      "  # This is added back by InteractiveShellApp.init_path()\n"
     ]
    }
   ],
   "source": [
    "## calculating the Spread factor for each day in New York\n",
    "\n",
    "## initialize the column\n",
    "df_New_York['Spread_factor'] = float(0)\n",
    "\n",
    "\n",
    "for val in range(len(df_New_York.Spread_factor.tolist())):\n",
    "    if val <= 1: ### spread factor for first day of outbreak will be 0 as it depends on previous day\n",
    "        df_New_York.at[val,'Spread_factor'] = 0\n",
    "    else:\n",
    "        df_New_York.at[val,'Spread_factor'] = df_New_York.positiveIncrease[val]/df_New_York.positiveIncrease[val-1]"
   ]
  },
  {
   "cell_type": "code",
   "execution_count": 37,
   "metadata": {
    "colab": {
     "base_uri": "https://localhost:8080/",
     "height": 549
    },
    "colab_type": "code",
    "id": "vJEM0uWwCW3h",
    "outputId": "b341209e-f13f-4c95-c92c-92c6c653f7af"
   },
   "outputs": [
    {
     "data": {
      "text/html": [
       "<div>\n",
       "<style scoped>\n",
       "    .dataframe tbody tr th:only-of-type {\n",
       "        vertical-align: middle;\n",
       "    }\n",
       "\n",
       "    .dataframe tbody tr th {\n",
       "        vertical-align: top;\n",
       "    }\n",
       "\n",
       "    .dataframe thead th {\n",
       "        text-align: right;\n",
       "    }\n",
       "</style>\n",
       "<table border=\"1\" class=\"dataframe\">\n",
       "  <thead>\n",
       "    <tr style=\"text-align: right;\">\n",
       "      <th></th>\n",
       "      <th>date</th>\n",
       "      <th>state</th>\n",
       "      <th>positive</th>\n",
       "      <th>negative</th>\n",
       "      <th>pending</th>\n",
       "      <th>hospitalizedCurrently</th>\n",
       "      <th>hospitalizedCumulative</th>\n",
       "      <th>inIcuCurrently</th>\n",
       "      <th>inIcuCumulative</th>\n",
       "      <th>onVentilatorCurrently</th>\n",
       "      <th>...</th>\n",
       "      <th>totalTestResults</th>\n",
       "      <th>posNeg</th>\n",
       "      <th>fips</th>\n",
       "      <th>deathIncrease</th>\n",
       "      <th>hospitalizedIncrease</th>\n",
       "      <th>negativeIncrease</th>\n",
       "      <th>positiveIncrease</th>\n",
       "      <th>totalTestResultsIncrease</th>\n",
       "      <th>No_days</th>\n",
       "      <th>Spread_factor</th>\n",
       "    </tr>\n",
       "  </thead>\n",
       "  <tbody>\n",
       "    <tr>\n",
       "      <th>0</th>\n",
       "      <td>20200304</td>\n",
       "      <td>NY</td>\n",
       "      <td>6.0</td>\n",
       "      <td>48.0</td>\n",
       "      <td>24.0</td>\n",
       "      <td>NaN</td>\n",
       "      <td>NaN</td>\n",
       "      <td>NaN</td>\n",
       "      <td>NaN</td>\n",
       "      <td>NaN</td>\n",
       "      <td>...</td>\n",
       "      <td>54.0</td>\n",
       "      <td>54.0</td>\n",
       "      <td>36</td>\n",
       "      <td>NaN</td>\n",
       "      <td>NaN</td>\n",
       "      <td>NaN</td>\n",
       "      <td>NaN</td>\n",
       "      <td>NaN</td>\n",
       "      <td>42 days</td>\n",
       "      <td>0.000000</td>\n",
       "    </tr>\n",
       "    <tr>\n",
       "      <th>1</th>\n",
       "      <td>20200305</td>\n",
       "      <td>NY</td>\n",
       "      <td>22.0</td>\n",
       "      <td>76.0</td>\n",
       "      <td>24.0</td>\n",
       "      <td>NaN</td>\n",
       "      <td>NaN</td>\n",
       "      <td>NaN</td>\n",
       "      <td>NaN</td>\n",
       "      <td>NaN</td>\n",
       "      <td>...</td>\n",
       "      <td>98.0</td>\n",
       "      <td>98.0</td>\n",
       "      <td>36</td>\n",
       "      <td>0.0</td>\n",
       "      <td>0.0</td>\n",
       "      <td>28.0</td>\n",
       "      <td>16.0</td>\n",
       "      <td>44.0</td>\n",
       "      <td>43 days</td>\n",
       "      <td>0.000000</td>\n",
       "    </tr>\n",
       "    <tr>\n",
       "      <th>2</th>\n",
       "      <td>20200306</td>\n",
       "      <td>NY</td>\n",
       "      <td>33.0</td>\n",
       "      <td>92.0</td>\n",
       "      <td>236.0</td>\n",
       "      <td>NaN</td>\n",
       "      <td>NaN</td>\n",
       "      <td>NaN</td>\n",
       "      <td>NaN</td>\n",
       "      <td>NaN</td>\n",
       "      <td>...</td>\n",
       "      <td>125.0</td>\n",
       "      <td>125.0</td>\n",
       "      <td>36</td>\n",
       "      <td>0.0</td>\n",
       "      <td>0.0</td>\n",
       "      <td>16.0</td>\n",
       "      <td>11.0</td>\n",
       "      <td>27.0</td>\n",
       "      <td>44 days</td>\n",
       "      <td>0.687500</td>\n",
       "    </tr>\n",
       "    <tr>\n",
       "      <th>3</th>\n",
       "      <td>20200307</td>\n",
       "      <td>NY</td>\n",
       "      <td>76.0</td>\n",
       "      <td>92.0</td>\n",
       "      <td>236.0</td>\n",
       "      <td>NaN</td>\n",
       "      <td>NaN</td>\n",
       "      <td>NaN</td>\n",
       "      <td>NaN</td>\n",
       "      <td>NaN</td>\n",
       "      <td>...</td>\n",
       "      <td>168.0</td>\n",
       "      <td>168.0</td>\n",
       "      <td>36</td>\n",
       "      <td>0.0</td>\n",
       "      <td>0.0</td>\n",
       "      <td>0.0</td>\n",
       "      <td>43.0</td>\n",
       "      <td>43.0</td>\n",
       "      <td>45 days</td>\n",
       "      <td>3.909091</td>\n",
       "    </tr>\n",
       "    <tr>\n",
       "      <th>4</th>\n",
       "      <td>20200308</td>\n",
       "      <td>NY</td>\n",
       "      <td>105.0</td>\n",
       "      <td>92.0</td>\n",
       "      <td>NaN</td>\n",
       "      <td>NaN</td>\n",
       "      <td>NaN</td>\n",
       "      <td>NaN</td>\n",
       "      <td>NaN</td>\n",
       "      <td>NaN</td>\n",
       "      <td>...</td>\n",
       "      <td>197.0</td>\n",
       "      <td>197.0</td>\n",
       "      <td>36</td>\n",
       "      <td>0.0</td>\n",
       "      <td>0.0</td>\n",
       "      <td>0.0</td>\n",
       "      <td>29.0</td>\n",
       "      <td>29.0</td>\n",
       "      <td>46 days</td>\n",
       "      <td>0.674419</td>\n",
       "    </tr>\n",
       "    <tr>\n",
       "      <th>5</th>\n",
       "      <td>20200309</td>\n",
       "      <td>NY</td>\n",
       "      <td>142.0</td>\n",
       "      <td>92.0</td>\n",
       "      <td>NaN</td>\n",
       "      <td>NaN</td>\n",
       "      <td>NaN</td>\n",
       "      <td>NaN</td>\n",
       "      <td>NaN</td>\n",
       "      <td>NaN</td>\n",
       "      <td>...</td>\n",
       "      <td>234.0</td>\n",
       "      <td>234.0</td>\n",
       "      <td>36</td>\n",
       "      <td>0.0</td>\n",
       "      <td>0.0</td>\n",
       "      <td>0.0</td>\n",
       "      <td>37.0</td>\n",
       "      <td>37.0</td>\n",
       "      <td>47 days</td>\n",
       "      <td>1.275862</td>\n",
       "    </tr>\n",
       "    <tr>\n",
       "      <th>6</th>\n",
       "      <td>20200310</td>\n",
       "      <td>NY</td>\n",
       "      <td>173.0</td>\n",
       "      <td>92.0</td>\n",
       "      <td>NaN</td>\n",
       "      <td>NaN</td>\n",
       "      <td>NaN</td>\n",
       "      <td>NaN</td>\n",
       "      <td>NaN</td>\n",
       "      <td>NaN</td>\n",
       "      <td>...</td>\n",
       "      <td>265.0</td>\n",
       "      <td>265.0</td>\n",
       "      <td>36</td>\n",
       "      <td>0.0</td>\n",
       "      <td>0.0</td>\n",
       "      <td>0.0</td>\n",
       "      <td>31.0</td>\n",
       "      <td>31.0</td>\n",
       "      <td>48 days</td>\n",
       "      <td>0.837838</td>\n",
       "    </tr>\n",
       "    <tr>\n",
       "      <th>7</th>\n",
       "      <td>20200311</td>\n",
       "      <td>NY</td>\n",
       "      <td>216.0</td>\n",
       "      <td>92.0</td>\n",
       "      <td>NaN</td>\n",
       "      <td>NaN</td>\n",
       "      <td>NaN</td>\n",
       "      <td>NaN</td>\n",
       "      <td>NaN</td>\n",
       "      <td>NaN</td>\n",
       "      <td>...</td>\n",
       "      <td>308.0</td>\n",
       "      <td>308.0</td>\n",
       "      <td>36</td>\n",
       "      <td>0.0</td>\n",
       "      <td>0.0</td>\n",
       "      <td>0.0</td>\n",
       "      <td>43.0</td>\n",
       "      <td>43.0</td>\n",
       "      <td>49 days</td>\n",
       "      <td>1.387097</td>\n",
       "    </tr>\n",
       "    <tr>\n",
       "      <th>8</th>\n",
       "      <td>20200312</td>\n",
       "      <td>NY</td>\n",
       "      <td>216.0</td>\n",
       "      <td>92.0</td>\n",
       "      <td>NaN</td>\n",
       "      <td>NaN</td>\n",
       "      <td>NaN</td>\n",
       "      <td>NaN</td>\n",
       "      <td>NaN</td>\n",
       "      <td>NaN</td>\n",
       "      <td>...</td>\n",
       "      <td>308.0</td>\n",
       "      <td>308.0</td>\n",
       "      <td>36</td>\n",
       "      <td>0.0</td>\n",
       "      <td>0.0</td>\n",
       "      <td>0.0</td>\n",
       "      <td>0.0</td>\n",
       "      <td>0.0</td>\n",
       "      <td>50 days</td>\n",
       "      <td>0.000000</td>\n",
       "    </tr>\n",
       "    <tr>\n",
       "      <th>9</th>\n",
       "      <td>20200313</td>\n",
       "      <td>NY</td>\n",
       "      <td>421.0</td>\n",
       "      <td>2779.0</td>\n",
       "      <td>NaN</td>\n",
       "      <td>NaN</td>\n",
       "      <td>NaN</td>\n",
       "      <td>NaN</td>\n",
       "      <td>NaN</td>\n",
       "      <td>NaN</td>\n",
       "      <td>...</td>\n",
       "      <td>3200.0</td>\n",
       "      <td>3200.0</td>\n",
       "      <td>36</td>\n",
       "      <td>0.0</td>\n",
       "      <td>0.0</td>\n",
       "      <td>2687.0</td>\n",
       "      <td>205.0</td>\n",
       "      <td>2892.0</td>\n",
       "      <td>51 days</td>\n",
       "      <td>inf</td>\n",
       "    </tr>\n",
       "  </tbody>\n",
       "</table>\n",
       "<p>10 rows × 27 columns</p>\n",
       "</div>"
      ],
      "text/plain": [
       "       date state  positive  negative  pending  hospitalizedCurrently  \\\n",
       "0  20200304    NY       6.0      48.0     24.0                    NaN   \n",
       "1  20200305    NY      22.0      76.0     24.0                    NaN   \n",
       "2  20200306    NY      33.0      92.0    236.0                    NaN   \n",
       "3  20200307    NY      76.0      92.0    236.0                    NaN   \n",
       "4  20200308    NY     105.0      92.0      NaN                    NaN   \n",
       "5  20200309    NY     142.0      92.0      NaN                    NaN   \n",
       "6  20200310    NY     173.0      92.0      NaN                    NaN   \n",
       "7  20200311    NY     216.0      92.0      NaN                    NaN   \n",
       "8  20200312    NY     216.0      92.0      NaN                    NaN   \n",
       "9  20200313    NY     421.0    2779.0      NaN                    NaN   \n",
       "\n",
       "   hospitalizedCumulative  inIcuCurrently  inIcuCumulative  \\\n",
       "0                     NaN             NaN              NaN   \n",
       "1                     NaN             NaN              NaN   \n",
       "2                     NaN             NaN              NaN   \n",
       "3                     NaN             NaN              NaN   \n",
       "4                     NaN             NaN              NaN   \n",
       "5                     NaN             NaN              NaN   \n",
       "6                     NaN             NaN              NaN   \n",
       "7                     NaN             NaN              NaN   \n",
       "8                     NaN             NaN              NaN   \n",
       "9                     NaN             NaN              NaN   \n",
       "\n",
       "   onVentilatorCurrently  ...  totalTestResults  posNeg fips deathIncrease  \\\n",
       "0                    NaN  ...              54.0    54.0   36           NaN   \n",
       "1                    NaN  ...              98.0    98.0   36           0.0   \n",
       "2                    NaN  ...             125.0   125.0   36           0.0   \n",
       "3                    NaN  ...             168.0   168.0   36           0.0   \n",
       "4                    NaN  ...             197.0   197.0   36           0.0   \n",
       "5                    NaN  ...             234.0   234.0   36           0.0   \n",
       "6                    NaN  ...             265.0   265.0   36           0.0   \n",
       "7                    NaN  ...             308.0   308.0   36           0.0   \n",
       "8                    NaN  ...             308.0   308.0   36           0.0   \n",
       "9                    NaN  ...            3200.0  3200.0   36           0.0   \n",
       "\n",
       "   hospitalizedIncrease  negativeIncrease  positiveIncrease  \\\n",
       "0                   NaN               NaN               NaN   \n",
       "1                   0.0              28.0              16.0   \n",
       "2                   0.0              16.0              11.0   \n",
       "3                   0.0               0.0              43.0   \n",
       "4                   0.0               0.0              29.0   \n",
       "5                   0.0               0.0              37.0   \n",
       "6                   0.0               0.0              31.0   \n",
       "7                   0.0               0.0              43.0   \n",
       "8                   0.0               0.0               0.0   \n",
       "9                   0.0            2687.0             205.0   \n",
       "\n",
       "   totalTestResultsIncrease  No_days  Spread_factor  \n",
       "0                       NaN  42 days       0.000000  \n",
       "1                      44.0  43 days       0.000000  \n",
       "2                      27.0  44 days       0.687500  \n",
       "3                      43.0  45 days       3.909091  \n",
       "4                      29.0  46 days       0.674419  \n",
       "5                      37.0  47 days       1.275862  \n",
       "6                      31.0  48 days       0.837838  \n",
       "7                      43.0  49 days       1.387097  \n",
       "8                       0.0  50 days       0.000000  \n",
       "9                    2892.0  51 days            inf  \n",
       "\n",
       "[10 rows x 27 columns]"
      ]
     },
     "execution_count": 37,
     "metadata": {},
     "output_type": "execute_result"
    }
   ],
   "source": [
    "df_New_York.head(10)  ## we can see that few rows of Spread Factor are INF and 0 values"
   ]
  },
  {
   "cell_type": "code",
   "execution_count": 38,
   "metadata": {
    "colab": {},
    "colab_type": "code",
    "id": "lwnOUTcVCW3k"
   },
   "outputs": [],
   "source": [
    "#working on zeros and INF values in New York Data\n",
    "df_New_York.at[8, 'Spread_factor'] = (df_New_York.at[6, 'Spread_factor'] + df_New_York.at[7, 'Spread_factor'] + df_New_York.at[10, 'Spread_factor'] + df_New_York.at[11, 'Spread_factor'])/4 \n",
    "df_New_York.at[9, 'Spread_factor'] = df_New_York.at[8, 'Spread_factor']"
   ]
  },
  {
   "cell_type": "code",
   "execution_count": 39,
   "metadata": {
    "colab": {},
    "colab_type": "code",
    "id": "NtVYrY2iCW3m"
   },
   "outputs": [],
   "source": [
    "## Lets create X column for linear Regression based on Spread Factor"
   ]
  },
  {
   "cell_type": "code",
   "execution_count": 40,
   "metadata": {
    "colab": {},
    "colab_type": "code",
    "id": "nkUeE_RqCW3o"
   },
   "outputs": [],
   "source": [
    "from sklearn.preprocessing import PolynomialFeatures \n",
    "  \n",
    "from sklearn.linear_model import LinearRegression"
   ]
  },
  {
   "cell_type": "code",
   "execution_count": 41,
   "metadata": {
    "colab": {
     "base_uri": "https://localhost:8080/",
     "height": 418
    },
    "colab_type": "code",
    "id": "1E06mB9XCW3q",
    "outputId": "bf7343e0-78c7-4c06-b875-0958d04766d4"
   },
   "outputs": [
    {
     "name": "stdout",
     "output_type": "stream",
     "text": [
      "Regression Degrees: 2\n",
      "   Spread_factor  Pred_positiveIncrease  Pred_Confirmed\n",
      "0       1.407836                  14856          296999\n",
      "1       1.383607                  20554          317553\n",
      "2       1.360171                  27956          345509\n",
      "3       1.337529                  37391          382900\n",
      "4       1.315681                  49194          432094\n"
     ]
    },
    {
     "data": {
      "image/png": "[encoded data removed]",
      "text/plain": [
       "<Figure size 432x288 with 1 Axes>"
      ]
     },
     "metadata": {
      "needs_background": "light"
     },
     "output_type": "display_data"
    }
   ],
   "source": [
    "#Creates regression model to predict the next days\n",
    "\n",
    "def regression_model_NY(future_days, degrees, y, have_plots, df_New_York):\n",
    "\n",
    "    global x\n",
    "    x = df_New_York.iloc[:, -2:-1].values\n",
    "\n",
    "    x = (x / np.timedelta64(1, 'D'))\n",
    "    #addoffset2 = [i * np.timedelta64(microseconds = 10000) for i in [1,2,3]] # list of type datetime.timedelta\n",
    "    #tmptime + addoffset2\n",
    "    X = x[:, np.newaxis]\n",
    "    \n",
    "    # 2 dimensioanl array for prediction based on future days\n",
    "    a = np.zeros([future_days,1]).tolist()\n",
    "    for i in range(len(a)):\n",
    "        a[i]= [df_New_York.last_valid_index()+1+i]\n",
    "\n",
    "    # Fitting Linear Regression to the dataset \n",
    "    lin_model = LinearRegression() \n",
    "\n",
    "    lin_model.fit(x, y)\n",
    "\n",
    "    #Fitting polynomial regression to the dataset\n",
    "    global poly\n",
    "    poly = PolynomialFeatures(degree = degrees) \n",
    "    x_poly = poly.fit_transform(x) \n",
    "\n",
    "    global linear_model_2\n",
    "    poly.fit(x_poly, y) \n",
    "    linear_model_2 = LinearRegression() \n",
    "    linear_model_2.fit(x_poly, y) \n",
    "\n",
    "    if have_plots==True:\n",
    "    # Visualising the Polynomial Regression results \n",
    "        plt.scatter(x, y, color = 'red') \n",
    "\n",
    "        plt.plot(x, linear_model_2.predict(poly.fit_transform(x)), color = 'green') \n",
    "        plt.title('Polynomial Regression Model') \n",
    "        plt.xlabel('Days since Outbreak of Corona in NY') \n",
    "        plt.ylabel('Spread Factor for NY') \n",
    "\n",
    "    #create dataframe for predictions\n",
    "    #need to create a previous known positive column to start the first prediction since each prediction is based on the last\n",
    "    reg_ny = {'Spread_factor': linear_model_2.predict(poly.fit_transform(a)).tolist(), \n",
    "              'Prev_positiveIncrease': np.array([0] * future_days),\n",
    "              'Pred_positiveIncrease': np.array([0] * future_days)}\n",
    "    df_NY_prediction = pd.DataFrame(reg_ny, columns = ['Spread_factor','Prev_positiveIncrease','Pred_positiveIncrease'])\n",
    "    df_NY_prediction.at[0, 'Prev_positiveIncrease'] = df_New_York.positiveIncrease.iat[-1] \n",
    "    , \n",
    "    #index 0 is for last known positiveIncrease\n",
    "    #index 1 is for predicted last positiveIncrease\n",
    "    for i in range(len(df_NY_prediction.Pred_positiveIncrease.tolist())):\n",
    "        if i == 0:\n",
    "            #print(df_NY_prediction.Spread_factor)\n",
    "            df_NY_prediction.at[i,'Pred_positiveIncrease'] = df_NY_prediction.Spread_factor[i]*df_NY_prediction.Prev_positiveIncrease[0]\n",
    "        else:\n",
    "            df_NY_prediction.at[i,'Pred_positiveIncrease'] = df_NY_prediction.Spread_factor[i]*df_NY_prediction.Pred_positiveIncrease[i-1]\n",
    "       # df_NY_prediction['Pred_positiveIncrease'] = df_NY_prediction['Pred_positiveIncrease'].fillna(0)\n",
    "\n",
    "    #fill in the predicted confirmed column        \n",
    "    df_NY_prediction['Pred_Confirmed'] = 0\n",
    "    for i in range(len(df_NY_prediction.Pred_Confirmed.tolist())):\n",
    "        if i == 0:\n",
    "            df_NY_prediction.at[i,'Pred_Confirmed'] = df_NY_prediction.Pred_positiveIncrease[i] + df_New_York.positive.iat[-1]\n",
    "        else:\n",
    "            df_NY_prediction.at[i,'Pred_Confirmed'] = df_NY_prediction.Pred_positiveIncrease[i] + df_NY_prediction.Pred_Confirmed[i-1]\n",
    "\n",
    "    \n",
    "    #Outputs predicted growth factor values and the graph \n",
    "        \n",
    "    if have_plots==True:\n",
    "        print('Regression Degrees:', degrees)\n",
    "        print(df_NY_prediction[['Spread_factor', 'Pred_positiveIncrease','Pred_Confirmed']])\n",
    "\n",
    "        plt.plot(a, linear_model_2.predict(poly.fit_transform(a)), 'ro')\n",
    "        plt.show()\n",
    "    \n",
    "    return df_NY_prediction['Spread_factor']\n",
    "    \n",
    "pred_values = regression_model_NY(future_days = 5, degrees = 2,y = df_New_York.iloc[2:, -1].values,have_plots= True, df_New_York = df_New_York.iloc[2:,:])\n",
    "\n",
    "\n",
    "\n",
    "\n"
   ]
  },
  {
   "cell_type": "code",
   "execution_count": null,
   "metadata": {
    "colab": {},
    "colab_type": "code",
    "id": "5UiJelmUGNMj"
   },
   "outputs": [],
   "source": []
  },
  {
   "cell_type": "markdown",
   "metadata": {
    "colab_type": "text",
    "id": "-n-h17ipGEj1"
   },
   "source": [
    "Testing Model 1 with degree 3 polynomial regression"
   ]
  },
  {
   "cell_type": "code",
   "execution_count": 42,
   "metadata": {
    "colab": {
     "base_uri": "https://localhost:8080/",
     "height": 418
    },
    "colab_type": "code",
    "id": "rDaHPEdyD-f3",
    "outputId": "03dc57ac-897c-404f-9256-17c44d6f8432"
   },
   "outputs": [
    {
     "name": "stdout",
     "output_type": "stream",
     "text": [
      "Regression Degrees: 3\n",
      "   Spread_factor  Pred_positiveIncrease  Pred_Confirmed\n",
      "0       1.478054                  15597          297740\n",
      "1       1.464687                  22844          320584\n",
      "2       1.449162                  33104          353688\n",
      "3       1.431676                  47394          401082\n",
      "4       1.412426                  66940          468022\n"
     ]
    },
    {
     "data": {
      "image/png": "[encoded data removed]",
      "text/plain": [
       "<Figure size 432x288 with 1 Axes>"
      ]
     },
     "metadata": {
      "needs_background": "light"
     },
     "output_type": "display_data"
    }
   ],
   "source": [
    "pred_values = regression_model_NY(future_days = 5, degrees = 3,y = df_New_York.iloc[2:, -1].values,have_plots= True, df_New_York = df_New_York.iloc[2:,:])\n"
   ]
  },
  {
   "cell_type": "markdown",
   "metadata": {
    "colab_type": "text",
    "id": "-anhPySyGTzI"
   },
   "source": [
    "Testing Model 1 with degree 4 polynomial regression"
   ]
  },
  {
   "cell_type": "code",
   "execution_count": 43,
   "metadata": {
    "colab": {
     "base_uri": "https://localhost:8080/",
     "height": 418
    },
    "colab_type": "code",
    "id": "xCYMTk7ZD-V0",
    "outputId": "3f81fa90-5224-4c55-e305-52edc37e1e42"
   },
   "outputs": [
    {
     "name": "stdout",
     "output_type": "stream",
     "text": [
      "Regression Degrees: 4\n",
      "   Spread_factor  Pred_positiveIncrease  Pred_Confirmed\n",
      "0       1.471335                  15527          297670\n",
      "1       1.458353                  22643          320313\n",
      "2       1.443475                  32684          352997\n",
      "3       1.426841                  46634          399631\n",
      "4       1.408592                  65688          465319\n"
     ]
    },
    {
     "data": {
      "image/png": "[encoded data removed]",
      "text/plain": [
       "<Figure size 432x288 with 1 Axes>"
      ]
     },
     "metadata": {
      "needs_background": "light"
     },
     "output_type": "display_data"
    }
   ],
   "source": [
    "pred_values = regression_model_NY(future_days = 5, degrees = 4,y = df_New_York.iloc[2:, -1].values,have_plots= True, df_New_York = df_New_York.iloc[2:,:])\n"
   ]
  },
  {
   "cell_type": "markdown",
   "metadata": {
    "colab_type": "text",
    "id": "xpadHCpGCW3s"
   },
   "source": [
    " - This model come up with the prediction for spread factor for next 5 days for New York city. Will try validate whether this would be actually the case. For this purpose we do the following Model Validation step"
   ]
  },
  {
   "cell_type": "markdown",
   "metadata": {
    "colab_type": "text",
    "id": "I0kOnMJfCW3s"
   },
   "source": [
    "# Model Validation through test data "
   ]
  },
  {
   "cell_type": "markdown",
   "metadata": {
    "colab_type": "text",
    "id": "hfTdT6RzCW3t"
   },
   "source": [
    " - The idea is to remove last 5 day's spread factor value from the training dataset and allow the model to learn without the last 5 day's values. Then this model is used to come up with predictions of the 5 days that were removed from the dataset.The predicitions is compared to what had happened in actual by calculating different error metrics like calculate the root mean squared error and mean absolute percentage error(MAPE). Ideally, a mape of <35-40% would categorise the model as a good predictive model.\n",
    " \n",
    " - The following exercise is done to validate our model. I am trying to implement the exact same thing as stated in the above paragraph.\n",
    "  \n",
    "  "
   ]
  },
  {
   "cell_type": "code",
   "execution_count": 44,
   "metadata": {
    "colab": {},
    "colab_type": "code",
    "id": "8ZAQGO-TCW3t"
   },
   "outputs": [],
   "source": [
    "def root_mean_squared_error(true,pred):\n",
    "    \n",
    "    true = np.array(true)\n",
    "    pred = np.array(pred)\n",
    "    \n",
    "    mse = np.mean((true-pred)**2)\n",
    "    rmse = mse**0.5\n",
    "\n",
    "    return rmse\n",
    "\n",
    "def mean_absolute_percentage_error(true,pred):\n",
    "    true = np.array(true)\n",
    "    pred = np.array(pred)\n",
    "    \n",
    "    mape_val = np.mean(abs(true-pred)/true)\n",
    "    return mape_val"
   ]
  },
  {
   "cell_type": "code",
   "execution_count": 45,
   "metadata": {
    "colab": {},
    "colab_type": "code",
    "id": "m46cOsTgCW3v"
   },
   "outputs": [],
   "source": [
    "\n",
    "test_pred_values = regression_model_NY(future_days = 5, degrees = 2,y = df_New_York.iloc[2:-5, -1].values,have_plots= False, df_New_York = df_New_York.iloc[2:-5,:])\n",
    "test_act_values = df_New_York[\"Spread_factor\"].iloc[-5:]"
   ]
  },
  {
   "cell_type": "code",
   "execution_count": 46,
   "metadata": {
    "colab": {
     "base_uri": "https://localhost:8080/",
     "height": 211
    },
    "colab_type": "code",
    "id": "Ta5b_-zeCW30",
    "outputId": "4f409e71-d7c1-4207-af4a-ac00e4f61556"
   },
   "outputs": [
    {
     "data": {
      "text/plain": [
       "(0    1.514990\n",
       " 1    1.495903\n",
       " 2    1.476981\n",
       " 3    1.458223\n",
       " 4    1.439630\n",
       " Name: Spread_factor, dtype: float64,\n",
       " 48    0.884046\n",
       " 49    1.322642\n",
       " 50    1.129931\n",
       " 51    1.302050\n",
       " 52    1.298032\n",
       " Name: Spread_factor, dtype: float64)"
      ]
     },
     "execution_count": 46,
     "metadata": {},
     "output_type": "execute_result"
    }
   ],
   "source": [
    "test_pred_values,test_act_values"
   ]
  },
  {
   "cell_type": "code",
   "execution_count": 47,
   "metadata": {
    "colab": {
     "base_uri": "https://localhost:8080/",
     "height": 35
    },
    "colab_type": "code",
    "id": "5exJr5jZCW32",
    "outputId": "9372b9ba-d15f-4d5e-d30e-df0a09ab4833"
   },
   "outputs": [
    {
     "name": "stdout",
     "output_type": "stream",
     "text": [
      "The root mean squared value is 0.3444\n"
     ]
    }
   ],
   "source": [
    "rmse = root_mean_squared_error(test_act_values,test_pred_values)\n",
    "\n",
    "print(f\"The root mean squared value is {round(rmse,4)}\")"
   ]
  },
  {
   "cell_type": "code",
   "execution_count": 48,
   "metadata": {
    "colab": {
     "base_uri": "https://localhost:8080/",
     "height": 35
    },
    "colab_type": "code",
    "id": "sOr-KDiWCW34",
    "outputId": "f44cc15d-8dab-4cb6-9263-b19b3c3ee65a"
   },
   "outputs": [
    {
     "name": "stdout",
     "output_type": "stream",
     "text": [
      "The mean absolte percentage error is is {round(mape*100,2)}%\n"
     ]
    }
   ],
   "source": [
    "mape = mean_absolute_percentage_error(test_act_values,test_pred_values)\n",
    "\n",
    "print(\"The mean absolte percentage error is is {round(mape*100,2)}%\")"
   ]
  },
  {
   "cell_type": "markdown",
   "metadata": {
    "colab_type": "text",
    "id": "zXMKRy9dCW36"
   },
   "source": [
    "This model gives a mape of 32.45% which is a good number as expected. However, this would get better as and when more data gets added and is used in the model which is the beauty of machine learning model that models get better with more data."
   ]
  },
  {
   "cell_type": "markdown",
   "metadata": {
    "colab_type": "text",
    "id": "emP1H19oCW37"
   },
   "source": [
    "### we can see the Spread Factor to decline in future for NY based on our polynomial regression output."
   ]
  },
  {
   "cell_type": "markdown",
   "metadata": {
    "colab_type": "text",
    "id": "STrdCv1aEcUs"
   },
   "source": [
    "Now we evaluate the same model on Degree 3 Polynomial regression"
   ]
  },
  {
   "cell_type": "code",
   "execution_count": 49,
   "metadata": {
    "colab": {},
    "colab_type": "code",
    "id": "-x3ZOATmEb3w"
   },
   "outputs": [],
   "source": [
    "\n",
    "test_pred_values = regression_model_NY(future_days = 5, degrees = 3,y = df_New_York.iloc[2:-5, -1].values,have_plots= False, df_New_York = df_New_York.iloc[2:-5,:])\n",
    "test_act_values = df_New_York[\"Spread_factor\"].iloc[-5:]"
   ]
  },
  {
   "cell_type": "code",
   "execution_count": 50,
   "metadata": {
    "colab": {
     "base_uri": "https://localhost:8080/",
     "height": 211
    },
    "colab_type": "code",
    "id": "-iWrZfpnEb0c",
    "outputId": "4de9efb5-3e9b-4e31-acbf-ab27f3e77628"
   },
   "outputs": [
    {
     "data": {
      "text/plain": [
       "(0    1.504655\n",
       " 1    1.500093\n",
       " 2    1.493367\n",
       " 3    1.484611\n",
       " 4    1.473958\n",
       " Name: Spread_factor, dtype: float64,\n",
       " 48    0.884046\n",
       " 49    1.322642\n",
       " 50    1.129931\n",
       " 51    1.302050\n",
       " 52    1.298032\n",
       " Name: Spread_factor, dtype: float64)"
      ]
     },
     "execution_count": 50,
     "metadata": {},
     "output_type": "execute_result"
    }
   ],
   "source": [
    "test_pred_values,test_act_values"
   ]
  },
  {
   "cell_type": "code",
   "execution_count": 51,
   "metadata": {
    "colab": {
     "base_uri": "https://localhost:8080/",
     "height": 35
    },
    "colab_type": "code",
    "id": "CVi0tpw8Ebfm",
    "outputId": "88dfd158-7083-4901-8486-5277c742cedf"
   },
   "outputs": [
    {
     "name": "stdout",
     "output_type": "stream",
     "text": [
      "The root mean squared value is 0.3501\n"
     ]
    }
   ],
   "source": [
    "rmse = root_mean_squared_error(test_act_values,test_pred_values)\n",
    "\n",
    "print(f\"The root mean squared value is {round(rmse,4)}\")"
   ]
  },
  {
   "cell_type": "code",
   "execution_count": 52,
   "metadata": {
    "colab": {
     "base_uri": "https://localhost:8080/",
     "height": 35
    },
    "colab_type": "code",
    "id": "NpCQyknWEr5e",
    "outputId": "e8f27d66-b225-40b7-9c9c-f1daeab4be03"
   },
   "outputs": [
    {
     "name": "stdout",
     "output_type": "stream",
     "text": [
      "The mean absolte percentage error is is 28.67%\n"
     ]
    }
   ],
   "source": [
    "mape = mean_absolute_percentage_error(test_act_values,test_pred_values)\n",
    "\n",
    "print(f\"The mean absolte percentage error is is {round(mape*100,2)}%\")"
   ]
  },
  {
   "cell_type": "markdown",
   "metadata": {},
   "source": [
    "Evaluate the same model on Degree 4 Polynomial regression"
   ]
  },
  {
   "cell_type": "code",
   "execution_count": 53,
   "metadata": {},
   "outputs": [],
   "source": [
    "test_pred_values = regression_model_NY(future_days = 5, degrees = 4,y = df_New_York.iloc[2:-5, -1].values,have_plots= False, df_New_York = df_New_York.iloc[2:-5,:])\n",
    "test_act_values = df_New_York[\"Spread_factor\"].iloc[-5:]"
   ]
  },
  {
   "cell_type": "code",
   "execution_count": 54,
   "metadata": {},
   "outputs": [
    {
     "data": {
      "text/plain": [
       "(0    1.521653\n",
       " 1    1.525744\n",
       " 2    1.524273\n",
       " 3    1.517872\n",
       " 4    1.507145\n",
       " Name: Spread_factor, dtype: float64,\n",
       " 48    0.884046\n",
       " 49    1.322642\n",
       " 50    1.129931\n",
       " 51    1.302050\n",
       " 52    1.298032\n",
       " Name: Spread_factor, dtype: float64)"
      ]
     },
     "execution_count": 54,
     "metadata": {},
     "output_type": "execute_result"
    }
   ],
   "source": [
    "test_pred_values,test_act_values"
   ]
  },
  {
   "cell_type": "code",
   "execution_count": 55,
   "metadata": {},
   "outputs": [
    {
     "name": "stdout",
     "output_type": "stream",
     "text": [
      "The root mean squared value is 0.3725\n"
     ]
    }
   ],
   "source": [
    "rmse = root_mean_squared_error(test_act_values,test_pred_values)\n",
    "\n",
    "print(f\"The root mean squared value is {round(rmse,4)}\")"
   ]
  },
  {
   "cell_type": "code",
   "execution_count": 56,
   "metadata": {},
   "outputs": [
    {
     "name": "stdout",
     "output_type": "stream",
     "text": [
      "The mean absolte percentage error is is 31.01%\n"
     ]
    }
   ],
   "source": [
    "mape = mean_absolute_percentage_error(test_act_values,test_pred_values)\n",
    "\n",
    "print(f\"The mean absolte percentage error is is {round(mape*100,2)}%\")"
   ]
  },
  {
   "cell_type": "markdown",
   "metadata": {
    "colab_type": "text",
    "id": "uGlwqXxgCW37"
   },
   "source": [
    "### Correlation Matrix"
   ]
  },
  {
   "cell_type": "code",
   "execution_count": 57,
   "metadata": {
    "colab": {},
    "colab_type": "code",
    "id": "XNhYUcEUCW38"
   },
   "outputs": [],
   "source": [
    "import seaborn as sn\n",
    "import matplotlib.pyplot as plt"
   ]
  },
  {
   "cell_type": "code",
   "execution_count": 58,
   "metadata": {
    "colab": {
     "base_uri": "https://localhost:8080/",
     "height": 475
    },
    "colab_type": "code",
    "id": "WCP0TL3QCW3-",
    "outputId": "626bd6cc-25d8-43ad-b5fd-34ec6881893b"
   },
   "outputs": [
    {
     "name": "stdout",
     "output_type": "stream",
     "text": [
      "                              date  positive  negative   pending  \\\n",
      "date                      1.000000  0.940495  0.916844  0.894427   \n",
      "positive                  0.940495  1.000000  0.993931  0.780471   \n",
      "negative                  0.916844  0.993931  1.000000  0.834622   \n",
      "pending                   0.894427  0.780471  0.834622  1.000000   \n",
      "hospitalizedCurrently     0.863708  0.651847  0.524546       NaN   \n",
      "hospitalizedCumulative    0.904263  0.996516  0.975516       NaN   \n",
      "inIcuCurrently            0.939154  0.875207  0.791955       NaN   \n",
      "inIcuCumulative                NaN       NaN       NaN       NaN   \n",
      "onVentilatorCurrently          NaN       NaN       NaN       NaN   \n",
      "onVentilatorCumulative         NaN       NaN       NaN       NaN   \n",
      "recovered                 0.837674  0.953752  0.894183       NaN   \n",
      "death                     0.855197  0.981694  0.982472       NaN   \n",
      "hospitalized              0.904263  0.996516  0.975516       NaN   \n",
      "total                     0.927516  0.997775  0.999054  0.988350   \n",
      "totalTestResults          0.927524  0.997774  0.999054  0.851021   \n",
      "posNeg                    0.927524  0.997774  0.999054  0.851021   \n",
      "fips                           NaN       NaN       NaN       NaN   \n",
      "deathIncrease             0.920189  0.823389  0.775172       NaN   \n",
      "hospitalizedIncrease      0.456290  0.312194  0.281058       NaN   \n",
      "negativeIncrease          0.753972  0.807835  0.843925 -0.821995   \n",
      "positiveIncrease          0.756936  0.663969  0.659443  0.368928   \n",
      "totalTestResultsIncrease  0.800555  0.804305  0.827812 -0.544705   \n",
      "Spread_factor            -0.181678 -0.177161 -0.166270  0.710234   \n",
      "\n",
      "                          hospitalizedCurrently  hospitalizedCumulative  \\\n",
      "date                                   0.863708                0.904263   \n",
      "positive                               0.651847                0.996516   \n",
      "negative                               0.524546                0.975516   \n",
      "pending                                     NaN                     NaN   \n",
      "hospitalizedCurrently                  1.000000                0.696696   \n",
      "hospitalizedCumulative                 0.696696                1.000000   \n",
      "inIcuCurrently                         0.932944                0.899034   \n",
      "inIcuCumulative                             NaN                     NaN   \n",
      "onVentilatorCurrently                       NaN                     NaN   \n",
      "onVentilatorCumulative                      NaN                     NaN   \n",
      "recovered                              0.776963                0.965060   \n",
      "death                                  0.576901                0.978042   \n",
      "hospitalized                           0.696696                1.000000   \n",
      "total                                  0.576399                0.986520   \n",
      "totalTestResults                       0.576399                0.986520   \n",
      "posNeg                                 0.576399                0.986520   \n",
      "fips                                        NaN                     NaN   \n",
      "deathIncrease                          0.949470                0.693638   \n",
      "hospitalizedIncrease                  -0.057163               -0.155633   \n",
      "negativeIncrease                       0.195001                0.601281   \n",
      "positiveIncrease                       0.233002                0.199271   \n",
      "totalTestResultsIncrease               0.241706                0.577888   \n",
      "Spread_factor                         -0.203490               -0.148288   \n",
      "\n",
      "                          inIcuCurrently  inIcuCumulative  \\\n",
      "date                            0.939154              NaN   \n",
      "positive                        0.875207              NaN   \n",
      "negative                        0.791955              NaN   \n",
      "pending                              NaN              NaN   \n",
      "hospitalizedCurrently           0.932944              NaN   \n",
      "hospitalizedCumulative          0.899034              NaN   \n",
      "inIcuCurrently                  1.000000              NaN   \n",
      "inIcuCumulative                      NaN              NaN   \n",
      "onVentilatorCurrently                NaN              NaN   \n",
      "onVentilatorCumulative               NaN              NaN   \n",
      "recovered                       0.943057              NaN   \n",
      "death                           0.822784              NaN   \n",
      "hospitalized                    0.899034              NaN   \n",
      "total                           0.827412              NaN   \n",
      "totalTestResults                0.827412              NaN   \n",
      "posNeg                          0.827412              NaN   \n",
      "fips                                 NaN              NaN   \n",
      "deathIncrease                   0.808065              NaN   \n",
      "hospitalizedIncrease           -0.278716              NaN   \n",
      "negativeIncrease                0.445233              NaN   \n",
      "positiveIncrease                0.076001              NaN   \n",
      "totalTestResultsIncrease        0.422570              NaN   \n",
      "Spread_factor                  -0.132114              NaN   \n",
      "\n",
      "                          onVentilatorCurrently  onVentilatorCumulative  ...  \\\n",
      "date                                        NaN                     NaN  ...   \n",
      "positive                                    NaN                     NaN  ...   \n",
      "negative                                    NaN                     NaN  ...   \n",
      "pending                                     NaN                     NaN  ...   \n",
      "hospitalizedCurrently                       NaN                     NaN  ...   \n",
      "hospitalizedCumulative                      NaN                     NaN  ...   \n",
      "inIcuCurrently                              NaN                     NaN  ...   \n",
      "inIcuCumulative                             NaN                     NaN  ...   \n",
      "onVentilatorCurrently                       NaN                     NaN  ...   \n",
      "onVentilatorCumulative                      NaN                     NaN  ...   \n",
      "recovered                                   NaN                     NaN  ...   \n",
      "death                                       NaN                     NaN  ...   \n",
      "hospitalized                                NaN                     NaN  ...   \n",
      "total                                       NaN                     NaN  ...   \n",
      "totalTestResults                            NaN                     NaN  ...   \n",
      "posNeg                                      NaN                     NaN  ...   \n",
      "fips                                        NaN                     NaN  ...   \n",
      "deathIncrease                               NaN                     NaN  ...   \n",
      "hospitalizedIncrease                        NaN                     NaN  ...   \n",
      "negativeIncrease                            NaN                     NaN  ...   \n",
      "positiveIncrease                            NaN                     NaN  ...   \n",
      "totalTestResultsIncrease                    NaN                     NaN  ...   \n",
      "Spread_factor                               NaN                     NaN  ...   \n",
      "\n",
      "                             total  totalTestResults    posNeg  fips  \\\n",
      "date                      0.927516          0.927524  0.927524   NaN   \n",
      "positive                  0.997775          0.997774  0.997774   NaN   \n",
      "negative                  0.999054          0.999054  0.999054   NaN   \n",
      "pending                   0.988350          0.851021  0.851021   NaN   \n",
      "hospitalizedCurrently     0.576399          0.576399  0.576399   NaN   \n",
      "hospitalizedCumulative    0.986520          0.986520  0.986520   NaN   \n",
      "inIcuCurrently            0.827412          0.827412  0.827412   NaN   \n",
      "inIcuCumulative                NaN               NaN       NaN   NaN   \n",
      "onVentilatorCurrently          NaN               NaN       NaN   NaN   \n",
      "onVentilatorCumulative         NaN               NaN       NaN   NaN   \n",
      "recovered                 0.920579          0.920579  0.920579   NaN   \n",
      "death                     0.984058          0.984058  0.984058   NaN   \n",
      "hospitalized              0.986520          0.986520  0.986520   NaN   \n",
      "total                     1.000000          1.000000  1.000000   NaN   \n",
      "totalTestResults          1.000000          1.000000  1.000000   NaN   \n",
      "posNeg                    1.000000          1.000000  1.000000   NaN   \n",
      "fips                           NaN               NaN       NaN   NaN   \n",
      "deathIncrease             0.795377          0.795387  0.795387   NaN   \n",
      "hospitalizedIncrease      0.293762          0.293787  0.293787   NaN   \n",
      "negativeIncrease          0.830885          0.830902  0.830902   NaN   \n",
      "positiveIncrease          0.662180          0.662209  0.662209   NaN   \n",
      "totalTestResultsIncrease  0.819719          0.819741  0.819741   NaN   \n",
      "Spread_factor            -0.170765         -0.170817 -0.170817   NaN   \n",
      "\n",
      "                          deathIncrease  hospitalizedIncrease  \\\n",
      "date                           0.920189              0.456290   \n",
      "positive                       0.823389              0.312194   \n",
      "negative                       0.775172              0.281058   \n",
      "pending                             NaN                   NaN   \n",
      "hospitalizedCurrently          0.949470             -0.057163   \n",
      "hospitalizedCumulative         0.693638             -0.155633   \n",
      "inIcuCurrently                 0.808065             -0.278716   \n",
      "inIcuCumulative                     NaN                   NaN   \n",
      "onVentilatorCurrently               NaN                   NaN   \n",
      "onVentilatorCumulative              NaN                   NaN   \n",
      "recovered                      0.594840             -0.336633   \n",
      "death                          0.650101             -0.029962   \n",
      "hospitalized                   0.693638             -0.155633   \n",
      "total                          0.795377              0.293762   \n",
      "totalTestResults               0.795387              0.293787   \n",
      "posNeg                         0.795387              0.293787   \n",
      "fips                                NaN                   NaN   \n",
      "deathIncrease                  1.000000              0.595273   \n",
      "hospitalizedIncrease           0.595273              1.000000   \n",
      "negativeIncrease               0.638778              0.331182   \n",
      "positiveIncrease               0.834679              0.682385   \n",
      "totalTestResultsIncrease       0.748529              0.478811   \n",
      "Spread_factor                 -0.250442             -0.249763   \n",
      "\n",
      "                          negativeIncrease  positiveIncrease  \\\n",
      "date                              0.753972          0.756936   \n",
      "positive                          0.807835          0.663969   \n",
      "negative                          0.843925          0.659443   \n",
      "pending                          -0.821995          0.368928   \n",
      "hospitalizedCurrently             0.195001          0.233002   \n",
      "hospitalizedCumulative            0.601281          0.199271   \n",
      "inIcuCurrently                    0.445233          0.076001   \n",
      "inIcuCumulative                        NaN               NaN   \n",
      "onVentilatorCurrently                  NaN               NaN   \n",
      "onVentilatorCumulative                 NaN               NaN   \n",
      "recovered                         0.542837         -0.168097   \n",
      "death                             0.723097          0.356480   \n",
      "hospitalized                      0.601281          0.199271   \n",
      "total                             0.830885          0.662180   \n",
      "totalTestResults                  0.830902          0.662209   \n",
      "posNeg                            0.830902          0.662209   \n",
      "fips                                   NaN               NaN   \n",
      "deathIncrease                     0.638778          0.834679   \n",
      "hospitalizedIncrease              0.331182          0.682385   \n",
      "negativeIncrease                  1.000000          0.754522   \n",
      "positiveIncrease                  0.754522          1.000000   \n",
      "totalTestResultsIncrease          0.971139          0.889278   \n",
      "Spread_factor                    -0.134471         -0.202630   \n",
      "\n",
      "                          totalTestResultsIncrease  Spread_factor  \n",
      "date                                      0.800555      -0.181678  \n",
      "positive                                  0.804305      -0.177161  \n",
      "negative                                  0.827812      -0.166270  \n",
      "pending                                  -0.544705       0.710234  \n",
      "hospitalizedCurrently                     0.241706      -0.203490  \n",
      "hospitalizedCumulative                    0.577888      -0.148288  \n",
      "inIcuCurrently                            0.422570      -0.132114  \n",
      "inIcuCumulative                                NaN            NaN  \n",
      "onVentilatorCurrently                          NaN            NaN  \n",
      "onVentilatorCumulative                         NaN            NaN  \n",
      "recovered                                 0.443084      -0.050287  \n",
      "death                                     0.670070      -0.287948  \n",
      "hospitalized                              0.577888      -0.148288  \n",
      "total                                     0.819719      -0.170765  \n",
      "totalTestResults                          0.819741      -0.170817  \n",
      "posNeg                                    0.819741      -0.170817  \n",
      "fips                                           NaN            NaN  \n",
      "deathIncrease                             0.748529      -0.250442  \n",
      "hospitalizedIncrease                      0.478811      -0.249763  \n",
      "negativeIncrease                          0.971139      -0.134471  \n",
      "positiveIncrease                          0.889278      -0.202630  \n",
      "totalTestResultsIncrease                  1.000000      -0.167359  \n",
      "Spread_factor                            -0.167359       1.000000  \n",
      "\n",
      "[23 rows x 23 columns]\n"
     ]
    }
   ],
   "source": [
    "corrMatrix = df_New_York.corr()\n",
    "print (corrMatrix)"
   ]
  },
  {
   "cell_type": "code",
   "execution_count": 59,
   "metadata": {
    "colab": {
     "base_uri": "https://localhost:8080/",
     "height": 568
    },
    "colab_type": "code",
    "id": "WZDnYk2FCW4C",
    "outputId": "18f6d346-db06-4615-a1a1-0bb14b00efce"
   },
   "outputs": [
    {
     "data": {
      "image/png": "[encoded data removed]",
      "text/plain": [
       "<Figure size 1800x720 with 2 Axes>"
      ]
     },
     "metadata": {
      "needs_background": "light"
     },
     "output_type": "display_data"
    }
   ],
   "source": [
    "# Correlation Matrix\n",
    "plt.figure(figsize=(25,10))\n",
    "\n",
    "sn.heatmap(corrMatrix, annot=True)\n",
    "\n",
    "plt.show()"
   ]
  },
  {
   "cell_type": "code",
   "execution_count": 60,
   "metadata": {
    "colab": {},
    "colab_type": "code",
    "id": "YT2VIHZeCW4D"
   },
   "outputs": [],
   "source": [
    "### The above matrix gives an idea of how different attributes are correlated to each other"
   ]
  },
  {
   "cell_type": "code",
   "execution_count": 61,
   "metadata": {
    "colab": {},
    "colab_type": "code",
    "id": "iPs4BIT_CW4H"
   },
   "outputs": [],
   "source": [
    "########################End because of the updates####################"
   ]
  },
  {
   "cell_type": "markdown",
   "metadata": {
    "colab_type": "text",
    "id": "wtMyU-hlCW4I"
   },
   "source": [
    "## LINEAR REGRESSION MODEL 2"
   ]
  },
  {
   "cell_type": "markdown",
   "metadata": {
    "colab_type": "text",
    "id": "D41PLkQdCW4I"
   },
   "source": [
    "### Import dataset"
   ]
  },
  {
   "cell_type": "code",
   "execution_count": 62,
   "metadata": {
    "colab": {},
    "colab_type": "code",
    "id": "Jmi24Mr_CW4K"
   },
   "outputs": [],
   "source": [
    "confirmed_df = pd.read_csv('https://raw.githubusercontent.com/CSSEGISandData/COVID-19/master/csse_covid_19_data/csse_covid_19_time_series/time_series_covid19_confirmed_global.csv')\n",
    "deaths_df = pd.read_csv('https://raw.githubusercontent.com/CSSEGISandData/COVID-19/master/csse_covid_19_data/csse_covid_19_time_series/time_series_covid19_deaths_global.csv')\n",
    "recoveries_df = pd.read_csv('https://raw.githubusercontent.com/CSSEGISandData/COVID-19/master/csse_covid_19_data/csse_covid_19_time_series/time_series_covid19_recovered_global.csv')\n",
    "lastupdate_data = pd.read_csv('https://raw.githubusercontent.com/CSSEGISandData/COVID-19/master/csse_covid_19_data/csse_covid_19_daily_reports/04-08-2020.csv')\n",
    "latest_data = pd.read_csv(\"https://raw.githubusercontent.com/CSSEGISandData/COVID-19/web-data/data/cases_time.csv\",parse_dates=['Last_Update'])\n",
    "Country_df = pd.read_csv(\"https://raw.githubusercontent.com/CSSEGISandData/COVID-19/web-data/data/cases_country.csv\")\n"
   ]
  },
  {
   "cell_type": "code",
   "execution_count": 63,
   "metadata": {
    "colab": {
     "base_uri": "https://localhost:8080/",
     "height": 130
    },
    "colab_type": "code",
    "id": "0cqoeMajCW4M",
    "outputId": "14fb454c-68b4-47d5-f36e-e1b24da2290e"
   },
   "outputs": [
    {
     "data": {
      "text/html": [
       "<div>\n",
       "<style scoped>\n",
       "    .dataframe tbody tr th:only-of-type {\n",
       "        vertical-align: middle;\n",
       "    }\n",
       "\n",
       "    .dataframe tbody tr th {\n",
       "        vertical-align: top;\n",
       "    }\n",
       "\n",
       "    .dataframe thead th {\n",
       "        text-align: right;\n",
       "    }\n",
       "</style>\n",
       "<table border=\"1\" class=\"dataframe\">\n",
       "  <thead>\n",
       "    <tr style=\"text-align: right;\">\n",
       "      <th></th>\n",
       "      <th>Country_Region</th>\n",
       "      <th>Last_Update</th>\n",
       "      <th>Confirmed</th>\n",
       "      <th>Deaths</th>\n",
       "      <th>Recovered</th>\n",
       "      <th>Active</th>\n",
       "      <th>Delta_Confirmed</th>\n",
       "      <th>Delta_Recovered</th>\n",
       "      <th>Incident_Rate</th>\n",
       "      <th>People_Tested</th>\n",
       "      <th>People_Hospitalized</th>\n",
       "      <th>Province_State</th>\n",
       "      <th>FIPS</th>\n",
       "      <th>UID</th>\n",
       "      <th>iso3</th>\n",
       "      <th>Report_Date_String</th>\n",
       "    </tr>\n",
       "  </thead>\n",
       "  <tbody>\n",
       "    <tr>\n",
       "      <th>0</th>\n",
       "      <td>Afghanistan</td>\n",
       "      <td>2020-01-22</td>\n",
       "      <td>0</td>\n",
       "      <td>0</td>\n",
       "      <td>NaN</td>\n",
       "      <td>NaN</td>\n",
       "      <td>0.0</td>\n",
       "      <td>NaN</td>\n",
       "      <td>0.0</td>\n",
       "      <td>NaN</td>\n",
       "      <td>NaN</td>\n",
       "      <td>NaN</td>\n",
       "      <td>NaN</td>\n",
       "      <td>4</td>\n",
       "      <td>AFG</td>\n",
       "      <td>2020/01/22</td>\n",
       "    </tr>\n",
       "    <tr>\n",
       "      <th>1</th>\n",
       "      <td>Afghanistan</td>\n",
       "      <td>2020-01-23</td>\n",
       "      <td>0</td>\n",
       "      <td>0</td>\n",
       "      <td>NaN</td>\n",
       "      <td>NaN</td>\n",
       "      <td>0.0</td>\n",
       "      <td>NaN</td>\n",
       "      <td>0.0</td>\n",
       "      <td>NaN</td>\n",
       "      <td>NaN</td>\n",
       "      <td>NaN</td>\n",
       "      <td>NaN</td>\n",
       "      <td>4</td>\n",
       "      <td>AFG</td>\n",
       "      <td>2020/01/23</td>\n",
       "    </tr>\n",
       "  </tbody>\n",
       "</table>\n",
       "</div>"
      ],
      "text/plain": [
       "  Country_Region Last_Update  Confirmed  Deaths  Recovered  Active  \\\n",
       "0    Afghanistan  2020-01-22          0       0        NaN     NaN   \n",
       "1    Afghanistan  2020-01-23          0       0        NaN     NaN   \n",
       "\n",
       "   Delta_Confirmed  Delta_Recovered  Incident_Rate  People_Tested  \\\n",
       "0              0.0              NaN            0.0            NaN   \n",
       "1              0.0              NaN            0.0            NaN   \n",
       "\n",
       "   People_Hospitalized Province_State  FIPS  UID iso3 Report_Date_String  \n",
       "0                  NaN            NaN   NaN    4  AFG         2020/01/22  \n",
       "1                  NaN            NaN   NaN    4  AFG         2020/01/23  "
      ]
     },
     "execution_count": 63,
     "metadata": {},
     "output_type": "execute_result"
    }
   ],
   "source": [
    "# Read Top 2 Rows of latest_data \n",
    "latest_data.head(2)"
   ]
  },
  {
   "cell_type": "code",
   "execution_count": 64,
   "metadata": {
    "colab": {
     "base_uri": "https://localhost:8080/",
     "height": 159
    },
    "colab_type": "code",
    "id": "Pv53aJJ2CW4O",
    "outputId": "fef2bea7-1f94-4257-b091-2875162e195a"
   },
   "outputs": [
    {
     "data": {
      "text/html": [
       "<div>\n",
       "<style scoped>\n",
       "    .dataframe tbody tr th:only-of-type {\n",
       "        vertical-align: middle;\n",
       "    }\n",
       "\n",
       "    .dataframe tbody tr th {\n",
       "        vertical-align: top;\n",
       "    }\n",
       "\n",
       "    .dataframe thead th {\n",
       "        text-align: right;\n",
       "    }\n",
       "</style>\n",
       "<table border=\"1\" class=\"dataframe\">\n",
       "  <thead>\n",
       "    <tr style=\"text-align: right;\">\n",
       "      <th></th>\n",
       "      <th>Province/State</th>\n",
       "      <th>Country/Region</th>\n",
       "      <th>Lat</th>\n",
       "      <th>Long</th>\n",
       "      <th>1/22/20</th>\n",
       "      <th>1/23/20</th>\n",
       "      <th>1/24/20</th>\n",
       "      <th>1/25/20</th>\n",
       "      <th>1/26/20</th>\n",
       "      <th>1/27/20</th>\n",
       "      <th>...</th>\n",
       "      <th>5/20/20</th>\n",
       "      <th>5/21/20</th>\n",
       "      <th>5/22/20</th>\n",
       "      <th>5/23/20</th>\n",
       "      <th>5/24/20</th>\n",
       "      <th>5/25/20</th>\n",
       "      <th>5/26/20</th>\n",
       "      <th>5/27/20</th>\n",
       "      <th>5/28/20</th>\n",
       "      <th>5/29/20</th>\n",
       "    </tr>\n",
       "  </thead>\n",
       "  <tbody>\n",
       "    <tr>\n",
       "      <th>0</th>\n",
       "      <td>NaN</td>\n",
       "      <td>Afghanistan</td>\n",
       "      <td>33.0000</td>\n",
       "      <td>65.0000</td>\n",
       "      <td>0</td>\n",
       "      <td>0</td>\n",
       "      <td>0</td>\n",
       "      <td>0</td>\n",
       "      <td>0</td>\n",
       "      <td>0</td>\n",
       "      <td>...</td>\n",
       "      <td>187</td>\n",
       "      <td>193</td>\n",
       "      <td>205</td>\n",
       "      <td>216</td>\n",
       "      <td>218</td>\n",
       "      <td>219</td>\n",
       "      <td>220</td>\n",
       "      <td>227</td>\n",
       "      <td>235</td>\n",
       "      <td>246</td>\n",
       "    </tr>\n",
       "    <tr>\n",
       "      <th>1</th>\n",
       "      <td>NaN</td>\n",
       "      <td>Albania</td>\n",
       "      <td>41.1533</td>\n",
       "      <td>20.1683</td>\n",
       "      <td>0</td>\n",
       "      <td>0</td>\n",
       "      <td>0</td>\n",
       "      <td>0</td>\n",
       "      <td>0</td>\n",
       "      <td>0</td>\n",
       "      <td>...</td>\n",
       "      <td>31</td>\n",
       "      <td>31</td>\n",
       "      <td>31</td>\n",
       "      <td>31</td>\n",
       "      <td>32</td>\n",
       "      <td>32</td>\n",
       "      <td>33</td>\n",
       "      <td>33</td>\n",
       "      <td>33</td>\n",
       "      <td>33</td>\n",
       "    </tr>\n",
       "  </tbody>\n",
       "</table>\n",
       "<p>2 rows × 133 columns</p>\n",
       "</div>"
      ],
      "text/plain": [
       "  Province/State Country/Region      Lat     Long  1/22/20  1/23/20  1/24/20  \\\n",
       "0            NaN    Afghanistan  33.0000  65.0000        0        0        0   \n",
       "1            NaN        Albania  41.1533  20.1683        0        0        0   \n",
       "\n",
       "   1/25/20  1/26/20  1/27/20  ...  5/20/20  5/21/20  5/22/20  5/23/20  \\\n",
       "0        0        0        0  ...      187      193      205      216   \n",
       "1        0        0        0  ...       31       31       31       31   \n",
       "\n",
       "   5/24/20  5/25/20  5/26/20  5/27/20  5/28/20  5/29/20  \n",
       "0      218      219      220      227      235      246  \n",
       "1       32       32       33       33       33       33  \n",
       "\n",
       "[2 rows x 133 columns]"
      ]
     },
     "execution_count": 64,
     "metadata": {},
     "output_type": "execute_result"
    }
   ],
   "source": [
    "\n",
    "# Read Top 2 Rows of deaths_df \n",
    "deaths_df.head(2)"
   ]
  },
  {
   "cell_type": "code",
   "execution_count": 65,
   "metadata": {
    "colab": {
     "base_uri": "https://localhost:8080/",
     "height": 159
    },
    "colab_type": "code",
    "id": "StQaygvGCW4P",
    "outputId": "c83b541d-8016-4154-a3f9-2f739f3eafae"
   },
   "outputs": [
    {
     "data": {
      "text/html": [
       "<div>\n",
       "<style scoped>\n",
       "    .dataframe tbody tr th:only-of-type {\n",
       "        vertical-align: middle;\n",
       "    }\n",
       "\n",
       "    .dataframe tbody tr th {\n",
       "        vertical-align: top;\n",
       "    }\n",
       "\n",
       "    .dataframe thead th {\n",
       "        text-align: right;\n",
       "    }\n",
       "</style>\n",
       "<table border=\"1\" class=\"dataframe\">\n",
       "  <thead>\n",
       "    <tr style=\"text-align: right;\">\n",
       "      <th></th>\n",
       "      <th>Province/State</th>\n",
       "      <th>Country/Region</th>\n",
       "      <th>Lat</th>\n",
       "      <th>Long</th>\n",
       "      <th>1/22/20</th>\n",
       "      <th>1/23/20</th>\n",
       "      <th>1/24/20</th>\n",
       "      <th>1/25/20</th>\n",
       "      <th>1/26/20</th>\n",
       "      <th>1/27/20</th>\n",
       "      <th>...</th>\n",
       "      <th>5/20/20</th>\n",
       "      <th>5/21/20</th>\n",
       "      <th>5/22/20</th>\n",
       "      <th>5/23/20</th>\n",
       "      <th>5/24/20</th>\n",
       "      <th>5/25/20</th>\n",
       "      <th>5/26/20</th>\n",
       "      <th>5/27/20</th>\n",
       "      <th>5/28/20</th>\n",
       "      <th>5/29/20</th>\n",
       "    </tr>\n",
       "  </thead>\n",
       "  <tbody>\n",
       "    <tr>\n",
       "      <th>0</th>\n",
       "      <td>NaN</td>\n",
       "      <td>Afghanistan</td>\n",
       "      <td>33.0000</td>\n",
       "      <td>65.0000</td>\n",
       "      <td>0</td>\n",
       "      <td>0</td>\n",
       "      <td>0</td>\n",
       "      <td>0</td>\n",
       "      <td>0</td>\n",
       "      <td>0</td>\n",
       "      <td>...</td>\n",
       "      <td>930</td>\n",
       "      <td>938</td>\n",
       "      <td>996</td>\n",
       "      <td>1040</td>\n",
       "      <td>1075</td>\n",
       "      <td>1097</td>\n",
       "      <td>1128</td>\n",
       "      <td>1138</td>\n",
       "      <td>1209</td>\n",
       "      <td>1259</td>\n",
       "    </tr>\n",
       "    <tr>\n",
       "      <th>1</th>\n",
       "      <td>NaN</td>\n",
       "      <td>Albania</td>\n",
       "      <td>41.1533</td>\n",
       "      <td>20.1683</td>\n",
       "      <td>0</td>\n",
       "      <td>0</td>\n",
       "      <td>0</td>\n",
       "      <td>0</td>\n",
       "      <td>0</td>\n",
       "      <td>0</td>\n",
       "      <td>...</td>\n",
       "      <td>758</td>\n",
       "      <td>771</td>\n",
       "      <td>777</td>\n",
       "      <td>783</td>\n",
       "      <td>789</td>\n",
       "      <td>795</td>\n",
       "      <td>803</td>\n",
       "      <td>812</td>\n",
       "      <td>823</td>\n",
       "      <td>851</td>\n",
       "    </tr>\n",
       "  </tbody>\n",
       "</table>\n",
       "<p>2 rows × 133 columns</p>\n",
       "</div>"
      ],
      "text/plain": [
       "  Province/State Country/Region      Lat     Long  1/22/20  1/23/20  1/24/20  \\\n",
       "0            NaN    Afghanistan  33.0000  65.0000        0        0        0   \n",
       "1            NaN        Albania  41.1533  20.1683        0        0        0   \n",
       "\n",
       "   1/25/20  1/26/20  1/27/20  ...  5/20/20  5/21/20  5/22/20  5/23/20  \\\n",
       "0        0        0        0  ...      930      938      996     1040   \n",
       "1        0        0        0  ...      758      771      777      783   \n",
       "\n",
       "   5/24/20  5/25/20  5/26/20  5/27/20  5/28/20  5/29/20  \n",
       "0     1075     1097     1128     1138     1209     1259  \n",
       "1      789      795      803      812      823      851  \n",
       "\n",
       "[2 rows x 133 columns]"
      ]
     },
     "execution_count": 65,
     "metadata": {},
     "output_type": "execute_result"
    }
   ],
   "source": [
    "# Read Top 2 Rows of deaths_df \n",
    "recoveries_df.head(2)\n"
   ]
  },
  {
   "cell_type": "code",
   "execution_count": 66,
   "metadata": {
    "colab": {
     "base_uri": "https://localhost:8080/",
     "height": 145
    },
    "colab_type": "code",
    "id": "OMfsCdFmCW4T",
    "outputId": "7604d60b-3ed3-470b-e31c-de7e71524237"
   },
   "outputs": [
    {
     "data": {
      "text/html": [
       "<div>\n",
       "<style scoped>\n",
       "    .dataframe tbody tr th:only-of-type {\n",
       "        vertical-align: middle;\n",
       "    }\n",
       "\n",
       "    .dataframe tbody tr th {\n",
       "        vertical-align: top;\n",
       "    }\n",
       "\n",
       "    .dataframe thead th {\n",
       "        text-align: right;\n",
       "    }\n",
       "</style>\n",
       "<table border=\"1\" class=\"dataframe\">\n",
       "  <thead>\n",
       "    <tr style=\"text-align: right;\">\n",
       "      <th></th>\n",
       "      <th>FIPS</th>\n",
       "      <th>Admin2</th>\n",
       "      <th>Province_State</th>\n",
       "      <th>Country_Region</th>\n",
       "      <th>Last_Update</th>\n",
       "      <th>Lat</th>\n",
       "      <th>Long_</th>\n",
       "      <th>Confirmed</th>\n",
       "      <th>Deaths</th>\n",
       "      <th>Recovered</th>\n",
       "      <th>Active</th>\n",
       "      <th>Combined_Key</th>\n",
       "    </tr>\n",
       "  </thead>\n",
       "  <tbody>\n",
       "    <tr>\n",
       "      <th>0</th>\n",
       "      <td>45001.0</td>\n",
       "      <td>Abbeville</td>\n",
       "      <td>South Carolina</td>\n",
       "      <td>US</td>\n",
       "      <td>2020-04-08 22:51:58</td>\n",
       "      <td>34.223334</td>\n",
       "      <td>-82.461707</td>\n",
       "      <td>5</td>\n",
       "      <td>0</td>\n",
       "      <td>0</td>\n",
       "      <td>0</td>\n",
       "      <td>Abbeville, South Carolina, US</td>\n",
       "    </tr>\n",
       "    <tr>\n",
       "      <th>1</th>\n",
       "      <td>22001.0</td>\n",
       "      <td>Acadia</td>\n",
       "      <td>Louisiana</td>\n",
       "      <td>US</td>\n",
       "      <td>2020-04-08 22:51:58</td>\n",
       "      <td>30.295065</td>\n",
       "      <td>-92.414197</td>\n",
       "      <td>86</td>\n",
       "      <td>2</td>\n",
       "      <td>0</td>\n",
       "      <td>0</td>\n",
       "      <td>Acadia, Louisiana, US</td>\n",
       "    </tr>\n",
       "  </tbody>\n",
       "</table>\n",
       "</div>"
      ],
      "text/plain": [
       "      FIPS     Admin2  Province_State Country_Region          Last_Update  \\\n",
       "0  45001.0  Abbeville  South Carolina             US  2020-04-08 22:51:58   \n",
       "1  22001.0     Acadia       Louisiana             US  2020-04-08 22:51:58   \n",
       "\n",
       "         Lat      Long_  Confirmed  Deaths  Recovered  Active  \\\n",
       "0  34.223334 -82.461707          5       0          0       0   \n",
       "1  30.295065 -92.414197         86       2          0       0   \n",
       "\n",
       "                    Combined_Key  \n",
       "0  Abbeville, South Carolina, US  \n",
       "1          Acadia, Louisiana, US  "
      ]
     },
     "execution_count": 66,
     "metadata": {},
     "output_type": "execute_result"
    }
   ],
   "source": [
    "# Read Top 2 Rows of lastupdate_data\n",
    "lastupdate_data.head(2)\n"
   ]
  },
  {
   "cell_type": "code",
   "execution_count": 67,
   "metadata": {
    "colab": {
     "base_uri": "https://localhost:8080/",
     "height": 159
    },
    "colab_type": "code",
    "id": "d01jQNn7CW4W",
    "outputId": "c9dee1d6-ed23-434f-807b-e68bfe2c8999"
   },
   "outputs": [
    {
     "data": {
      "text/html": [
       "<div>\n",
       "<style scoped>\n",
       "    .dataframe tbody tr th:only-of-type {\n",
       "        vertical-align: middle;\n",
       "    }\n",
       "\n",
       "    .dataframe tbody tr th {\n",
       "        vertical-align: top;\n",
       "    }\n",
       "\n",
       "    .dataframe thead th {\n",
       "        text-align: right;\n",
       "    }\n",
       "</style>\n",
       "<table border=\"1\" class=\"dataframe\">\n",
       "  <thead>\n",
       "    <tr style=\"text-align: right;\">\n",
       "      <th></th>\n",
       "      <th>Province/State</th>\n",
       "      <th>Country/Region</th>\n",
       "      <th>Lat</th>\n",
       "      <th>Long</th>\n",
       "      <th>1/22/20</th>\n",
       "      <th>1/23/20</th>\n",
       "      <th>1/24/20</th>\n",
       "      <th>1/25/20</th>\n",
       "      <th>1/26/20</th>\n",
       "      <th>1/27/20</th>\n",
       "      <th>...</th>\n",
       "      <th>5/20/20</th>\n",
       "      <th>5/21/20</th>\n",
       "      <th>5/22/20</th>\n",
       "      <th>5/23/20</th>\n",
       "      <th>5/24/20</th>\n",
       "      <th>5/25/20</th>\n",
       "      <th>5/26/20</th>\n",
       "      <th>5/27/20</th>\n",
       "      <th>5/28/20</th>\n",
       "      <th>5/29/20</th>\n",
       "    </tr>\n",
       "  </thead>\n",
       "  <tbody>\n",
       "    <tr>\n",
       "      <th>0</th>\n",
       "      <td>NaN</td>\n",
       "      <td>Afghanistan</td>\n",
       "      <td>33.0000</td>\n",
       "      <td>65.0000</td>\n",
       "      <td>0</td>\n",
       "      <td>0</td>\n",
       "      <td>0</td>\n",
       "      <td>0</td>\n",
       "      <td>0</td>\n",
       "      <td>0</td>\n",
       "      <td>...</td>\n",
       "      <td>8145</td>\n",
       "      <td>8676</td>\n",
       "      <td>9216</td>\n",
       "      <td>9998</td>\n",
       "      <td>10582</td>\n",
       "      <td>11173</td>\n",
       "      <td>11831</td>\n",
       "      <td>12456</td>\n",
       "      <td>13036</td>\n",
       "      <td>13659</td>\n",
       "    </tr>\n",
       "    <tr>\n",
       "      <th>1</th>\n",
       "      <td>NaN</td>\n",
       "      <td>Albania</td>\n",
       "      <td>41.1533</td>\n",
       "      <td>20.1683</td>\n",
       "      <td>0</td>\n",
       "      <td>0</td>\n",
       "      <td>0</td>\n",
       "      <td>0</td>\n",
       "      <td>0</td>\n",
       "      <td>0</td>\n",
       "      <td>...</td>\n",
       "      <td>964</td>\n",
       "      <td>969</td>\n",
       "      <td>981</td>\n",
       "      <td>989</td>\n",
       "      <td>998</td>\n",
       "      <td>1004</td>\n",
       "      <td>1029</td>\n",
       "      <td>1050</td>\n",
       "      <td>1076</td>\n",
       "      <td>1099</td>\n",
       "    </tr>\n",
       "  </tbody>\n",
       "</table>\n",
       "<p>2 rows × 133 columns</p>\n",
       "</div>"
      ],
      "text/plain": [
       "  Province/State Country/Region      Lat     Long  1/22/20  1/23/20  1/24/20  \\\n",
       "0            NaN    Afghanistan  33.0000  65.0000        0        0        0   \n",
       "1            NaN        Albania  41.1533  20.1683        0        0        0   \n",
       "\n",
       "   1/25/20  1/26/20  1/27/20  ...  5/20/20  5/21/20  5/22/20  5/23/20  \\\n",
       "0        0        0        0  ...     8145     8676     9216     9998   \n",
       "1        0        0        0  ...      964      969      981      989   \n",
       "\n",
       "   5/24/20  5/25/20  5/26/20  5/27/20  5/28/20  5/29/20  \n",
       "0    10582    11173    11831    12456    13036    13659  \n",
       "1      998     1004     1029     1050     1076     1099  \n",
       "\n",
       "[2 rows x 133 columns]"
      ]
     },
     "execution_count": 67,
     "metadata": {},
     "output_type": "execute_result"
    }
   ],
   "source": [
    "# Read Top 2 Rows of confirmed_df \n",
    "confirmed_df.head(2)\n"
   ]
  },
  {
   "cell_type": "code",
   "execution_count": 68,
   "metadata": {
    "colab": {
     "base_uri": "https://localhost:8080/",
     "height": 165
    },
    "colab_type": "code",
    "id": "JpRORDHjCW4Z",
    "outputId": "42643d1f-0647-4e70-f42b-d4b1d6fa9b56"
   },
   "outputs": [
    {
     "data": {
      "text/html": [
       "<div>\n",
       "<style scoped>\n",
       "    .dataframe tbody tr th:only-of-type {\n",
       "        vertical-align: middle;\n",
       "    }\n",
       "\n",
       "    .dataframe tbody tr th {\n",
       "        vertical-align: top;\n",
       "    }\n",
       "\n",
       "    .dataframe thead th {\n",
       "        text-align: right;\n",
       "    }\n",
       "</style>\n",
       "<table border=\"1\" class=\"dataframe\">\n",
       "  <thead>\n",
       "    <tr style=\"text-align: right;\">\n",
       "      <th></th>\n",
       "      <th>Country_Region</th>\n",
       "      <th>Last_Update</th>\n",
       "      <th>Lat</th>\n",
       "      <th>Long_</th>\n",
       "      <th>Confirmed</th>\n",
       "      <th>Deaths</th>\n",
       "      <th>Recovered</th>\n",
       "      <th>Active</th>\n",
       "      <th>Incident_Rate</th>\n",
       "      <th>People_Tested</th>\n",
       "      <th>People_Hospitalized</th>\n",
       "      <th>Mortality_Rate</th>\n",
       "      <th>UID</th>\n",
       "      <th>ISO3</th>\n",
       "    </tr>\n",
       "  </thead>\n",
       "  <tbody>\n",
       "    <tr>\n",
       "      <th>0</th>\n",
       "      <td>Australia</td>\n",
       "      <td>2020-05-30 08:32:43</td>\n",
       "      <td>-25.0000</td>\n",
       "      <td>133.0000</td>\n",
       "      <td>7185.0</td>\n",
       "      <td>103.0</td>\n",
       "      <td>6606.0</td>\n",
       "      <td>476.0</td>\n",
       "      <td>28.221071</td>\n",
       "      <td>NaN</td>\n",
       "      <td>NaN</td>\n",
       "      <td>1.433542</td>\n",
       "      <td>36</td>\n",
       "      <td>AUS</td>\n",
       "    </tr>\n",
       "    <tr>\n",
       "      <th>1</th>\n",
       "      <td>Austria</td>\n",
       "      <td>2020-05-30 08:32:43</td>\n",
       "      <td>47.5162</td>\n",
       "      <td>14.5501</td>\n",
       "      <td>16655.0</td>\n",
       "      <td>668.0</td>\n",
       "      <td>15347.0</td>\n",
       "      <td>640.0</td>\n",
       "      <td>184.924054</td>\n",
       "      <td>NaN</td>\n",
       "      <td>NaN</td>\n",
       "      <td>4.010808</td>\n",
       "      <td>40</td>\n",
       "      <td>AUT</td>\n",
       "    </tr>\n",
       "  </tbody>\n",
       "</table>\n",
       "</div>"
      ],
      "text/plain": [
       "  Country_Region          Last_Update      Lat     Long_  Confirmed  Deaths  \\\n",
       "0      Australia  2020-05-30 08:32:43 -25.0000  133.0000     7185.0   103.0   \n",
       "1        Austria  2020-05-30 08:32:43  47.5162   14.5501    16655.0   668.0   \n",
       "\n",
       "   Recovered  Active  Incident_Rate  People_Tested  People_Hospitalized  \\\n",
       "0     6606.0   476.0      28.221071            NaN                  NaN   \n",
       "1    15347.0   640.0     184.924054            NaN                  NaN   \n",
       "\n",
       "   Mortality_Rate  UID ISO3  \n",
       "0        1.433542   36  AUS  \n",
       "1        4.010808   40  AUT  "
      ]
     },
     "execution_count": 68,
     "metadata": {},
     "output_type": "execute_result"
    }
   ],
   "source": [
    "# Read Top 2 Rows of Country_df \n",
    "Country_df.head(2)\n"
   ]
  },
  {
   "cell_type": "markdown",
   "metadata": {
    "colab_type": "text",
    "id": "V-3dwD-5CW4b"
   },
   "source": [
    "### Preprocessing\n",
    "#### Rename Columns"
   ]
  },
  {
   "cell_type": "code",
   "execution_count": 69,
   "metadata": {
    "colab": {},
    "colab_type": "code",
    "id": "CangUYTxCW4b"
   },
   "outputs": [],
   "source": [
    "\n",
    "confirmed_df = confirmed_df.rename(columns={\"Province/State\":\"state\",\"Country/Region\": \"country\"})\n",
    "deaths_df = deaths_df.rename(columns={\"Province/State\":\"state\",\"Country/Region\": \"country\"})\n",
    "recoveries_df = recoveries_df.rename(columns={\"Province/State\":\"state\",\"Country/Region\": \"country\"})\n",
    "Country_df = Country_df.rename(columns={\"Country_Region\": \"country\"})\n",
    "# Changing the conuntry names as required by pycountry_convert Lib\n",
    "confirmed_df.loc[confirmed_df['country'] == \"US\", \"country\"] = \"USA\"\n",
    "deaths_df.loc[deaths_df['country'] == \"US\", \"country\"] = \"USA\"\n",
    "Country_df.loc[Country_df['country'] == \"US\", \"country\"] = \"USA\"\n",
    "recoveries_df.loc[recoveries_df['country'] == \"US\", \"country\"] = \"USA\"\n",
    "latest_data.loc[latest_data['Country_Region'] == \"US\", \"Country_Region\"] = \"USA\"\n",
    "dates1 = confirmed_df.columns[4:]\n",
    "\n",
    "confirmed_df1 = confirmed_df.melt(id_vars=['state', 'country', 'Lat', 'Long'], \n",
    "                            value_vars=dates1, var_name='Date', value_name='Confirmed')\n",
    "\n",
    "deaths_df1 = deaths_df.melt(id_vars=['state', 'country', 'Lat', 'Long'], \n",
    "                            value_vars=dates1, var_name='Date', value_name='Deaths')\n",
    "\n",
    "recoveries_df1 = recoveries_df.melt(id_vars=['state', 'country', 'Lat', 'Long'], \n",
    "                            value_vars=dates1, var_name='Date', value_name='Recovered')\n",
    "# getting all countries\n",
    "countries = np.asarray(confirmed_df[\"country\"])\n",
    "countries1 = np.asarray(Country_df[\"country\"])\n",
    "\n",
    "# Continent_code to Continent_names\n",
    "continents = {\n",
    "    'NA': 'North America',\n",
    "    'SA': 'South America', \n",
    "    'AS': 'Asia',\n",
    "    'OC': 'Australia',\n",
    "    'AF': 'Africa',\n",
    "    'EU' : 'Europe',\n",
    "    'na' : 'Others'\n",
    "}\n",
    "\n",
    "# Defininng Function for getting continent code for country.\n",
    "def country_to_continent_code(country):\n",
    "    try:\n",
    "        return pc.country_alpha2_to_continent_code(pc.country_name_to_country_alpha2(country))\n",
    "    except :\n",
    "        return 'na'\n",
    "\n",
    "#Collecting Continent Information\n",
    "confirmed_df.insert(2,\"continent\", [continents[country_to_continent_code(country)] for country in countries[:]])\n",
    "deaths_df.insert(2,\"continent\",  [continents[country_to_continent_code(country)] for country in countries[:]])\n",
    "Country_df.insert(1,\"continent\",  [continents[country_to_continent_code(country)] for country in countries1[:]])\n",
    "latest_data.insert(1,\"continent\",  [continents[country_to_continent_code(country)] for country in latest_data[\"Country_Region\"].values])\n",
    "#recoveries_df.insert(2,\"continent\",  [continents[country_to_continent_code(country)] for country in countries[:]] )  \n",
    "\n"
   ]
  },
  {
   "cell_type": "code",
   "execution_count": 70,
   "metadata": {
    "colab": {
     "base_uri": "https://localhost:8080/",
     "height": 203
    },
    "colab_type": "code",
    "id": "yM5yzV5ICW4d",
    "outputId": "394bb667-868f-47e3-d449-a068e950737d"
   },
   "outputs": [
    {
     "data": {
      "text/html": [
       "<div>\n",
       "<style scoped>\n",
       "    .dataframe tbody tr th:only-of-type {\n",
       "        vertical-align: middle;\n",
       "    }\n",
       "\n",
       "    .dataframe tbody tr th {\n",
       "        vertical-align: top;\n",
       "    }\n",
       "\n",
       "    .dataframe thead th {\n",
       "        text-align: right;\n",
       "    }\n",
       "</style>\n",
       "<table border=\"1\" class=\"dataframe\">\n",
       "  <thead>\n",
       "    <tr style=\"text-align: right;\">\n",
       "      <th></th>\n",
       "      <th>state</th>\n",
       "      <th>country</th>\n",
       "      <th>Lat</th>\n",
       "      <th>Long</th>\n",
       "      <th>Date</th>\n",
       "      <th>Confirmed</th>\n",
       "      <th>Deaths</th>\n",
       "      <th>Recovered</th>\n",
       "      <th>Active</th>\n",
       "    </tr>\n",
       "  </thead>\n",
       "  <tbody>\n",
       "    <tr>\n",
       "      <th>0</th>\n",
       "      <td>NaN</td>\n",
       "      <td>Afghanistan</td>\n",
       "      <td>33.0000</td>\n",
       "      <td>65.0000</td>\n",
       "      <td>1/22/20</td>\n",
       "      <td>0</td>\n",
       "      <td>0</td>\n",
       "      <td>0.0</td>\n",
       "      <td>0.0</td>\n",
       "    </tr>\n",
       "    <tr>\n",
       "      <th>1</th>\n",
       "      <td>NaN</td>\n",
       "      <td>Albania</td>\n",
       "      <td>41.1533</td>\n",
       "      <td>20.1683</td>\n",
       "      <td>1/22/20</td>\n",
       "      <td>0</td>\n",
       "      <td>0</td>\n",
       "      <td>0.0</td>\n",
       "      <td>0.0</td>\n",
       "    </tr>\n",
       "    <tr>\n",
       "      <th>2</th>\n",
       "      <td>NaN</td>\n",
       "      <td>Algeria</td>\n",
       "      <td>28.0339</td>\n",
       "      <td>1.6596</td>\n",
       "      <td>1/22/20</td>\n",
       "      <td>0</td>\n",
       "      <td>0</td>\n",
       "      <td>0.0</td>\n",
       "      <td>0.0</td>\n",
       "    </tr>\n",
       "    <tr>\n",
       "      <th>3</th>\n",
       "      <td>NaN</td>\n",
       "      <td>Andorra</td>\n",
       "      <td>42.5063</td>\n",
       "      <td>1.5218</td>\n",
       "      <td>1/22/20</td>\n",
       "      <td>0</td>\n",
       "      <td>0</td>\n",
       "      <td>0.0</td>\n",
       "      <td>0.0</td>\n",
       "    </tr>\n",
       "    <tr>\n",
       "      <th>4</th>\n",
       "      <td>NaN</td>\n",
       "      <td>Angola</td>\n",
       "      <td>-11.2027</td>\n",
       "      <td>17.8739</td>\n",
       "      <td>1/22/20</td>\n",
       "      <td>0</td>\n",
       "      <td>0</td>\n",
       "      <td>0.0</td>\n",
       "      <td>0.0</td>\n",
       "    </tr>\n",
       "  </tbody>\n",
       "</table>\n",
       "</div>"
      ],
      "text/plain": [
       "  state      country      Lat     Long     Date  Confirmed  Deaths  Recovered  \\\n",
       "0   NaN  Afghanistan  33.0000  65.0000  1/22/20          0       0        0.0   \n",
       "1   NaN      Albania  41.1533  20.1683  1/22/20          0       0        0.0   \n",
       "2   NaN      Algeria  28.0339   1.6596  1/22/20          0       0        0.0   \n",
       "3   NaN      Andorra  42.5063   1.5218  1/22/20          0       0        0.0   \n",
       "4   NaN       Angola -11.2027  17.8739  1/22/20          0       0        0.0   \n",
       "\n",
       "   Active  \n",
       "0     0.0  \n",
       "1     0.0  \n",
       "2     0.0  \n",
       "3     0.0  \n",
       "4     0.0  "
      ]
     },
     "execution_count": 70,
     "metadata": {},
     "output_type": "execute_result"
    }
   ],
   "source": [
    "# Handaling Missing data\n",
    "confirmed_df = confirmed_df.replace(np.nan, '', regex=True)\n",
    "deaths_df = deaths_df.replace(np.nan, '', regex=True)\n",
    "Full_data = pd.merge(left=confirmed_df1, right=deaths_df1, how='left',\n",
    "                      on=['state', 'country', 'Date', 'Lat', 'Long'])\n",
    "Full_data = pd.merge(left=Full_data, right=recoveries_df1, how='left',\n",
    "                      on=['state', 'country', 'Date', 'Lat', 'Long'])\n",
    "# Active Case = confirmed - deaths - recovered\n",
    "Full_data['Active'] = Full_data['Confirmed'] - Full_data['Deaths'] - Full_data['Recovered']\n",
    "Full_data.head(5)"
   ]
  },
  {
   "cell_type": "code",
   "execution_count": 71,
   "metadata": {
    "colab": {
     "base_uri": "https://localhost:8080/",
     "height": 72
    },
    "colab_type": "code",
    "id": "OJgi1Vf5CW4f",
    "outputId": "43e66005-6e9a-4cc0-b449-a44e937a6a62"
   },
   "outputs": [
    {
     "name": "stderr",
     "output_type": "stream",
     "text": [
      "C:\\Users\\carla\\Anaconda3\\lib\\site-packages\\ipykernel_launcher.py:6: FutureWarning: Indexing with multiple keys (implicitly converted to a tuple of keys) will be deprecated, use a list instead.\n",
      "  \n"
     ]
    }
   ],
   "source": [
    "# Handaling Missing data\n",
    "Full_data=Full_data.dropna(subset=['Long'])\n",
    "Full_data=Full_data.dropna(subset=['Lat'])\n",
    "# latest condensed\n",
    "#latest_grouped = lastupdate_data.groupby('Country_Region')['Confirmed', 'Deaths', 'Recovered', 'Active'].sum().reset_index()\n",
    "latest_grouped = Country_df.groupby('country')['Confirmed', 'Deaths', 'Recovered', 'Active'].sum().reset_index()\n",
    "cols = confirmed_df.keys()\n",
    "confirmed = confirmed_df.loc[:, cols[4]:cols[-1]]\n",
    "deaths = deaths_df.loc[:, cols[4]:cols[-1]]\n",
    "recoveries = recoveries_df.loc[:, cols[4]:cols[-1]]"
   ]
  },
  {
   "cell_type": "code",
   "execution_count": 72,
   "metadata": {
    "colab": {
     "base_uri": "https://localhost:8080/",
     "height": 35
    },
    "colab_type": "code",
    "id": "G5bI83raCW4h",
    "outputId": "bf4cecd1-a9be-4315-dc5c-5e499de4b04b"
   },
   "outputs": [
    {
     "data": {
      "text/plain": [
       "34314"
      ]
     },
     "execution_count": 72,
     "metadata": {},
     "output_type": "execute_result"
    }
   ],
   "source": [
    "len(Full_data)"
   ]
  },
  {
   "cell_type": "code",
   "execution_count": 73,
   "metadata": {
    "colab": {
     "base_uri": "https://localhost:8080/",
     "height": 203
    },
    "colab_type": "code",
    "id": "UrTCJMZnCW4j",
    "outputId": "55b5711f-5c6b-4a07-b90a-3725c7a8897a"
   },
   "outputs": [
    {
     "data": {
      "text/html": [
       "<div>\n",
       "<style scoped>\n",
       "    .dataframe tbody tr th:only-of-type {\n",
       "        vertical-align: middle;\n",
       "    }\n",
       "\n",
       "    .dataframe tbody tr th {\n",
       "        vertical-align: top;\n",
       "    }\n",
       "\n",
       "    .dataframe thead th {\n",
       "        text-align: right;\n",
       "    }\n",
       "</style>\n",
       "<table border=\"1\" class=\"dataframe\">\n",
       "  <thead>\n",
       "    <tr style=\"text-align: right;\">\n",
       "      <th></th>\n",
       "      <th>state</th>\n",
       "      <th>country</th>\n",
       "      <th>Lat</th>\n",
       "      <th>Long</th>\n",
       "      <th>Date</th>\n",
       "      <th>Confirmed</th>\n",
       "      <th>Deaths</th>\n",
       "      <th>Recovered</th>\n",
       "      <th>Active</th>\n",
       "    </tr>\n",
       "  </thead>\n",
       "  <tbody>\n",
       "    <tr>\n",
       "      <th>0</th>\n",
       "      <td>NaN</td>\n",
       "      <td>Afghanistan</td>\n",
       "      <td>33.0000</td>\n",
       "      <td>65.0000</td>\n",
       "      <td>1/22/20</td>\n",
       "      <td>0</td>\n",
       "      <td>0</td>\n",
       "      <td>0.0</td>\n",
       "      <td>0.0</td>\n",
       "    </tr>\n",
       "    <tr>\n",
       "      <th>1</th>\n",
       "      <td>NaN</td>\n",
       "      <td>Albania</td>\n",
       "      <td>41.1533</td>\n",
       "      <td>20.1683</td>\n",
       "      <td>1/22/20</td>\n",
       "      <td>0</td>\n",
       "      <td>0</td>\n",
       "      <td>0.0</td>\n",
       "      <td>0.0</td>\n",
       "    </tr>\n",
       "    <tr>\n",
       "      <th>2</th>\n",
       "      <td>NaN</td>\n",
       "      <td>Algeria</td>\n",
       "      <td>28.0339</td>\n",
       "      <td>1.6596</td>\n",
       "      <td>1/22/20</td>\n",
       "      <td>0</td>\n",
       "      <td>0</td>\n",
       "      <td>0.0</td>\n",
       "      <td>0.0</td>\n",
       "    </tr>\n",
       "    <tr>\n",
       "      <th>3</th>\n",
       "      <td>NaN</td>\n",
       "      <td>Andorra</td>\n",
       "      <td>42.5063</td>\n",
       "      <td>1.5218</td>\n",
       "      <td>1/22/20</td>\n",
       "      <td>0</td>\n",
       "      <td>0</td>\n",
       "      <td>0.0</td>\n",
       "      <td>0.0</td>\n",
       "    </tr>\n",
       "    <tr>\n",
       "      <th>4</th>\n",
       "      <td>NaN</td>\n",
       "      <td>Angola</td>\n",
       "      <td>-11.2027</td>\n",
       "      <td>17.8739</td>\n",
       "      <td>1/22/20</td>\n",
       "      <td>0</td>\n",
       "      <td>0</td>\n",
       "      <td>0.0</td>\n",
       "      <td>0.0</td>\n",
       "    </tr>\n",
       "  </tbody>\n",
       "</table>\n",
       "</div>"
      ],
      "text/plain": [
       "  state      country      Lat     Long     Date  Confirmed  Deaths  Recovered  \\\n",
       "0   NaN  Afghanistan  33.0000  65.0000  1/22/20          0       0        0.0   \n",
       "1   NaN      Albania  41.1533  20.1683  1/22/20          0       0        0.0   \n",
       "2   NaN      Algeria  28.0339   1.6596  1/22/20          0       0        0.0   \n",
       "3   NaN      Andorra  42.5063   1.5218  1/22/20          0       0        0.0   \n",
       "4   NaN       Angola -11.2027  17.8739  1/22/20          0       0        0.0   \n",
       "\n",
       "   Active  \n",
       "0     0.0  \n",
       "1     0.0  \n",
       "2     0.0  \n",
       "3     0.0  \n",
       "4     0.0  "
      ]
     },
     "execution_count": 73,
     "metadata": {},
     "output_type": "execute_result"
    }
   ],
   "source": [
    "Full_data.head()"
   ]
  },
  {
   "cell_type": "code",
   "execution_count": 74,
   "metadata": {
    "colab": {
     "base_uri": "https://localhost:8080/",
     "height": 417
    },
    "colab_type": "code",
    "id": "9oxj3IiBCW4k",
    "outputId": "48d87bdc-046d-4603-dd35-d7d7afbd2af3"
   },
   "outputs": [
    {
     "data": {
      "text/html": [
       "<div>\n",
       "<style scoped>\n",
       "    .dataframe tbody tr th:only-of-type {\n",
       "        vertical-align: middle;\n",
       "    }\n",
       "\n",
       "    .dataframe tbody tr th {\n",
       "        vertical-align: top;\n",
       "    }\n",
       "\n",
       "    .dataframe thead th {\n",
       "        text-align: right;\n",
       "    }\n",
       "</style>\n",
       "<table border=\"1\" class=\"dataframe\">\n",
       "  <thead>\n",
       "    <tr style=\"text-align: right;\">\n",
       "      <th></th>\n",
       "      <th>state</th>\n",
       "      <th>country</th>\n",
       "      <th>Lat</th>\n",
       "      <th>Long</th>\n",
       "      <th>Date</th>\n",
       "      <th>Confirmed</th>\n",
       "      <th>Deaths</th>\n",
       "      <th>Recovered</th>\n",
       "      <th>Active</th>\n",
       "    </tr>\n",
       "  </thead>\n",
       "  <tbody>\n",
       "    <tr>\n",
       "      <th>225</th>\n",
       "      <td>NaN</td>\n",
       "      <td>USA</td>\n",
       "      <td>37.0902</td>\n",
       "      <td>-95.7129</td>\n",
       "      <td>1/22/20</td>\n",
       "      <td>1</td>\n",
       "      <td>0</td>\n",
       "      <td>0.0</td>\n",
       "      <td>1.0</td>\n",
       "    </tr>\n",
       "    <tr>\n",
       "      <th>491</th>\n",
       "      <td>NaN</td>\n",
       "      <td>USA</td>\n",
       "      <td>37.0902</td>\n",
       "      <td>-95.7129</td>\n",
       "      <td>1/23/20</td>\n",
       "      <td>1</td>\n",
       "      <td>0</td>\n",
       "      <td>0.0</td>\n",
       "      <td>1.0</td>\n",
       "    </tr>\n",
       "    <tr>\n",
       "      <th>757</th>\n",
       "      <td>NaN</td>\n",
       "      <td>USA</td>\n",
       "      <td>37.0902</td>\n",
       "      <td>-95.7129</td>\n",
       "      <td>1/24/20</td>\n",
       "      <td>2</td>\n",
       "      <td>0</td>\n",
       "      <td>0.0</td>\n",
       "      <td>2.0</td>\n",
       "    </tr>\n",
       "    <tr>\n",
       "      <th>1023</th>\n",
       "      <td>NaN</td>\n",
       "      <td>USA</td>\n",
       "      <td>37.0902</td>\n",
       "      <td>-95.7129</td>\n",
       "      <td>1/25/20</td>\n",
       "      <td>2</td>\n",
       "      <td>0</td>\n",
       "      <td>0.0</td>\n",
       "      <td>2.0</td>\n",
       "    </tr>\n",
       "    <tr>\n",
       "      <th>1289</th>\n",
       "      <td>NaN</td>\n",
       "      <td>USA</td>\n",
       "      <td>37.0902</td>\n",
       "      <td>-95.7129</td>\n",
       "      <td>1/26/20</td>\n",
       "      <td>5</td>\n",
       "      <td>0</td>\n",
       "      <td>0.0</td>\n",
       "      <td>5.0</td>\n",
       "    </tr>\n",
       "    <tr>\n",
       "      <th>...</th>\n",
       "      <td>...</td>\n",
       "      <td>...</td>\n",
       "      <td>...</td>\n",
       "      <td>...</td>\n",
       "      <td>...</td>\n",
       "      <td>...</td>\n",
       "      <td>...</td>\n",
       "      <td>...</td>\n",
       "      <td>...</td>\n",
       "    </tr>\n",
       "    <tr>\n",
       "      <th>33209</th>\n",
       "      <td>NaN</td>\n",
       "      <td>USA</td>\n",
       "      <td>37.0902</td>\n",
       "      <td>-95.7129</td>\n",
       "      <td>5/25/20</td>\n",
       "      <td>1662302</td>\n",
       "      <td>98219</td>\n",
       "      <td>379157.0</td>\n",
       "      <td>1184926.0</td>\n",
       "    </tr>\n",
       "    <tr>\n",
       "      <th>33475</th>\n",
       "      <td>NaN</td>\n",
       "      <td>USA</td>\n",
       "      <td>37.0902</td>\n",
       "      <td>-95.7129</td>\n",
       "      <td>5/26/20</td>\n",
       "      <td>1680913</td>\n",
       "      <td>98912</td>\n",
       "      <td>384902.0</td>\n",
       "      <td>1197099.0</td>\n",
       "    </tr>\n",
       "    <tr>\n",
       "      <th>33741</th>\n",
       "      <td>NaN</td>\n",
       "      <td>USA</td>\n",
       "      <td>37.0902</td>\n",
       "      <td>-95.7129</td>\n",
       "      <td>5/27/20</td>\n",
       "      <td>1699176</td>\n",
       "      <td>100417</td>\n",
       "      <td>391508.0</td>\n",
       "      <td>1207251.0</td>\n",
       "    </tr>\n",
       "    <tr>\n",
       "      <th>34007</th>\n",
       "      <td>NaN</td>\n",
       "      <td>USA</td>\n",
       "      <td>37.0902</td>\n",
       "      <td>-95.7129</td>\n",
       "      <td>5/28/20</td>\n",
       "      <td>1721753</td>\n",
       "      <td>101616</td>\n",
       "      <td>399991.0</td>\n",
       "      <td>1220146.0</td>\n",
       "    </tr>\n",
       "    <tr>\n",
       "      <th>34273</th>\n",
       "      <td>NaN</td>\n",
       "      <td>USA</td>\n",
       "      <td>37.0902</td>\n",
       "      <td>-95.7129</td>\n",
       "      <td>5/29/20</td>\n",
       "      <td>1746019</td>\n",
       "      <td>102809</td>\n",
       "      <td>406446.0</td>\n",
       "      <td>1236764.0</td>\n",
       "    </tr>\n",
       "  </tbody>\n",
       "</table>\n",
       "<p>129 rows × 9 columns</p>\n",
       "</div>"
      ],
      "text/plain": [
       "      state country      Lat     Long     Date  Confirmed  Deaths  Recovered  \\\n",
       "225     NaN     USA  37.0902 -95.7129  1/22/20          1       0        0.0   \n",
       "491     NaN     USA  37.0902 -95.7129  1/23/20          1       0        0.0   \n",
       "757     NaN     USA  37.0902 -95.7129  1/24/20          2       0        0.0   \n",
       "1023    NaN     USA  37.0902 -95.7129  1/25/20          2       0        0.0   \n",
       "1289    NaN     USA  37.0902 -95.7129  1/26/20          5       0        0.0   \n",
       "...     ...     ...      ...      ...      ...        ...     ...        ...   \n",
       "33209   NaN     USA  37.0902 -95.7129  5/25/20    1662302   98219   379157.0   \n",
       "33475   NaN     USA  37.0902 -95.7129  5/26/20    1680913   98912   384902.0   \n",
       "33741   NaN     USA  37.0902 -95.7129  5/27/20    1699176  100417   391508.0   \n",
       "34007   NaN     USA  37.0902 -95.7129  5/28/20    1721753  101616   399991.0   \n",
       "34273   NaN     USA  37.0902 -95.7129  5/29/20    1746019  102809   406446.0   \n",
       "\n",
       "          Active  \n",
       "225          1.0  \n",
       "491          1.0  \n",
       "757          2.0  \n",
       "1023         2.0  \n",
       "1289         5.0  \n",
       "...          ...  \n",
       "33209  1184926.0  \n",
       "33475  1197099.0  \n",
       "33741  1207251.0  \n",
       "34007  1220146.0  \n",
       "34273  1236764.0  \n",
       "\n",
       "[129 rows x 9 columns]"
      ]
     },
     "execution_count": 74,
     "metadata": {},
     "output_type": "execute_result"
    }
   ],
   "source": [
    "Full_data.loc[Full_data.country==\"USA\"]"
   ]
  },
  {
   "cell_type": "code",
   "execution_count": 75,
   "metadata": {
    "colab": {},
    "colab_type": "code",
    "id": "DMGFhi6FCW4l"
   },
   "outputs": [],
   "source": [
    "grouped_single = Full_data.groupby('country').agg({'Confirmed': ['max'],'Deaths': ['max']})\n"
   ]
  },
  {
   "cell_type": "code",
   "execution_count": 76,
   "metadata": {
    "colab": {
     "base_uri": "https://localhost:8080/",
     "height": 478
    },
    "colab_type": "code",
    "id": "-TfqKVrVCW4n",
    "outputId": "48d8cd5f-b0f4-4b32-fa21-018bb1be70b2"
   },
   "outputs": [
    {
     "data": {
      "text/html": [
       "<div>\n",
       "<style scoped>\n",
       "    .dataframe tbody tr th:only-of-type {\n",
       "        vertical-align: middle;\n",
       "    }\n",
       "\n",
       "    .dataframe tbody tr th {\n",
       "        vertical-align: top;\n",
       "    }\n",
       "\n",
       "    .dataframe thead tr th {\n",
       "        text-align: left;\n",
       "    }\n",
       "\n",
       "    .dataframe thead tr:last-of-type th {\n",
       "        text-align: right;\n",
       "    }\n",
       "</style>\n",
       "<table border=\"1\" class=\"dataframe\">\n",
       "  <thead>\n",
       "    <tr>\n",
       "      <th></th>\n",
       "      <th>Confirmed</th>\n",
       "      <th>Deaths</th>\n",
       "    </tr>\n",
       "    <tr>\n",
       "      <th></th>\n",
       "      <th>max</th>\n",
       "      <th>max</th>\n",
       "    </tr>\n",
       "    <tr>\n",
       "      <th>country</th>\n",
       "      <th></th>\n",
       "      <th></th>\n",
       "    </tr>\n",
       "  </thead>\n",
       "  <tbody>\n",
       "    <tr>\n",
       "      <th>Afghanistan</th>\n",
       "      <td>13659</td>\n",
       "      <td>246</td>\n",
       "    </tr>\n",
       "    <tr>\n",
       "      <th>Albania</th>\n",
       "      <td>1099</td>\n",
       "      <td>33</td>\n",
       "    </tr>\n",
       "    <tr>\n",
       "      <th>Algeria</th>\n",
       "      <td>9134</td>\n",
       "      <td>638</td>\n",
       "    </tr>\n",
       "    <tr>\n",
       "      <th>Andorra</th>\n",
       "      <td>764</td>\n",
       "      <td>51</td>\n",
       "    </tr>\n",
       "    <tr>\n",
       "      <th>Angola</th>\n",
       "      <td>81</td>\n",
       "      <td>4</td>\n",
       "    </tr>\n",
       "    <tr>\n",
       "      <th>...</th>\n",
       "      <td>...</td>\n",
       "      <td>...</td>\n",
       "    </tr>\n",
       "    <tr>\n",
       "      <th>West Bank and Gaza</th>\n",
       "      <td>446</td>\n",
       "      <td>3</td>\n",
       "    </tr>\n",
       "    <tr>\n",
       "      <th>Western Sahara</th>\n",
       "      <td>9</td>\n",
       "      <td>1</td>\n",
       "    </tr>\n",
       "    <tr>\n",
       "      <th>Yemen</th>\n",
       "      <td>283</td>\n",
       "      <td>65</td>\n",
       "    </tr>\n",
       "    <tr>\n",
       "      <th>Zambia</th>\n",
       "      <td>1057</td>\n",
       "      <td>7</td>\n",
       "    </tr>\n",
       "    <tr>\n",
       "      <th>Zimbabwe</th>\n",
       "      <td>149</td>\n",
       "      <td>4</td>\n",
       "    </tr>\n",
       "  </tbody>\n",
       "</table>\n",
       "<p>188 rows × 2 columns</p>\n",
       "</div>"
      ],
      "text/plain": [
       "                   Confirmed Deaths\n",
       "                         max    max\n",
       "country                            \n",
       "Afghanistan            13659    246\n",
       "Albania                 1099     33\n",
       "Algeria                 9134    638\n",
       "Andorra                  764     51\n",
       "Angola                    81      4\n",
       "...                      ...    ...\n",
       "West Bank and Gaza       446      3\n",
       "Western Sahara             9      1\n",
       "Yemen                    283     65\n",
       "Zambia                  1057      7\n",
       "Zimbabwe                 149      4\n",
       "\n",
       "[188 rows x 2 columns]"
      ]
     },
     "execution_count": 76,
     "metadata": {},
     "output_type": "execute_result"
    }
   ],
   "source": [
    "grouped_single"
   ]
  },
  {
   "cell_type": "code",
   "execution_count": 77,
   "metadata": {
    "colab": {},
    "colab_type": "code",
    "id": "2Obvi0UgCW4q"
   },
   "outputs": [],
   "source": [
    "### import country population data 2020\n",
    "\n",
    "population_df = pd.read_csv(\"population_by_country_2020.csv\")"
   ]
  },
  {
   "cell_type": "code",
   "execution_count": 78,
   "metadata": {
    "colab": {
     "base_uri": "https://localhost:8080/",
     "height": 220
    },
    "colab_type": "code",
    "id": "Zu_VNLjZCW4r",
    "outputId": "2dceb690-24ba-481b-8143-0d1de927fa96"
   },
   "outputs": [
    {
     "data": {
      "text/html": [
       "<div>\n",
       "<style scoped>\n",
       "    .dataframe tbody tr th:only-of-type {\n",
       "        vertical-align: middle;\n",
       "    }\n",
       "\n",
       "    .dataframe tbody tr th {\n",
       "        vertical-align: top;\n",
       "    }\n",
       "\n",
       "    .dataframe thead th {\n",
       "        text-align: right;\n",
       "    }\n",
       "</style>\n",
       "<table border=\"1\" class=\"dataframe\">\n",
       "  <thead>\n",
       "    <tr style=\"text-align: right;\">\n",
       "      <th></th>\n",
       "      <th>Country (or dependency)</th>\n",
       "      <th>Population (2020)</th>\n",
       "      <th>Yearly Change</th>\n",
       "      <th>Net Change</th>\n",
       "      <th>Density (P/Km²)</th>\n",
       "      <th>Land Area (Km²)</th>\n",
       "      <th>Migrants (net)</th>\n",
       "      <th>Fert. Rate</th>\n",
       "      <th>Med. Age</th>\n",
       "      <th>Urban Pop %</th>\n",
       "      <th>World Share</th>\n",
       "    </tr>\n",
       "  </thead>\n",
       "  <tbody>\n",
       "    <tr>\n",
       "      <th>0</th>\n",
       "      <td>China</td>\n",
       "      <td>1439323776</td>\n",
       "      <td>0.39%</td>\n",
       "      <td>5540090</td>\n",
       "      <td>153</td>\n",
       "      <td>9388211</td>\n",
       "      <td>-348399.0</td>\n",
       "      <td>1.7</td>\n",
       "      <td>38</td>\n",
       "      <td>61%</td>\n",
       "      <td>18.47%</td>\n",
       "    </tr>\n",
       "    <tr>\n",
       "      <th>1</th>\n",
       "      <td>India</td>\n",
       "      <td>1380004385</td>\n",
       "      <td>0.99%</td>\n",
       "      <td>13586631</td>\n",
       "      <td>464</td>\n",
       "      <td>2973190</td>\n",
       "      <td>-532687.0</td>\n",
       "      <td>2.2</td>\n",
       "      <td>28</td>\n",
       "      <td>35%</td>\n",
       "      <td>17.70%</td>\n",
       "    </tr>\n",
       "    <tr>\n",
       "      <th>2</th>\n",
       "      <td>United States</td>\n",
       "      <td>331002651</td>\n",
       "      <td>0.59%</td>\n",
       "      <td>1937734</td>\n",
       "      <td>36</td>\n",
       "      <td>9147420</td>\n",
       "      <td>954806.0</td>\n",
       "      <td>1.8</td>\n",
       "      <td>38</td>\n",
       "      <td>83%</td>\n",
       "      <td>4.25%</td>\n",
       "    </tr>\n",
       "    <tr>\n",
       "      <th>3</th>\n",
       "      <td>Indonesia</td>\n",
       "      <td>273523615</td>\n",
       "      <td>1.07%</td>\n",
       "      <td>2898047</td>\n",
       "      <td>151</td>\n",
       "      <td>1811570</td>\n",
       "      <td>-98955.0</td>\n",
       "      <td>2.3</td>\n",
       "      <td>30</td>\n",
       "      <td>56%</td>\n",
       "      <td>3.51%</td>\n",
       "    </tr>\n",
       "    <tr>\n",
       "      <th>4</th>\n",
       "      <td>Pakistan</td>\n",
       "      <td>220892340</td>\n",
       "      <td>2.00%</td>\n",
       "      <td>4327022</td>\n",
       "      <td>287</td>\n",
       "      <td>770880</td>\n",
       "      <td>-233379.0</td>\n",
       "      <td>3.6</td>\n",
       "      <td>23</td>\n",
       "      <td>35%</td>\n",
       "      <td>2.83%</td>\n",
       "    </tr>\n",
       "  </tbody>\n",
       "</table>\n",
       "</div>"
      ],
      "text/plain": [
       "  Country (or dependency)  Population (2020) Yearly Change  Net Change  \\\n",
       "0                   China         1439323776         0.39%     5540090   \n",
       "1                   India         1380004385         0.99%    13586631   \n",
       "2           United States          331002651         0.59%     1937734   \n",
       "3               Indonesia          273523615         1.07%     2898047   \n",
       "4                Pakistan          220892340         2.00%     4327022   \n",
       "\n",
       "   Density (P/Km²)  Land Area (Km²)  Migrants (net) Fert. Rate Med. Age  \\\n",
       "0              153          9388211       -348399.0        1.7       38   \n",
       "1              464          2973190       -532687.0        2.2       28   \n",
       "2               36          9147420        954806.0        1.8       38   \n",
       "3              151          1811570        -98955.0        2.3       30   \n",
       "4              287           770880       -233379.0        3.6       23   \n",
       "\n",
       "  Urban Pop % World Share  \n",
       "0         61%      18.47%  \n",
       "1         35%      17.70%  \n",
       "2         83%       4.25%  \n",
       "3         56%       3.51%  \n",
       "4         35%       2.83%  "
      ]
     },
     "execution_count": 78,
     "metadata": {},
     "output_type": "execute_result"
    }
   ],
   "source": [
    "population_df.head()"
   ]
  },
  {
   "cell_type": "code",
   "execution_count": 79,
   "metadata": {
    "colab": {},
    "colab_type": "code",
    "id": "DklQ2n2kCW4t"
   },
   "outputs": [],
   "source": [
    "### change the name from United states to USA\n",
    "population_df.loc[population_df['Country (or dependency)'] == \"United States\", \"Country (or dependency)\"] = \"USA\"\n"
   ]
  },
  {
   "cell_type": "code",
   "execution_count": 80,
   "metadata": {
    "colab": {
     "base_uri": "https://localhost:8080/",
     "height": 72
    },
    "colab_type": "code",
    "id": "0xXESsBKCW4u",
    "outputId": "685eea96-f42d-41c9-fb28-06b3e3b0a645"
   },
   "outputs": [
    {
     "name": "stderr",
     "output_type": "stream",
     "text": [
      "C:\\Users\\carla\\Anaconda3\\lib\\site-packages\\pandas\\core\\reshape\\merge.py:618: UserWarning: merging between different levels can give an unintended result (2 levels on the left, 1 on the right)\n",
      "  warnings.warn(msg, UserWarning)\n"
     ]
    }
   ],
   "source": [
    "### join this with full data\n",
    "\n",
    "final_df =pd.merge(grouped_single, population_df, how='left',  left_on='country', right_on='Country (or dependency)')"
   ]
  },
  {
   "cell_type": "code",
   "execution_count": 81,
   "metadata": {
    "colab": {
     "base_uri": "https://localhost:8080/",
     "height": 35
    },
    "colab_type": "code",
    "id": "r6IV84V1CW4w",
    "outputId": "5c30f53c-d4a8-479b-c8f2-44090fd42f0c"
   },
   "outputs": [
    {
     "data": {
      "text/plain": [
       "188"
      ]
     },
     "execution_count": 81,
     "metadata": {},
     "output_type": "execute_result"
    }
   ],
   "source": [
    "len(final_df)"
   ]
  },
  {
   "cell_type": "code",
   "execution_count": 82,
   "metadata": {
    "colab": {
     "base_uri": "https://localhost:8080/",
     "height": 220
    },
    "colab_type": "code",
    "id": "PNK3hdreCW4x",
    "outputId": "3f9f9f7b-5eb6-44fa-b87d-7f19f44a010e"
   },
   "outputs": [
    {
     "data": {
      "text/html": [
       "<div>\n",
       "<style scoped>\n",
       "    .dataframe tbody tr th:only-of-type {\n",
       "        vertical-align: middle;\n",
       "    }\n",
       "\n",
       "    .dataframe tbody tr th {\n",
       "        vertical-align: top;\n",
       "    }\n",
       "\n",
       "    .dataframe thead th {\n",
       "        text-align: right;\n",
       "    }\n",
       "</style>\n",
       "<table border=\"1\" class=\"dataframe\">\n",
       "  <thead>\n",
       "    <tr style=\"text-align: right;\">\n",
       "      <th></th>\n",
       "      <th>(Confirmed, max)</th>\n",
       "      <th>(Deaths, max)</th>\n",
       "      <th>Country (or dependency)</th>\n",
       "      <th>Population (2020)</th>\n",
       "      <th>Yearly Change</th>\n",
       "      <th>Net Change</th>\n",
       "      <th>Density (P/Km²)</th>\n",
       "      <th>Land Area (Km²)</th>\n",
       "      <th>Migrants (net)</th>\n",
       "      <th>Fert. Rate</th>\n",
       "      <th>Med. Age</th>\n",
       "      <th>Urban Pop %</th>\n",
       "      <th>World Share</th>\n",
       "    </tr>\n",
       "  </thead>\n",
       "  <tbody>\n",
       "    <tr>\n",
       "      <th>0</th>\n",
       "      <td>13659</td>\n",
       "      <td>246</td>\n",
       "      <td>Afghanistan</td>\n",
       "      <td>38928346.0</td>\n",
       "      <td>2.33%</td>\n",
       "      <td>886592.0</td>\n",
       "      <td>60.0</td>\n",
       "      <td>652860.0</td>\n",
       "      <td>-62920.0</td>\n",
       "      <td>4.6</td>\n",
       "      <td>18</td>\n",
       "      <td>25%</td>\n",
       "      <td>0.50%</td>\n",
       "    </tr>\n",
       "    <tr>\n",
       "      <th>1</th>\n",
       "      <td>1099</td>\n",
       "      <td>33</td>\n",
       "      <td>Albania</td>\n",
       "      <td>2877797.0</td>\n",
       "      <td>-0.11%</td>\n",
       "      <td>-3120.0</td>\n",
       "      <td>105.0</td>\n",
       "      <td>27400.0</td>\n",
       "      <td>-14000.0</td>\n",
       "      <td>1.6</td>\n",
       "      <td>36</td>\n",
       "      <td>63%</td>\n",
       "      <td>0.04%</td>\n",
       "    </tr>\n",
       "    <tr>\n",
       "      <th>2</th>\n",
       "      <td>9134</td>\n",
       "      <td>638</td>\n",
       "      <td>Algeria</td>\n",
       "      <td>43851044.0</td>\n",
       "      <td>1.85%</td>\n",
       "      <td>797990.0</td>\n",
       "      <td>18.0</td>\n",
       "      <td>2381740.0</td>\n",
       "      <td>-10000.0</td>\n",
       "      <td>3.1</td>\n",
       "      <td>29</td>\n",
       "      <td>73%</td>\n",
       "      <td>0.56%</td>\n",
       "    </tr>\n",
       "    <tr>\n",
       "      <th>3</th>\n",
       "      <td>764</td>\n",
       "      <td>51</td>\n",
       "      <td>Andorra</td>\n",
       "      <td>77265.0</td>\n",
       "      <td>0.16%</td>\n",
       "      <td>123.0</td>\n",
       "      <td>164.0</td>\n",
       "      <td>470.0</td>\n",
       "      <td>NaN</td>\n",
       "      <td>N.A.</td>\n",
       "      <td>N.A.</td>\n",
       "      <td>88%</td>\n",
       "      <td>0.00%</td>\n",
       "    </tr>\n",
       "    <tr>\n",
       "      <th>4</th>\n",
       "      <td>81</td>\n",
       "      <td>4</td>\n",
       "      <td>Angola</td>\n",
       "      <td>32866272.0</td>\n",
       "      <td>3.27%</td>\n",
       "      <td>1040977.0</td>\n",
       "      <td>26.0</td>\n",
       "      <td>1246700.0</td>\n",
       "      <td>6413.0</td>\n",
       "      <td>5.6</td>\n",
       "      <td>17</td>\n",
       "      <td>67%</td>\n",
       "      <td>0.42%</td>\n",
       "    </tr>\n",
       "  </tbody>\n",
       "</table>\n",
       "</div>"
      ],
      "text/plain": [
       "   (Confirmed, max)  (Deaths, max) Country (or dependency)  Population (2020)  \\\n",
       "0             13659            246             Afghanistan         38928346.0   \n",
       "1              1099             33                 Albania          2877797.0   \n",
       "2              9134            638                 Algeria         43851044.0   \n",
       "3               764             51                 Andorra            77265.0   \n",
       "4                81              4                  Angola         32866272.0   \n",
       "\n",
       "  Yearly Change  Net Change  Density (P/Km²)  Land Area (Km²)  Migrants (net)  \\\n",
       "0         2.33%    886592.0             60.0         652860.0        -62920.0   \n",
       "1        -0.11%     -3120.0            105.0          27400.0        -14000.0   \n",
       "2         1.85%    797990.0             18.0        2381740.0        -10000.0   \n",
       "3         0.16%       123.0            164.0            470.0             NaN   \n",
       "4         3.27%   1040977.0             26.0        1246700.0          6413.0   \n",
       "\n",
       "  Fert. Rate Med. Age Urban Pop % World Share  \n",
       "0        4.6       18         25%       0.50%  \n",
       "1        1.6       36         63%       0.04%  \n",
       "2        3.1       29         73%       0.56%  \n",
       "3       N.A.     N.A.         88%       0.00%  \n",
       "4        5.6       17         67%       0.42%  "
      ]
     },
     "execution_count": 82,
     "metadata": {},
     "output_type": "execute_result"
    }
   ],
   "source": [
    "final_df.head()"
   ]
  },
  {
   "cell_type": "code",
   "execution_count": 83,
   "metadata": {
    "colab": {},
    "colab_type": "code",
    "id": "CO2osqx3CW4z"
   },
   "outputs": [],
   "source": [
    "final_df=final_df.dropna(subset=['Country (or dependency)'])\n"
   ]
  },
  {
   "cell_type": "code",
   "execution_count": 84,
   "metadata": {
    "colab": {
     "base_uri": "https://localhost:8080/",
     "height": 35
    },
    "colab_type": "code",
    "id": "4kj-hnfvCW40",
    "outputId": "e43532f8-c022-41dc-f836-0459cce9d228"
   },
   "outputs": [
    {
     "data": {
      "text/plain": [
       "174"
      ]
     },
     "execution_count": 84,
     "metadata": {},
     "output_type": "execute_result"
    }
   ],
   "source": [
    "len(final_df)"
   ]
  },
  {
   "cell_type": "code",
   "execution_count": 85,
   "metadata": {
    "colab": {
     "base_uri": "https://localhost:8080/",
     "height": 220
    },
    "colab_type": "code",
    "id": "QiUxcTqHCW41",
    "outputId": "f1b92111-413c-4fd3-b456-da9f93ca6f4c"
   },
   "outputs": [
    {
     "data": {
      "text/html": [
       "<div>\n",
       "<style scoped>\n",
       "    .dataframe tbody tr th:only-of-type {\n",
       "        vertical-align: middle;\n",
       "    }\n",
       "\n",
       "    .dataframe tbody tr th {\n",
       "        vertical-align: top;\n",
       "    }\n",
       "\n",
       "    .dataframe thead th {\n",
       "        text-align: right;\n",
       "    }\n",
       "</style>\n",
       "<table border=\"1\" class=\"dataframe\">\n",
       "  <thead>\n",
       "    <tr style=\"text-align: right;\">\n",
       "      <th></th>\n",
       "      <th>(Confirmed, max)</th>\n",
       "      <th>(Deaths, max)</th>\n",
       "      <th>Country (or dependency)</th>\n",
       "      <th>Population (2020)</th>\n",
       "      <th>Yearly Change</th>\n",
       "      <th>Net Change</th>\n",
       "      <th>Density (P/Km²)</th>\n",
       "      <th>Land Area (Km²)</th>\n",
       "      <th>Migrants (net)</th>\n",
       "      <th>Fert. Rate</th>\n",
       "      <th>Med. Age</th>\n",
       "      <th>Urban Pop %</th>\n",
       "      <th>World Share</th>\n",
       "    </tr>\n",
       "  </thead>\n",
       "  <tbody>\n",
       "    <tr>\n",
       "      <th>0</th>\n",
       "      <td>13659</td>\n",
       "      <td>246</td>\n",
       "      <td>Afghanistan</td>\n",
       "      <td>38928346.0</td>\n",
       "      <td>2.33%</td>\n",
       "      <td>886592.0</td>\n",
       "      <td>60.0</td>\n",
       "      <td>652860.0</td>\n",
       "      <td>-62920.0</td>\n",
       "      <td>4.6</td>\n",
       "      <td>18</td>\n",
       "      <td>25%</td>\n",
       "      <td>0.50%</td>\n",
       "    </tr>\n",
       "    <tr>\n",
       "      <th>1</th>\n",
       "      <td>1099</td>\n",
       "      <td>33</td>\n",
       "      <td>Albania</td>\n",
       "      <td>2877797.0</td>\n",
       "      <td>-0.11%</td>\n",
       "      <td>-3120.0</td>\n",
       "      <td>105.0</td>\n",
       "      <td>27400.0</td>\n",
       "      <td>-14000.0</td>\n",
       "      <td>1.6</td>\n",
       "      <td>36</td>\n",
       "      <td>63%</td>\n",
       "      <td>0.04%</td>\n",
       "    </tr>\n",
       "    <tr>\n",
       "      <th>2</th>\n",
       "      <td>9134</td>\n",
       "      <td>638</td>\n",
       "      <td>Algeria</td>\n",
       "      <td>43851044.0</td>\n",
       "      <td>1.85%</td>\n",
       "      <td>797990.0</td>\n",
       "      <td>18.0</td>\n",
       "      <td>2381740.0</td>\n",
       "      <td>-10000.0</td>\n",
       "      <td>3.1</td>\n",
       "      <td>29</td>\n",
       "      <td>73%</td>\n",
       "      <td>0.56%</td>\n",
       "    </tr>\n",
       "    <tr>\n",
       "      <th>3</th>\n",
       "      <td>764</td>\n",
       "      <td>51</td>\n",
       "      <td>Andorra</td>\n",
       "      <td>77265.0</td>\n",
       "      <td>0.16%</td>\n",
       "      <td>123.0</td>\n",
       "      <td>164.0</td>\n",
       "      <td>470.0</td>\n",
       "      <td>NaN</td>\n",
       "      <td>N.A.</td>\n",
       "      <td>N.A.</td>\n",
       "      <td>88%</td>\n",
       "      <td>0.00%</td>\n",
       "    </tr>\n",
       "    <tr>\n",
       "      <th>4</th>\n",
       "      <td>81</td>\n",
       "      <td>4</td>\n",
       "      <td>Angola</td>\n",
       "      <td>32866272.0</td>\n",
       "      <td>3.27%</td>\n",
       "      <td>1040977.0</td>\n",
       "      <td>26.0</td>\n",
       "      <td>1246700.0</td>\n",
       "      <td>6413.0</td>\n",
       "      <td>5.6</td>\n",
       "      <td>17</td>\n",
       "      <td>67%</td>\n",
       "      <td>0.42%</td>\n",
       "    </tr>\n",
       "  </tbody>\n",
       "</table>\n",
       "</div>"
      ],
      "text/plain": [
       "   (Confirmed, max)  (Deaths, max) Country (or dependency)  Population (2020)  \\\n",
       "0             13659            246             Afghanistan         38928346.0   \n",
       "1              1099             33                 Albania          2877797.0   \n",
       "2              9134            638                 Algeria         43851044.0   \n",
       "3               764             51                 Andorra            77265.0   \n",
       "4                81              4                  Angola         32866272.0   \n",
       "\n",
       "  Yearly Change  Net Change  Density (P/Km²)  Land Area (Km²)  Migrants (net)  \\\n",
       "0         2.33%    886592.0             60.0         652860.0        -62920.0   \n",
       "1        -0.11%     -3120.0            105.0          27400.0        -14000.0   \n",
       "2         1.85%    797990.0             18.0        2381740.0        -10000.0   \n",
       "3         0.16%       123.0            164.0            470.0             NaN   \n",
       "4         3.27%   1040977.0             26.0        1246700.0          6413.0   \n",
       "\n",
       "  Fert. Rate Med. Age Urban Pop % World Share  \n",
       "0        4.6       18         25%       0.50%  \n",
       "1        1.6       36         63%       0.04%  \n",
       "2        3.1       29         73%       0.56%  \n",
       "3       N.A.     N.A.         88%       0.00%  \n",
       "4        5.6       17         67%       0.42%  "
      ]
     },
     "execution_count": 85,
     "metadata": {},
     "output_type": "execute_result"
    }
   ],
   "source": [
    "final_df.head()"
   ]
  },
  {
   "cell_type": "code",
   "execution_count": 86,
   "metadata": {
    "colab": {},
    "colab_type": "code",
    "id": "Pb-QLlgxCW42"
   },
   "outputs": [],
   "source": [
    "### this will serve as training data for our linear regression model\n",
    "\n",
    "## lets drop the column not requrired\n",
    "final_df.drop(final_df.columns[[4,5,7,8,9,11,12]], axis=1, inplace=True)\n"
   ]
  },
  {
   "cell_type": "code",
   "execution_count": 87,
   "metadata": {
    "colab": {
     "base_uri": "https://localhost:8080/",
     "height": 203
    },
    "colab_type": "code",
    "id": "HA20eZh_CW44",
    "outputId": "4e8b3df8-d5ab-4e51-b077-17e84379763f"
   },
   "outputs": [
    {
     "data": {
      "text/html": [
       "<div>\n",
       "<style scoped>\n",
       "    .dataframe tbody tr th:only-of-type {\n",
       "        vertical-align: middle;\n",
       "    }\n",
       "\n",
       "    .dataframe tbody tr th {\n",
       "        vertical-align: top;\n",
       "    }\n",
       "\n",
       "    .dataframe thead th {\n",
       "        text-align: right;\n",
       "    }\n",
       "</style>\n",
       "<table border=\"1\" class=\"dataframe\">\n",
       "  <thead>\n",
       "    <tr style=\"text-align: right;\">\n",
       "      <th></th>\n",
       "      <th>(Confirmed, max)</th>\n",
       "      <th>(Deaths, max)</th>\n",
       "      <th>Country (or dependency)</th>\n",
       "      <th>Population (2020)</th>\n",
       "      <th>Density (P/Km²)</th>\n",
       "      <th>Med. Age</th>\n",
       "    </tr>\n",
       "  </thead>\n",
       "  <tbody>\n",
       "    <tr>\n",
       "      <th>0</th>\n",
       "      <td>13659</td>\n",
       "      <td>246</td>\n",
       "      <td>Afghanistan</td>\n",
       "      <td>38928346.0</td>\n",
       "      <td>60.0</td>\n",
       "      <td>18</td>\n",
       "    </tr>\n",
       "    <tr>\n",
       "      <th>1</th>\n",
       "      <td>1099</td>\n",
       "      <td>33</td>\n",
       "      <td>Albania</td>\n",
       "      <td>2877797.0</td>\n",
       "      <td>105.0</td>\n",
       "      <td>36</td>\n",
       "    </tr>\n",
       "    <tr>\n",
       "      <th>2</th>\n",
       "      <td>9134</td>\n",
       "      <td>638</td>\n",
       "      <td>Algeria</td>\n",
       "      <td>43851044.0</td>\n",
       "      <td>18.0</td>\n",
       "      <td>29</td>\n",
       "    </tr>\n",
       "    <tr>\n",
       "      <th>3</th>\n",
       "      <td>764</td>\n",
       "      <td>51</td>\n",
       "      <td>Andorra</td>\n",
       "      <td>77265.0</td>\n",
       "      <td>164.0</td>\n",
       "      <td>N.A.</td>\n",
       "    </tr>\n",
       "    <tr>\n",
       "      <th>4</th>\n",
       "      <td>81</td>\n",
       "      <td>4</td>\n",
       "      <td>Angola</td>\n",
       "      <td>32866272.0</td>\n",
       "      <td>26.0</td>\n",
       "      <td>17</td>\n",
       "    </tr>\n",
       "  </tbody>\n",
       "</table>\n",
       "</div>"
      ],
      "text/plain": [
       "   (Confirmed, max)  (Deaths, max) Country (or dependency)  Population (2020)  \\\n",
       "0             13659            246             Afghanistan         38928346.0   \n",
       "1              1099             33                 Albania          2877797.0   \n",
       "2              9134            638                 Algeria         43851044.0   \n",
       "3               764             51                 Andorra            77265.0   \n",
       "4                81              4                  Angola         32866272.0   \n",
       "\n",
       "   Density (P/Km²) Med. Age  \n",
       "0             60.0       18  \n",
       "1            105.0       36  \n",
       "2             18.0       29  \n",
       "3            164.0     N.A.  \n",
       "4             26.0       17  "
      ]
     },
     "execution_count": 87,
     "metadata": {},
     "output_type": "execute_result"
    }
   ],
   "source": [
    "final_df.head()"
   ]
  },
  {
   "cell_type": "code",
   "execution_count": 88,
   "metadata": {
    "colab": {},
    "colab_type": "code",
    "id": "gnqJwYx8CW46"
   },
   "outputs": [],
   "source": [
    "################## create a linear model on this \n",
    "\n",
    "\n",
    "from sklearn.linear_model import LinearRegression"
   ]
  },
  {
   "cell_type": "code",
   "execution_count": 89,
   "metadata": {
    "colab": {},
    "colab_type": "code",
    "id": "3qwqMADvCW48"
   },
   "outputs": [],
   "source": [
    "X= final_df.drop(final_df.columns[[0,2]],axis=1)"
   ]
  },
  {
   "cell_type": "code",
   "execution_count": 90,
   "metadata": {
    "colab": {
     "base_uri": "https://localhost:8080/",
     "height": 203
    },
    "colab_type": "code",
    "id": "n6GqVmVvCW49",
    "outputId": "0f11c919-eafa-4120-8f39-22a338826569"
   },
   "outputs": [
    {
     "data": {
      "text/html": [
       "<div>\n",
       "<style scoped>\n",
       "    .dataframe tbody tr th:only-of-type {\n",
       "        vertical-align: middle;\n",
       "    }\n",
       "\n",
       "    .dataframe tbody tr th {\n",
       "        vertical-align: top;\n",
       "    }\n",
       "\n",
       "    .dataframe thead th {\n",
       "        text-align: right;\n",
       "    }\n",
       "</style>\n",
       "<table border=\"1\" class=\"dataframe\">\n",
       "  <thead>\n",
       "    <tr style=\"text-align: right;\">\n",
       "      <th></th>\n",
       "      <th>(Deaths, max)</th>\n",
       "      <th>Population (2020)</th>\n",
       "      <th>Density (P/Km²)</th>\n",
       "      <th>Med. Age</th>\n",
       "    </tr>\n",
       "  </thead>\n",
       "  <tbody>\n",
       "    <tr>\n",
       "      <th>0</th>\n",
       "      <td>246</td>\n",
       "      <td>38928346.0</td>\n",
       "      <td>60.0</td>\n",
       "      <td>18</td>\n",
       "    </tr>\n",
       "    <tr>\n",
       "      <th>1</th>\n",
       "      <td>33</td>\n",
       "      <td>2877797.0</td>\n",
       "      <td>105.0</td>\n",
       "      <td>36</td>\n",
       "    </tr>\n",
       "    <tr>\n",
       "      <th>2</th>\n",
       "      <td>638</td>\n",
       "      <td>43851044.0</td>\n",
       "      <td>18.0</td>\n",
       "      <td>29</td>\n",
       "    </tr>\n",
       "    <tr>\n",
       "      <th>3</th>\n",
       "      <td>51</td>\n",
       "      <td>77265.0</td>\n",
       "      <td>164.0</td>\n",
       "      <td>N.A.</td>\n",
       "    </tr>\n",
       "    <tr>\n",
       "      <th>4</th>\n",
       "      <td>4</td>\n",
       "      <td>32866272.0</td>\n",
       "      <td>26.0</td>\n",
       "      <td>17</td>\n",
       "    </tr>\n",
       "  </tbody>\n",
       "</table>\n",
       "</div>"
      ],
      "text/plain": [
       "   (Deaths, max)  Population (2020)  Density (P/Km²) Med. Age\n",
       "0            246         38928346.0             60.0       18\n",
       "1             33          2877797.0            105.0       36\n",
       "2            638         43851044.0             18.0       29\n",
       "3             51            77265.0            164.0     N.A.\n",
       "4              4         32866272.0             26.0       17"
      ]
     },
     "execution_count": 90,
     "metadata": {},
     "output_type": "execute_result"
    }
   ],
   "source": [
    "X.head()"
   ]
  },
  {
   "cell_type": "code",
   "execution_count": 91,
   "metadata": {
    "colab": {},
    "colab_type": "code",
    "id": "IXkBkUi3CW4_"
   },
   "outputs": [],
   "source": [
    "X.rename(columns={X.columns[0]: \"Deaths\",X.columns[1]:\"Population\",X.columns[2]:\"Density\",X.columns[3]:\"Medain_Age\" }, inplace = True)"
   ]
  },
  {
   "cell_type": "code",
   "execution_count": 92,
   "metadata": {
    "colab": {},
    "colab_type": "code",
    "id": "EPfvPetICW5A"
   },
   "outputs": [],
   "source": [
    "lm=LinearRegression()"
   ]
  },
  {
   "cell_type": "code",
   "execution_count": 93,
   "metadata": {
    "colab": {
     "base_uri": "https://localhost:8080/",
     "height": 35
    },
    "colab_type": "code",
    "id": "6Y1Ch6L5CW5B",
    "outputId": "11267631-849e-4507-da60-1b27b8058ce5"
   },
   "outputs": [
    {
     "data": {
      "text/plain": [
       "LinearRegression(copy_X=True, fit_intercept=True, n_jobs=None, normalize=False)"
      ]
     },
     "execution_count": 93,
     "metadata": {},
     "output_type": "execute_result"
    }
   ],
   "source": [
    "lm"
   ]
  },
  {
   "cell_type": "code",
   "execution_count": 94,
   "metadata": {
    "colab": {},
    "colab_type": "code",
    "id": "yMANISU0CW5D"
   },
   "outputs": [],
   "source": [
    "final_df.rename(columns={ final_df.columns[0]: \"Total_Cases\" }, inplace = True)\n"
   ]
  },
  {
   "cell_type": "code",
   "execution_count": 95,
   "metadata": {
    "colab": {
     "base_uri": "https://localhost:8080/",
     "height": 203
    },
    "colab_type": "code",
    "id": "QL4YqXWjCW5E",
    "outputId": "eae41bf7-b796-4391-c8d9-720df0d39ee3"
   },
   "outputs": [
    {
     "data": {
      "text/html": [
       "<div>\n",
       "<style scoped>\n",
       "    .dataframe tbody tr th:only-of-type {\n",
       "        vertical-align: middle;\n",
       "    }\n",
       "\n",
       "    .dataframe tbody tr th {\n",
       "        vertical-align: top;\n",
       "    }\n",
       "\n",
       "    .dataframe thead th {\n",
       "        text-align: right;\n",
       "    }\n",
       "</style>\n",
       "<table border=\"1\" class=\"dataframe\">\n",
       "  <thead>\n",
       "    <tr style=\"text-align: right;\">\n",
       "      <th></th>\n",
       "      <th>Total_Cases</th>\n",
       "      <th>(Deaths, max)</th>\n",
       "      <th>Country (or dependency)</th>\n",
       "      <th>Population (2020)</th>\n",
       "      <th>Density (P/Km²)</th>\n",
       "      <th>Med. Age</th>\n",
       "    </tr>\n",
       "  </thead>\n",
       "  <tbody>\n",
       "    <tr>\n",
       "      <th>0</th>\n",
       "      <td>13659</td>\n",
       "      <td>246</td>\n",
       "      <td>Afghanistan</td>\n",
       "      <td>38928346.0</td>\n",
       "      <td>60.0</td>\n",
       "      <td>18</td>\n",
       "    </tr>\n",
       "    <tr>\n",
       "      <th>1</th>\n",
       "      <td>1099</td>\n",
       "      <td>33</td>\n",
       "      <td>Albania</td>\n",
       "      <td>2877797.0</td>\n",
       "      <td>105.0</td>\n",
       "      <td>36</td>\n",
       "    </tr>\n",
       "    <tr>\n",
       "      <th>2</th>\n",
       "      <td>9134</td>\n",
       "      <td>638</td>\n",
       "      <td>Algeria</td>\n",
       "      <td>43851044.0</td>\n",
       "      <td>18.0</td>\n",
       "      <td>29</td>\n",
       "    </tr>\n",
       "    <tr>\n",
       "      <th>3</th>\n",
       "      <td>764</td>\n",
       "      <td>51</td>\n",
       "      <td>Andorra</td>\n",
       "      <td>77265.0</td>\n",
       "      <td>164.0</td>\n",
       "      <td>N.A.</td>\n",
       "    </tr>\n",
       "    <tr>\n",
       "      <th>4</th>\n",
       "      <td>81</td>\n",
       "      <td>4</td>\n",
       "      <td>Angola</td>\n",
       "      <td>32866272.0</td>\n",
       "      <td>26.0</td>\n",
       "      <td>17</td>\n",
       "    </tr>\n",
       "  </tbody>\n",
       "</table>\n",
       "</div>"
      ],
      "text/plain": [
       "   Total_Cases  (Deaths, max) Country (or dependency)  Population (2020)  \\\n",
       "0        13659            246             Afghanistan         38928346.0   \n",
       "1         1099             33                 Albania          2877797.0   \n",
       "2         9134            638                 Algeria         43851044.0   \n",
       "3          764             51                 Andorra            77265.0   \n",
       "4           81              4                  Angola         32866272.0   \n",
       "\n",
       "   Density (P/Km²) Med. Age  \n",
       "0             60.0       18  \n",
       "1            105.0       36  \n",
       "2             18.0       29  \n",
       "3            164.0     N.A.  \n",
       "4             26.0       17  "
      ]
     },
     "execution_count": 95,
     "metadata": {},
     "output_type": "execute_result"
    }
   ],
   "source": [
    "final_df.head()"
   ]
  },
  {
   "cell_type": "code",
   "execution_count": 96,
   "metadata": {
    "colab": {},
    "colab_type": "code",
    "id": "N5e2CXw2CW5G"
   },
   "outputs": [],
   "source": [
    "y=final_df.Total_Cases"
   ]
  },
  {
   "cell_type": "code",
   "execution_count": 97,
   "metadata": {
    "colab": {
     "base_uri": "https://localhost:8080/",
     "height": 228
    },
    "colab_type": "code",
    "id": "q-X3G7iYCW5H",
    "outputId": "68854a22-78da-4f4e-adbe-3dd2137977d5"
   },
   "outputs": [
    {
     "data": {
      "text/plain": [
       "0      13659\n",
       "1       1099\n",
       "2       9134\n",
       "3        764\n",
       "4         81\n",
       "       ...  \n",
       "182      328\n",
       "184        9\n",
       "185      283\n",
       "186     1057\n",
       "187      149\n",
       "Name: Total_Cases, Length: 174, dtype: int64"
      ]
     },
     "execution_count": 97,
     "metadata": {},
     "output_type": "execute_result"
    }
   ],
   "source": [
    "y"
   ]
  },
  {
   "cell_type": "code",
   "execution_count": 98,
   "metadata": {
    "colab": {},
    "colab_type": "code",
    "id": "LVrNdYWxCW5I"
   },
   "outputs": [],
   "source": [
    "X = X.apply(pd.to_numeric, errors='coerce')\n",
    "y = y.apply(pd.to_numeric, errors='coerce')"
   ]
  },
  {
   "cell_type": "code",
   "execution_count": 99,
   "metadata": {
    "colab": {},
    "colab_type": "code",
    "id": "sl77p282CW5J"
   },
   "outputs": [],
   "source": [
    "X.fillna(0, inplace=True)\n",
    "y.fillna(0, inplace=True)"
   ]
  },
  {
   "cell_type": "code",
   "execution_count": 100,
   "metadata": {
    "colab": {},
    "colab_type": "code",
    "id": "HykhFvMHCW5K"
   },
   "outputs": [],
   "source": [
    "lm_fit=lm.fit(X,y)"
   ]
  },
  {
   "cell_type": "code",
   "execution_count": 101,
   "metadata": {
    "colab": {
     "base_uri": "https://localhost:8080/",
     "height": 35
    },
    "colab_type": "code",
    "id": "X-ktFaFACW5L",
    "outputId": "e8a873cc-ae74-4b82-f885-7f2a0ebf42e7"
   },
   "outputs": [
    {
     "data": {
      "text/plain": [
       "array([ 1.42326944e+01,  6.31627136e-05, -1.29898723e-01, -3.10235887e+02])"
      ]
     },
     "execution_count": 101,
     "metadata": {},
     "output_type": "execute_result"
    }
   ],
   "source": [
    "lm_fit.coef_"
   ]
  },
  {
   "cell_type": "code",
   "execution_count": 102,
   "metadata": {
    "colab": {},
    "colab_type": "code",
    "id": "Cd8RXTTOCW5M"
   },
   "outputs": [],
   "source": [
    "## Preparing test data ready."
   ]
  },
  {
   "cell_type": "code",
   "execution_count": 103,
   "metadata": {
    "colab": {},
    "colab_type": "code",
    "id": "fy2D2bBmCW5Q"
   },
   "outputs": [],
   "source": [
    "us_states_pop = pd.read_csv(\"Us_states_population.csv\")"
   ]
  },
  {
   "cell_type": "code",
   "execution_count": 104,
   "metadata": {
    "colab": {
     "base_uri": "https://localhost:8080/",
     "height": 203
    },
    "colab_type": "code",
    "id": "OPIl1WXICW5T",
    "outputId": "59c8fb02-b284-45ad-f2b7-2d280149195b"
   },
   "outputs": [
    {
     "data": {
      "text/html": [
       "<div>\n",
       "<style scoped>\n",
       "    .dataframe tbody tr th:only-of-type {\n",
       "        vertical-align: middle;\n",
       "    }\n",
       "\n",
       "    .dataframe tbody tr th {\n",
       "        vertical-align: top;\n",
       "    }\n",
       "\n",
       "    .dataframe thead th {\n",
       "        text-align: right;\n",
       "    }\n",
       "</style>\n",
       "<table border=\"1\" class=\"dataframe\">\n",
       "  <thead>\n",
       "    <tr style=\"text-align: right;\">\n",
       "      <th></th>\n",
       "      <th>rank</th>\n",
       "      <th>State</th>\n",
       "      <th>Pop</th>\n",
       "      <th>Growth</th>\n",
       "      <th>Pop2018</th>\n",
       "      <th>Pop2010</th>\n",
       "      <th>growthSince2010</th>\n",
       "      <th>Percent</th>\n",
       "      <th>density</th>\n",
       "    </tr>\n",
       "  </thead>\n",
       "  <tbody>\n",
       "    <tr>\n",
       "      <th>0</th>\n",
       "      <td>1</td>\n",
       "      <td>California</td>\n",
       "      <td>39937489</td>\n",
       "      <td>0.0096</td>\n",
       "      <td>39557045</td>\n",
       "      <td>37320903</td>\n",
       "      <td>0.0701</td>\n",
       "      <td>0.1194</td>\n",
       "      <td>256.3727</td>\n",
       "    </tr>\n",
       "    <tr>\n",
       "      <th>1</th>\n",
       "      <td>2</td>\n",
       "      <td>Texas</td>\n",
       "      <td>29472295</td>\n",
       "      <td>0.0268</td>\n",
       "      <td>28701845</td>\n",
       "      <td>25242679</td>\n",
       "      <td>0.1676</td>\n",
       "      <td>0.0881</td>\n",
       "      <td>112.8204</td>\n",
       "    </tr>\n",
       "    <tr>\n",
       "      <th>2</th>\n",
       "      <td>3</td>\n",
       "      <td>Florida</td>\n",
       "      <td>21992985</td>\n",
       "      <td>0.0326</td>\n",
       "      <td>21299325</td>\n",
       "      <td>18845785</td>\n",
       "      <td>0.1670</td>\n",
       "      <td>0.0658</td>\n",
       "      <td>410.1256</td>\n",
       "    </tr>\n",
       "    <tr>\n",
       "      <th>3</th>\n",
       "      <td>4</td>\n",
       "      <td>New York</td>\n",
       "      <td>19440469</td>\n",
       "      <td>-0.0052</td>\n",
       "      <td>19542209</td>\n",
       "      <td>19400080</td>\n",
       "      <td>0.0021</td>\n",
       "      <td>0.0581</td>\n",
       "      <td>412.5211</td>\n",
       "    </tr>\n",
       "    <tr>\n",
       "      <th>4</th>\n",
       "      <td>5</td>\n",
       "      <td>Pennsylvania</td>\n",
       "      <td>12820878</td>\n",
       "      <td>0.0011</td>\n",
       "      <td>12807060</td>\n",
       "      <td>12711158</td>\n",
       "      <td>0.0086</td>\n",
       "      <td>0.0383</td>\n",
       "      <td>286.5449</td>\n",
       "    </tr>\n",
       "  </tbody>\n",
       "</table>\n",
       "</div>"
      ],
      "text/plain": [
       "   rank         State       Pop  Growth   Pop2018   Pop2010  growthSince2010  \\\n",
       "0     1    California  39937489  0.0096  39557045  37320903           0.0701   \n",
       "1     2         Texas  29472295  0.0268  28701845  25242679           0.1676   \n",
       "2     3       Florida  21992985  0.0326  21299325  18845785           0.1670   \n",
       "3     4      New York  19440469 -0.0052  19542209  19400080           0.0021   \n",
       "4     5  Pennsylvania  12820878  0.0011  12807060  12711158           0.0086   \n",
       "\n",
       "   Percent   density  \n",
       "0   0.1194  256.3727  \n",
       "1   0.0881  112.8204  \n",
       "2   0.0658  410.1256  \n",
       "3   0.0581  412.5211  \n",
       "4   0.0383  286.5449  "
      ]
     },
     "execution_count": 104,
     "metadata": {},
     "output_type": "execute_result"
    }
   ],
   "source": [
    "us_states_pop.head()"
   ]
  },
  {
   "cell_type": "code",
   "execution_count": 105,
   "metadata": {
    "colab": {},
    "colab_type": "code",
    "id": "KflVzJDBCW5V"
   },
   "outputs": [],
   "source": [
    "us_states_pop.drop(us_states_pop.columns[[0,3,4,5,6,7]], axis=1, inplace=True)\n"
   ]
  },
  {
   "cell_type": "code",
   "execution_count": 106,
   "metadata": {
    "colab": {
     "base_uri": "https://localhost:8080/",
     "height": 203
    },
    "colab_type": "code",
    "id": "fVrNTZzLCW5W",
    "outputId": "3c792130-d901-4b0c-9648-29ef41f97979"
   },
   "outputs": [
    {
     "data": {
      "text/html": [
       "<div>\n",
       "<style scoped>\n",
       "    .dataframe tbody tr th:only-of-type {\n",
       "        vertical-align: middle;\n",
       "    }\n",
       "\n",
       "    .dataframe tbody tr th {\n",
       "        vertical-align: top;\n",
       "    }\n",
       "\n",
       "    .dataframe thead th {\n",
       "        text-align: right;\n",
       "    }\n",
       "</style>\n",
       "<table border=\"1\" class=\"dataframe\">\n",
       "  <thead>\n",
       "    <tr style=\"text-align: right;\">\n",
       "      <th></th>\n",
       "      <th>State</th>\n",
       "      <th>Pop</th>\n",
       "      <th>density</th>\n",
       "    </tr>\n",
       "  </thead>\n",
       "  <tbody>\n",
       "    <tr>\n",
       "      <th>0</th>\n",
       "      <td>California</td>\n",
       "      <td>39937489</td>\n",
       "      <td>256.3727</td>\n",
       "    </tr>\n",
       "    <tr>\n",
       "      <th>1</th>\n",
       "      <td>Texas</td>\n",
       "      <td>29472295</td>\n",
       "      <td>112.8204</td>\n",
       "    </tr>\n",
       "    <tr>\n",
       "      <th>2</th>\n",
       "      <td>Florida</td>\n",
       "      <td>21992985</td>\n",
       "      <td>410.1256</td>\n",
       "    </tr>\n",
       "    <tr>\n",
       "      <th>3</th>\n",
       "      <td>New York</td>\n",
       "      <td>19440469</td>\n",
       "      <td>412.5211</td>\n",
       "    </tr>\n",
       "    <tr>\n",
       "      <th>4</th>\n",
       "      <td>Pennsylvania</td>\n",
       "      <td>12820878</td>\n",
       "      <td>286.5449</td>\n",
       "    </tr>\n",
       "  </tbody>\n",
       "</table>\n",
       "</div>"
      ],
      "text/plain": [
       "          State       Pop   density\n",
       "0    California  39937489  256.3727\n",
       "1         Texas  29472295  112.8204\n",
       "2       Florida  21992985  410.1256\n",
       "3      New York  19440469  412.5211\n",
       "4  Pennsylvania  12820878  286.5449"
      ]
     },
     "execution_count": 106,
     "metadata": {},
     "output_type": "execute_result"
    }
   ],
   "source": [
    "us_states_pop.head()"
   ]
  },
  {
   "cell_type": "code",
   "execution_count": 107,
   "metadata": {
    "colab": {},
    "colab_type": "code",
    "id": "_qwooHc7CW5X"
   },
   "outputs": [],
   "source": [
    "us_median_state_age = pd.read_csv(\"us_states_median_age.csv\")"
   ]
  },
  {
   "cell_type": "code",
   "execution_count": 108,
   "metadata": {
    "colab": {
     "base_uri": "https://localhost:8080/",
     "height": 203
    },
    "colab_type": "code",
    "id": "UephIJy7CW5Z",
    "outputId": "beeecccd-b9ba-48a5-ead6-8cd216a539f8"
   },
   "outputs": [
    {
     "data": {
      "text/html": [
       "<div>\n",
       "<style scoped>\n",
       "    .dataframe tbody tr th:only-of-type {\n",
       "        vertical-align: middle;\n",
       "    }\n",
       "\n",
       "    .dataframe tbody tr th {\n",
       "        vertical-align: top;\n",
       "    }\n",
       "\n",
       "    .dataframe thead th {\n",
       "        text-align: right;\n",
       "    }\n",
       "</style>\n",
       "<table border=\"1\" class=\"dataframe\">\n",
       "  <thead>\n",
       "    <tr style=\"text-align: right;\">\n",
       "      <th></th>\n",
       "      <th>rank</th>\n",
       "      <th>State</th>\n",
       "      <th>Population</th>\n",
       "      <th>MedianAge</th>\n",
       "      <th>MedianAgeMale</th>\n",
       "      <th>MedianAgeFemale</th>\n",
       "    </tr>\n",
       "  </thead>\n",
       "  <tbody>\n",
       "    <tr>\n",
       "      <th>0</th>\n",
       "      <td>1</td>\n",
       "      <td>Maine</td>\n",
       "      <td>1332813</td>\n",
       "      <td>44.6</td>\n",
       "      <td>43.2</td>\n",
       "      <td>45.8</td>\n",
       "    </tr>\n",
       "    <tr>\n",
       "      <th>1</th>\n",
       "      <td>2</td>\n",
       "      <td>Vermont</td>\n",
       "      <td>624977</td>\n",
       "      <td>42.9</td>\n",
       "      <td>41.4</td>\n",
       "      <td>44.2</td>\n",
       "    </tr>\n",
       "    <tr>\n",
       "      <th>2</th>\n",
       "      <td>3</td>\n",
       "      <td>New Hampshire</td>\n",
       "      <td>1343622</td>\n",
       "      <td>42.7</td>\n",
       "      <td>41.5</td>\n",
       "      <td>44.0</td>\n",
       "    </tr>\n",
       "    <tr>\n",
       "      <th>3</th>\n",
       "      <td>4</td>\n",
       "      <td>West Virginia</td>\n",
       "      <td>1829054</td>\n",
       "      <td>42.4</td>\n",
       "      <td>41.0</td>\n",
       "      <td>43.6</td>\n",
       "    </tr>\n",
       "    <tr>\n",
       "      <th>4</th>\n",
       "      <td>5</td>\n",
       "      <td>Florida</td>\n",
       "      <td>20598139</td>\n",
       "      <td>41.9</td>\n",
       "      <td>40.3</td>\n",
       "      <td>43.5</td>\n",
       "    </tr>\n",
       "  </tbody>\n",
       "</table>\n",
       "</div>"
      ],
      "text/plain": [
       "   rank          State  Population  MedianAge  MedianAgeMale  MedianAgeFemale\n",
       "0     1          Maine     1332813       44.6           43.2             45.8\n",
       "1     2        Vermont      624977       42.9           41.4             44.2\n",
       "2     3  New Hampshire     1343622       42.7           41.5             44.0\n",
       "3     4  West Virginia     1829054       42.4           41.0             43.6\n",
       "4     5        Florida    20598139       41.9           40.3             43.5"
      ]
     },
     "execution_count": 108,
     "metadata": {},
     "output_type": "execute_result"
    }
   ],
   "source": [
    "us_median_state_age.head()"
   ]
  },
  {
   "cell_type": "code",
   "execution_count": 109,
   "metadata": {
    "colab": {},
    "colab_type": "code",
    "id": "3Fuofb8dCW5b"
   },
   "outputs": [],
   "source": [
    "us_median_state_age.drop(us_median_state_age.columns[[0,2,4,5]], axis=1, inplace=True)"
   ]
  },
  {
   "cell_type": "code",
   "execution_count": 110,
   "metadata": {
    "colab": {
     "base_uri": "https://localhost:8080/",
     "height": 203
    },
    "colab_type": "code",
    "id": "8Ac0GTvnCW5c",
    "outputId": "a4eb5202-3eac-48db-8d2b-f0db61fdaada"
   },
   "outputs": [
    {
     "data": {
      "text/html": [
       "<div>\n",
       "<style scoped>\n",
       "    .dataframe tbody tr th:only-of-type {\n",
       "        vertical-align: middle;\n",
       "    }\n",
       "\n",
       "    .dataframe tbody tr th {\n",
       "        vertical-align: top;\n",
       "    }\n",
       "\n",
       "    .dataframe thead th {\n",
       "        text-align: right;\n",
       "    }\n",
       "</style>\n",
       "<table border=\"1\" class=\"dataframe\">\n",
       "  <thead>\n",
       "    <tr style=\"text-align: right;\">\n",
       "      <th></th>\n",
       "      <th>State</th>\n",
       "      <th>MedianAge</th>\n",
       "    </tr>\n",
       "  </thead>\n",
       "  <tbody>\n",
       "    <tr>\n",
       "      <th>0</th>\n",
       "      <td>Maine</td>\n",
       "      <td>44.6</td>\n",
       "    </tr>\n",
       "    <tr>\n",
       "      <th>1</th>\n",
       "      <td>Vermont</td>\n",
       "      <td>42.9</td>\n",
       "    </tr>\n",
       "    <tr>\n",
       "      <th>2</th>\n",
       "      <td>New Hampshire</td>\n",
       "      <td>42.7</td>\n",
       "    </tr>\n",
       "    <tr>\n",
       "      <th>3</th>\n",
       "      <td>West Virginia</td>\n",
       "      <td>42.4</td>\n",
       "    </tr>\n",
       "    <tr>\n",
       "      <th>4</th>\n",
       "      <td>Florida</td>\n",
       "      <td>41.9</td>\n",
       "    </tr>\n",
       "  </tbody>\n",
       "</table>\n",
       "</div>"
      ],
      "text/plain": [
       "           State  MedianAge\n",
       "0          Maine       44.6\n",
       "1        Vermont       42.9\n",
       "2  New Hampshire       42.7\n",
       "3  West Virginia       42.4\n",
       "4        Florida       41.9"
      ]
     },
     "execution_count": 110,
     "metadata": {},
     "output_type": "execute_result"
    }
   ],
   "source": [
    "us_median_state_age.head()"
   ]
  },
  {
   "cell_type": "code",
   "execution_count": 111,
   "metadata": {
    "colab": {},
    "colab_type": "code",
    "id": "1w8JqKYrCW5d"
   },
   "outputs": [],
   "source": [
    "us_states_pop_final = pd.merge(us_states_pop,us_median_state_age, how='left',  left_on='State', right_on='State')"
   ]
  },
  {
   "cell_type": "code",
   "execution_count": 112,
   "metadata": {
    "colab": {
     "base_uri": "https://localhost:8080/",
     "height": 203
    },
    "colab_type": "code",
    "id": "Vn_ZibnaCW5e",
    "outputId": "3fe0e001-406f-45d3-95bb-0b8ccf0fd1ec"
   },
   "outputs": [
    {
     "data": {
      "text/html": [
       "<div>\n",
       "<style scoped>\n",
       "    .dataframe tbody tr th:only-of-type {\n",
       "        vertical-align: middle;\n",
       "    }\n",
       "\n",
       "    .dataframe tbody tr th {\n",
       "        vertical-align: top;\n",
       "    }\n",
       "\n",
       "    .dataframe thead th {\n",
       "        text-align: right;\n",
       "    }\n",
       "</style>\n",
       "<table border=\"1\" class=\"dataframe\">\n",
       "  <thead>\n",
       "    <tr style=\"text-align: right;\">\n",
       "      <th></th>\n",
       "      <th>State</th>\n",
       "      <th>Pop</th>\n",
       "      <th>density</th>\n",
       "      <th>MedianAge</th>\n",
       "    </tr>\n",
       "  </thead>\n",
       "  <tbody>\n",
       "    <tr>\n",
       "      <th>0</th>\n",
       "      <td>California</td>\n",
       "      <td>39937489</td>\n",
       "      <td>256.3727</td>\n",
       "      <td>36.3</td>\n",
       "    </tr>\n",
       "    <tr>\n",
       "      <th>1</th>\n",
       "      <td>Texas</td>\n",
       "      <td>29472295</td>\n",
       "      <td>112.8204</td>\n",
       "      <td>34.4</td>\n",
       "    </tr>\n",
       "    <tr>\n",
       "      <th>2</th>\n",
       "      <td>Florida</td>\n",
       "      <td>21992985</td>\n",
       "      <td>410.1256</td>\n",
       "      <td>41.9</td>\n",
       "    </tr>\n",
       "    <tr>\n",
       "      <th>3</th>\n",
       "      <td>New York</td>\n",
       "      <td>19440469</td>\n",
       "      <td>412.5211</td>\n",
       "      <td>38.7</td>\n",
       "    </tr>\n",
       "    <tr>\n",
       "      <th>4</th>\n",
       "      <td>Pennsylvania</td>\n",
       "      <td>12820878</td>\n",
       "      <td>286.5449</td>\n",
       "      <td>40.7</td>\n",
       "    </tr>\n",
       "  </tbody>\n",
       "</table>\n",
       "</div>"
      ],
      "text/plain": [
       "          State       Pop   density  MedianAge\n",
       "0    California  39937489  256.3727       36.3\n",
       "1         Texas  29472295  112.8204       34.4\n",
       "2       Florida  21992985  410.1256       41.9\n",
       "3      New York  19440469  412.5211       38.7\n",
       "4  Pennsylvania  12820878  286.5449       40.7"
      ]
     },
     "execution_count": 112,
     "metadata": {},
     "output_type": "execute_result"
    }
   ],
   "source": [
    "us_states_pop_final.head()"
   ]
  },
  {
   "cell_type": "code",
   "execution_count": 113,
   "metadata": {
    "colab": {
     "base_uri": "https://localhost:8080/",
     "height": 309
    },
    "colab_type": "code",
    "id": "K3W2xRHgCW5f",
    "outputId": "e54aa778-8ab8-45ed-9aa2-33a1cb989989"
   },
   "outputs": [
    {
     "data": {
      "text/html": [
       "<div>\n",
       "<style scoped>\n",
       "    .dataframe tbody tr th:only-of-type {\n",
       "        vertical-align: middle;\n",
       "    }\n",
       "\n",
       "    .dataframe tbody tr th {\n",
       "        vertical-align: top;\n",
       "    }\n",
       "\n",
       "    .dataframe thead th {\n",
       "        text-align: right;\n",
       "    }\n",
       "</style>\n",
       "<table border=\"1\" class=\"dataframe\">\n",
       "  <thead>\n",
       "    <tr style=\"text-align: right;\">\n",
       "      <th></th>\n",
       "      <th>date</th>\n",
       "      <th>state</th>\n",
       "      <th>positive</th>\n",
       "      <th>negative</th>\n",
       "      <th>pending</th>\n",
       "      <th>hospitalizedCurrently</th>\n",
       "      <th>hospitalizedCumulative</th>\n",
       "      <th>inIcuCurrently</th>\n",
       "      <th>inIcuCumulative</th>\n",
       "      <th>onVentilatorCurrently</th>\n",
       "      <th>...</th>\n",
       "      <th>total</th>\n",
       "      <th>totalTestResults</th>\n",
       "      <th>posNeg</th>\n",
       "      <th>fips</th>\n",
       "      <th>deathIncrease</th>\n",
       "      <th>hospitalizedIncrease</th>\n",
       "      <th>negativeIncrease</th>\n",
       "      <th>positiveIncrease</th>\n",
       "      <th>totalTestResultsIncrease</th>\n",
       "      <th>No_days</th>\n",
       "    </tr>\n",
       "  </thead>\n",
       "  <tbody>\n",
       "    <tr>\n",
       "      <th>0</th>\n",
       "      <td>20200425</td>\n",
       "      <td>AK</td>\n",
       "      <td>339.0</td>\n",
       "      <td>15393.0</td>\n",
       "      <td>NaN</td>\n",
       "      <td>32.0</td>\n",
       "      <td>NaN</td>\n",
       "      <td>NaN</td>\n",
       "      <td>NaN</td>\n",
       "      <td>NaN</td>\n",
       "      <td>...</td>\n",
       "      <td>15732.0</td>\n",
       "      <td>15732.0</td>\n",
       "      <td>15732.0</td>\n",
       "      <td>2</td>\n",
       "      <td>0.0</td>\n",
       "      <td>0.0</td>\n",
       "      <td>3451.0</td>\n",
       "      <td>0.0</td>\n",
       "      <td>3451.0</td>\n",
       "      <td>94 days</td>\n",
       "    </tr>\n",
       "    <tr>\n",
       "      <th>1</th>\n",
       "      <td>20200425</td>\n",
       "      <td>AL</td>\n",
       "      <td>6137.0</td>\n",
       "      <td>65207.0</td>\n",
       "      <td>NaN</td>\n",
       "      <td>NaN</td>\n",
       "      <td>839.0</td>\n",
       "      <td>NaN</td>\n",
       "      <td>288.0</td>\n",
       "      <td>NaN</td>\n",
       "      <td>...</td>\n",
       "      <td>71344.0</td>\n",
       "      <td>71344.0</td>\n",
       "      <td>71344.0</td>\n",
       "      <td>1</td>\n",
       "      <td>15.0</td>\n",
       "      <td>71.0</td>\n",
       "      <td>18344.0</td>\n",
       "      <td>305.0</td>\n",
       "      <td>18649.0</td>\n",
       "      <td>94 days</td>\n",
       "    </tr>\n",
       "    <tr>\n",
       "      <th>2</th>\n",
       "      <td>20200425</td>\n",
       "      <td>AR</td>\n",
       "      <td>2829.0</td>\n",
       "      <td>35224.0</td>\n",
       "      <td>NaN</td>\n",
       "      <td>104.0</td>\n",
       "      <td>291.0</td>\n",
       "      <td>NaN</td>\n",
       "      <td>NaN</td>\n",
       "      <td>25.0</td>\n",
       "      <td>...</td>\n",
       "      <td>38053.0</td>\n",
       "      <td>38053.0</td>\n",
       "      <td>38053.0</td>\n",
       "      <td>5</td>\n",
       "      <td>2.0</td>\n",
       "      <td>0.0</td>\n",
       "      <td>2387.0</td>\n",
       "      <td>88.0</td>\n",
       "      <td>2475.0</td>\n",
       "      <td>94 days</td>\n",
       "    </tr>\n",
       "    <tr>\n",
       "      <th>3</th>\n",
       "      <td>20200425</td>\n",
       "      <td>AS</td>\n",
       "      <td>0.0</td>\n",
       "      <td>3.0</td>\n",
       "      <td>17.0</td>\n",
       "      <td>NaN</td>\n",
       "      <td>NaN</td>\n",
       "      <td>NaN</td>\n",
       "      <td>NaN</td>\n",
       "      <td>NaN</td>\n",
       "      <td>...</td>\n",
       "      <td>20.0</td>\n",
       "      <td>3.0</td>\n",
       "      <td>3.0</td>\n",
       "      <td>60</td>\n",
       "      <td>0.0</td>\n",
       "      <td>0.0</td>\n",
       "      <td>0.0</td>\n",
       "      <td>0.0</td>\n",
       "      <td>0.0</td>\n",
       "      <td>94 days</td>\n",
       "    </tr>\n",
       "    <tr>\n",
       "      <th>4</th>\n",
       "      <td>20200425</td>\n",
       "      <td>AZ</td>\n",
       "      <td>6280.0</td>\n",
       "      <td>56228.0</td>\n",
       "      <td>NaN</td>\n",
       "      <td>697.0</td>\n",
       "      <td>1022.0</td>\n",
       "      <td>313.0</td>\n",
       "      <td>NaN</td>\n",
       "      <td>191.0</td>\n",
       "      <td>...</td>\n",
       "      <td>62508.0</td>\n",
       "      <td>62508.0</td>\n",
       "      <td>62508.0</td>\n",
       "      <td>4</td>\n",
       "      <td>0.0</td>\n",
       "      <td>38.0</td>\n",
       "      <td>1559.0</td>\n",
       "      <td>235.0</td>\n",
       "      <td>1794.0</td>\n",
       "      <td>94 days</td>\n",
       "    </tr>\n",
       "  </tbody>\n",
       "</table>\n",
       "<p>5 rows × 26 columns</p>\n",
       "</div>"
      ],
      "text/plain": [
       "       date state  positive  negative  pending  hospitalizedCurrently  \\\n",
       "0  20200425    AK     339.0   15393.0      NaN                   32.0   \n",
       "1  20200425    AL    6137.0   65207.0      NaN                    NaN   \n",
       "2  20200425    AR    2829.0   35224.0      NaN                  104.0   \n",
       "3  20200425    AS       0.0       3.0     17.0                    NaN   \n",
       "4  20200425    AZ    6280.0   56228.0      NaN                  697.0   \n",
       "\n",
       "   hospitalizedCumulative  inIcuCurrently  inIcuCumulative  \\\n",
       "0                     NaN             NaN              NaN   \n",
       "1                   839.0             NaN            288.0   \n",
       "2                   291.0             NaN              NaN   \n",
       "3                     NaN             NaN              NaN   \n",
       "4                  1022.0           313.0              NaN   \n",
       "\n",
       "   onVentilatorCurrently  ...    total  totalTestResults   posNeg fips  \\\n",
       "0                    NaN  ...  15732.0           15732.0  15732.0    2   \n",
       "1                    NaN  ...  71344.0           71344.0  71344.0    1   \n",
       "2                   25.0  ...  38053.0           38053.0  38053.0    5   \n",
       "3                    NaN  ...     20.0               3.0      3.0   60   \n",
       "4                  191.0  ...  62508.0           62508.0  62508.0    4   \n",
       "\n",
       "   deathIncrease  hospitalizedIncrease  negativeIncrease  positiveIncrease  \\\n",
       "0            0.0                   0.0            3451.0               0.0   \n",
       "1           15.0                  71.0           18344.0             305.0   \n",
       "2            2.0                   0.0            2387.0              88.0   \n",
       "3            0.0                   0.0               0.0               0.0   \n",
       "4            0.0                  38.0            1559.0             235.0   \n",
       "\n",
       "   totalTestResultsIncrease  No_days  \n",
       "0                    3451.0  94 days  \n",
       "1                   18649.0  94 days  \n",
       "2                    2475.0  94 days  \n",
       "3                       0.0  94 days  \n",
       "4                    1794.0  94 days  \n",
       "\n",
       "[5 rows x 26 columns]"
      ]
     },
     "execution_count": 113,
     "metadata": {},
     "output_type": "execute_result"
    }
   ],
   "source": [
    "## cases in us states\n",
    "\n",
    "us_state.head()"
   ]
  },
  {
   "cell_type": "code",
   "execution_count": 114,
   "metadata": {
    "colab": {},
    "colab_type": "code",
    "id": "OTDwhR9SCW5g"
   },
   "outputs": [],
   "source": [
    "#grouping data\n",
    "grouped_states = us_state.groupby('state').agg({'positive': ['max'],'death': ['max']})"
   ]
  },
  {
   "cell_type": "code",
   "execution_count": 115,
   "metadata": {
    "colab": {
     "base_uri": "https://localhost:8080/",
     "height": 264
    },
    "colab_type": "code",
    "id": "CIeWcrnjCW5h",
    "outputId": "43a17f63-6118-4bf6-d983-83b2cd3902a8"
   },
   "outputs": [
    {
     "data": {
      "text/html": [
       "<div>\n",
       "<style scoped>\n",
       "    .dataframe tbody tr th:only-of-type {\n",
       "        vertical-align: middle;\n",
       "    }\n",
       "\n",
       "    .dataframe tbody tr th {\n",
       "        vertical-align: top;\n",
       "    }\n",
       "\n",
       "    .dataframe thead tr th {\n",
       "        text-align: left;\n",
       "    }\n",
       "\n",
       "    .dataframe thead tr:last-of-type th {\n",
       "        text-align: right;\n",
       "    }\n",
       "</style>\n",
       "<table border=\"1\" class=\"dataframe\">\n",
       "  <thead>\n",
       "    <tr>\n",
       "      <th></th>\n",
       "      <th>positive</th>\n",
       "      <th>death</th>\n",
       "    </tr>\n",
       "    <tr>\n",
       "      <th></th>\n",
       "      <th>max</th>\n",
       "      <th>max</th>\n",
       "    </tr>\n",
       "    <tr>\n",
       "      <th>state</th>\n",
       "      <th></th>\n",
       "      <th></th>\n",
       "    </tr>\n",
       "  </thead>\n",
       "  <tbody>\n",
       "    <tr>\n",
       "      <th>AK</th>\n",
       "      <td>339.0</td>\n",
       "      <td>9.0</td>\n",
       "    </tr>\n",
       "    <tr>\n",
       "      <th>AL</th>\n",
       "      <td>6137.0</td>\n",
       "      <td>212.0</td>\n",
       "    </tr>\n",
       "    <tr>\n",
       "      <th>AR</th>\n",
       "      <td>2829.0</td>\n",
       "      <td>47.0</td>\n",
       "    </tr>\n",
       "    <tr>\n",
       "      <th>AS</th>\n",
       "      <td>0.0</td>\n",
       "      <td>0.0</td>\n",
       "    </tr>\n",
       "    <tr>\n",
       "      <th>AZ</th>\n",
       "      <td>6280.0</td>\n",
       "      <td>266.0</td>\n",
       "    </tr>\n",
       "  </tbody>\n",
       "</table>\n",
       "</div>"
      ],
      "text/plain": [
       "      positive  death\n",
       "           max    max\n",
       "state                \n",
       "AK       339.0    9.0\n",
       "AL      6137.0  212.0\n",
       "AR      2829.0   47.0\n",
       "AS         0.0    0.0\n",
       "AZ      6280.0  266.0"
      ]
     },
     "execution_count": 115,
     "metadata": {},
     "output_type": "execute_result"
    }
   ],
   "source": [
    "#grouping data\n",
    "grouped_states.head()"
   ]
  },
  {
   "cell_type": "code",
   "execution_count": 116,
   "metadata": {
    "colab": {},
    "colab_type": "code",
    "id": "21JIMy9gCW5j"
   },
   "outputs": [],
   "source": [
    "##get the states code\n",
    "\n",
    "state_code = pd.read_csv(\"states_code.csv\")"
   ]
  },
  {
   "cell_type": "code",
   "execution_count": 117,
   "metadata": {
    "colab": {
     "base_uri": "https://localhost:8080/",
     "height": 203
    },
    "colab_type": "code",
    "id": "fk9T2gvoCW5l",
    "outputId": "4cc6cd74-c845-41b9-a07a-36ff12256266"
   },
   "outputs": [
    {
     "data": {
      "text/html": [
       "<div>\n",
       "<style scoped>\n",
       "    .dataframe tbody tr th:only-of-type {\n",
       "        vertical-align: middle;\n",
       "    }\n",
       "\n",
       "    .dataframe tbody tr th {\n",
       "        vertical-align: top;\n",
       "    }\n",
       "\n",
       "    .dataframe thead th {\n",
       "        text-align: right;\n",
       "    }\n",
       "</style>\n",
       "<table border=\"1\" class=\"dataframe\">\n",
       "  <thead>\n",
       "    <tr style=\"text-align: right;\">\n",
       "      <th></th>\n",
       "      <th>State</th>\n",
       "      <th>Abbreviation</th>\n",
       "    </tr>\n",
       "  </thead>\n",
       "  <tbody>\n",
       "    <tr>\n",
       "      <th>0</th>\n",
       "      <td>Alabama</td>\n",
       "      <td>AL</td>\n",
       "    </tr>\n",
       "    <tr>\n",
       "      <th>1</th>\n",
       "      <td>Alaska</td>\n",
       "      <td>AK</td>\n",
       "    </tr>\n",
       "    <tr>\n",
       "      <th>2</th>\n",
       "      <td>Arizona</td>\n",
       "      <td>AZ</td>\n",
       "    </tr>\n",
       "    <tr>\n",
       "      <th>3</th>\n",
       "      <td>Arkansas</td>\n",
       "      <td>AR</td>\n",
       "    </tr>\n",
       "    <tr>\n",
       "      <th>4</th>\n",
       "      <td>California</td>\n",
       "      <td>CA</td>\n",
       "    </tr>\n",
       "  </tbody>\n",
       "</table>\n",
       "</div>"
      ],
      "text/plain": [
       "        State Abbreviation\n",
       "0     Alabama           AL\n",
       "1      Alaska           AK\n",
       "2     Arizona           AZ\n",
       "3    Arkansas           AR\n",
       "4  California           CA"
      ]
     },
     "execution_count": 117,
     "metadata": {},
     "output_type": "execute_result"
    }
   ],
   "source": [
    "#looking at data\n",
    "state_code.head()"
   ]
  },
  {
   "cell_type": "code",
   "execution_count": 118,
   "metadata": {
    "colab": {
     "base_uri": "https://localhost:8080/",
     "height": 72
    },
    "colab_type": "code",
    "id": "aVZXrSL7CW5n",
    "outputId": "a01dab4f-976b-4583-bd33-29a1b78fc940"
   },
   "outputs": [
    {
     "name": "stderr",
     "output_type": "stream",
     "text": [
      "C:\\Users\\carla\\Anaconda3\\lib\\site-packages\\pandas\\core\\reshape\\merge.py:618: UserWarning: merging between different levels can give an unintended result (2 levels on the left, 1 on the right)\n",
      "  warnings.warn(msg, UserWarning)\n"
     ]
    }
   ],
   "source": [
    "states_cases = pd.merge(grouped_states, state_code, how=\"left\",left_on=\"state\", right_on=\"Abbreviation\")"
   ]
  },
  {
   "cell_type": "code",
   "execution_count": 119,
   "metadata": {
    "colab": {
     "base_uri": "https://localhost:8080/",
     "height": 203
    },
    "colab_type": "code",
    "id": "HKDGAPc8CW5o",
    "outputId": "06c46251-44e4-4ceb-affc-06c6a05eacde"
   },
   "outputs": [
    {
     "data": {
      "text/html": [
       "<div>\n",
       "<style scoped>\n",
       "    .dataframe tbody tr th:only-of-type {\n",
       "        vertical-align: middle;\n",
       "    }\n",
       "\n",
       "    .dataframe tbody tr th {\n",
       "        vertical-align: top;\n",
       "    }\n",
       "\n",
       "    .dataframe thead th {\n",
       "        text-align: right;\n",
       "    }\n",
       "</style>\n",
       "<table border=\"1\" class=\"dataframe\">\n",
       "  <thead>\n",
       "    <tr style=\"text-align: right;\">\n",
       "      <th></th>\n",
       "      <th>(positive, max)</th>\n",
       "      <th>(death, max)</th>\n",
       "      <th>State</th>\n",
       "      <th>Abbreviation</th>\n",
       "    </tr>\n",
       "  </thead>\n",
       "  <tbody>\n",
       "    <tr>\n",
       "      <th>0</th>\n",
       "      <td>339.0</td>\n",
       "      <td>9.0</td>\n",
       "      <td>Alaska</td>\n",
       "      <td>AK</td>\n",
       "    </tr>\n",
       "    <tr>\n",
       "      <th>1</th>\n",
       "      <td>6137.0</td>\n",
       "      <td>212.0</td>\n",
       "      <td>Alabama</td>\n",
       "      <td>AL</td>\n",
       "    </tr>\n",
       "    <tr>\n",
       "      <th>2</th>\n",
       "      <td>2829.0</td>\n",
       "      <td>47.0</td>\n",
       "      <td>Arkansas</td>\n",
       "      <td>AR</td>\n",
       "    </tr>\n",
       "    <tr>\n",
       "      <th>3</th>\n",
       "      <td>0.0</td>\n",
       "      <td>0.0</td>\n",
       "      <td>NaN</td>\n",
       "      <td>NaN</td>\n",
       "    </tr>\n",
       "    <tr>\n",
       "      <th>4</th>\n",
       "      <td>6280.0</td>\n",
       "      <td>266.0</td>\n",
       "      <td>Arizona</td>\n",
       "      <td>AZ</td>\n",
       "    </tr>\n",
       "  </tbody>\n",
       "</table>\n",
       "</div>"
      ],
      "text/plain": [
       "   (positive, max)  (death, max)     State Abbreviation\n",
       "0            339.0           9.0    Alaska           AK\n",
       "1           6137.0         212.0   Alabama           AL\n",
       "2           2829.0          47.0  Arkansas           AR\n",
       "3              0.0           0.0       NaN          NaN\n",
       "4           6280.0         266.0   Arizona           AZ"
      ]
     },
     "execution_count": 119,
     "metadata": {},
     "output_type": "execute_result"
    }
   ],
   "source": [
    "states_cases.head()"
   ]
  },
  {
   "cell_type": "code",
   "execution_count": 120,
   "metadata": {
    "colab": {},
    "colab_type": "code",
    "id": "NYxbsu59CW5q"
   },
   "outputs": [],
   "source": [
    "states_cases.dropna(subset=['State'], inplace=True)"
   ]
  },
  {
   "cell_type": "code",
   "execution_count": 121,
   "metadata": {
    "colab": {
     "base_uri": "https://localhost:8080/",
     "height": 35
    },
    "colab_type": "code",
    "id": "KPgd3YafCW5r",
    "outputId": "300672e1-7912-4751-c896-fefec1e83f36"
   },
   "outputs": [
    {
     "data": {
      "text/plain": [
       "51"
      ]
     },
     "execution_count": 121,
     "metadata": {},
     "output_type": "execute_result"
    }
   ],
   "source": [
    "len(states_cases)"
   ]
  },
  {
   "cell_type": "code",
   "execution_count": 122,
   "metadata": {
    "colab": {
     "base_uri": "https://localhost:8080/",
     "height": 203
    },
    "colab_type": "code",
    "id": "sjd0clE6CW5t",
    "outputId": "61df2119-9fbe-49cd-b455-6fa9d72e107a"
   },
   "outputs": [
    {
     "data": {
      "text/html": [
       "<div>\n",
       "<style scoped>\n",
       "    .dataframe tbody tr th:only-of-type {\n",
       "        vertical-align: middle;\n",
       "    }\n",
       "\n",
       "    .dataframe tbody tr th {\n",
       "        vertical-align: top;\n",
       "    }\n",
       "\n",
       "    .dataframe thead th {\n",
       "        text-align: right;\n",
       "    }\n",
       "</style>\n",
       "<table border=\"1\" class=\"dataframe\">\n",
       "  <thead>\n",
       "    <tr style=\"text-align: right;\">\n",
       "      <th></th>\n",
       "      <th>State</th>\n",
       "      <th>Pop</th>\n",
       "      <th>density</th>\n",
       "      <th>MedianAge</th>\n",
       "    </tr>\n",
       "  </thead>\n",
       "  <tbody>\n",
       "    <tr>\n",
       "      <th>0</th>\n",
       "      <td>California</td>\n",
       "      <td>39937489</td>\n",
       "      <td>256.3727</td>\n",
       "      <td>36.3</td>\n",
       "    </tr>\n",
       "    <tr>\n",
       "      <th>1</th>\n",
       "      <td>Texas</td>\n",
       "      <td>29472295</td>\n",
       "      <td>112.8204</td>\n",
       "      <td>34.4</td>\n",
       "    </tr>\n",
       "    <tr>\n",
       "      <th>2</th>\n",
       "      <td>Florida</td>\n",
       "      <td>21992985</td>\n",
       "      <td>410.1256</td>\n",
       "      <td>41.9</td>\n",
       "    </tr>\n",
       "    <tr>\n",
       "      <th>3</th>\n",
       "      <td>New York</td>\n",
       "      <td>19440469</td>\n",
       "      <td>412.5211</td>\n",
       "      <td>38.7</td>\n",
       "    </tr>\n",
       "    <tr>\n",
       "      <th>4</th>\n",
       "      <td>Pennsylvania</td>\n",
       "      <td>12820878</td>\n",
       "      <td>286.5449</td>\n",
       "      <td>40.7</td>\n",
       "    </tr>\n",
       "  </tbody>\n",
       "</table>\n",
       "</div>"
      ],
      "text/plain": [
       "          State       Pop   density  MedianAge\n",
       "0    California  39937489  256.3727       36.3\n",
       "1         Texas  29472295  112.8204       34.4\n",
       "2       Florida  21992985  410.1256       41.9\n",
       "3      New York  19440469  412.5211       38.7\n",
       "4  Pennsylvania  12820878  286.5449       40.7"
      ]
     },
     "execution_count": 122,
     "metadata": {},
     "output_type": "execute_result"
    }
   ],
   "source": [
    "us_states_pop_final.head()"
   ]
  },
  {
   "cell_type": "code",
   "execution_count": 123,
   "metadata": {
    "colab": {},
    "colab_type": "code",
    "id": "vyAJYJ83CW5u"
   },
   "outputs": [],
   "source": [
    "#creating dataframe\n",
    "test_states = pd.merge(states_cases,us_states_pop_final,left_on=\"State\",right_on=\"State\",how=\"left\")"
   ]
  },
  {
   "cell_type": "code",
   "execution_count": 124,
   "metadata": {
    "colab": {
     "base_uri": "https://localhost:8080/",
     "height": 203
    },
    "colab_type": "code",
    "id": "jGsa8ZrQCW5w",
    "outputId": "415a05e3-fb43-4b8f-c736-bfc857f6161b"
   },
   "outputs": [
    {
     "data": {
      "text/html": [
       "<div>\n",
       "<style scoped>\n",
       "    .dataframe tbody tr th:only-of-type {\n",
       "        vertical-align: middle;\n",
       "    }\n",
       "\n",
       "    .dataframe tbody tr th {\n",
       "        vertical-align: top;\n",
       "    }\n",
       "\n",
       "    .dataframe thead th {\n",
       "        text-align: right;\n",
       "    }\n",
       "</style>\n",
       "<table border=\"1\" class=\"dataframe\">\n",
       "  <thead>\n",
       "    <tr style=\"text-align: right;\">\n",
       "      <th></th>\n",
       "      <th>(positive, max)</th>\n",
       "      <th>(death, max)</th>\n",
       "      <th>State</th>\n",
       "      <th>Abbreviation</th>\n",
       "      <th>Pop</th>\n",
       "      <th>density</th>\n",
       "      <th>MedianAge</th>\n",
       "    </tr>\n",
       "  </thead>\n",
       "  <tbody>\n",
       "    <tr>\n",
       "      <th>0</th>\n",
       "      <td>339.0</td>\n",
       "      <td>9.0</td>\n",
       "      <td>Alaska</td>\n",
       "      <td>AK</td>\n",
       "      <td>734002</td>\n",
       "      <td>1.2863</td>\n",
       "      <td>34.0</td>\n",
       "    </tr>\n",
       "    <tr>\n",
       "      <th>1</th>\n",
       "      <td>6137.0</td>\n",
       "      <td>212.0</td>\n",
       "      <td>Alabama</td>\n",
       "      <td>AL</td>\n",
       "      <td>4908621</td>\n",
       "      <td>96.9221</td>\n",
       "      <td>38.9</td>\n",
       "    </tr>\n",
       "    <tr>\n",
       "      <th>2</th>\n",
       "      <td>2829.0</td>\n",
       "      <td>47.0</td>\n",
       "      <td>Arkansas</td>\n",
       "      <td>AR</td>\n",
       "      <td>3038999</td>\n",
       "      <td>58.4030</td>\n",
       "      <td>37.9</td>\n",
       "    </tr>\n",
       "    <tr>\n",
       "      <th>3</th>\n",
       "      <td>6280.0</td>\n",
       "      <td>266.0</td>\n",
       "      <td>Arizona</td>\n",
       "      <td>AZ</td>\n",
       "      <td>7378494</td>\n",
       "      <td>64.9550</td>\n",
       "      <td>37.4</td>\n",
       "    </tr>\n",
       "    <tr>\n",
       "      <th>4</th>\n",
       "      <td>41137.0</td>\n",
       "      <td>1651.0</td>\n",
       "      <td>California</td>\n",
       "      <td>CA</td>\n",
       "      <td>39937489</td>\n",
       "      <td>256.3727</td>\n",
       "      <td>36.3</td>\n",
       "    </tr>\n",
       "  </tbody>\n",
       "</table>\n",
       "</div>"
      ],
      "text/plain": [
       "   (positive, max)  (death, max)       State Abbreviation       Pop   density  \\\n",
       "0            339.0           9.0      Alaska           AK    734002    1.2863   \n",
       "1           6137.0         212.0     Alabama           AL   4908621   96.9221   \n",
       "2           2829.0          47.0    Arkansas           AR   3038999   58.4030   \n",
       "3           6280.0         266.0     Arizona           AZ   7378494   64.9550   \n",
       "4          41137.0        1651.0  California           CA  39937489  256.3727   \n",
       "\n",
       "   MedianAge  \n",
       "0       34.0  \n",
       "1       38.9  \n",
       "2       37.9  \n",
       "3       37.4  \n",
       "4       36.3  "
      ]
     },
     "execution_count": 124,
     "metadata": {},
     "output_type": "execute_result"
    }
   ],
   "source": [
    "#looking at the dataframe\n",
    "test_states.head()"
   ]
  },
  {
   "cell_type": "code",
   "execution_count": 125,
   "metadata": {
    "colab": {},
    "colab_type": "code",
    "id": "_Q9xl4SICW5y"
   },
   "outputs": [],
   "source": [
    "#renaming columns\n",
    "test_states.rename(columns={test_states.columns[0]: \"Total_Cases\",test_states.columns[1]:\"Deaths\",test_states.columns[4]:\"Population\",test_states.columns[5]:\"Density\",test_states.columns[6]:\"Medain_Age\" }, inplace = True)"
   ]
  },
  {
   "cell_type": "code",
   "execution_count": 126,
   "metadata": {
    "colab": {
     "base_uri": "https://localhost:8080/",
     "height": 203
    },
    "colab_type": "code",
    "id": "_xRF6TAkCW5z",
    "outputId": "06d0a72d-439d-41eb-ecc2-064818641974"
   },
   "outputs": [
    {
     "data": {
      "text/html": [
       "<div>\n",
       "<style scoped>\n",
       "    .dataframe tbody tr th:only-of-type {\n",
       "        vertical-align: middle;\n",
       "    }\n",
       "\n",
       "    .dataframe tbody tr th {\n",
       "        vertical-align: top;\n",
       "    }\n",
       "\n",
       "    .dataframe thead th {\n",
       "        text-align: right;\n",
       "    }\n",
       "</style>\n",
       "<table border=\"1\" class=\"dataframe\">\n",
       "  <thead>\n",
       "    <tr style=\"text-align: right;\">\n",
       "      <th></th>\n",
       "      <th>Total_Cases</th>\n",
       "      <th>Deaths</th>\n",
       "      <th>State</th>\n",
       "      <th>Abbreviation</th>\n",
       "      <th>Population</th>\n",
       "      <th>Density</th>\n",
       "      <th>Medain_Age</th>\n",
       "    </tr>\n",
       "  </thead>\n",
       "  <tbody>\n",
       "    <tr>\n",
       "      <th>0</th>\n",
       "      <td>339.0</td>\n",
       "      <td>9.0</td>\n",
       "      <td>Alaska</td>\n",
       "      <td>AK</td>\n",
       "      <td>734002</td>\n",
       "      <td>1.2863</td>\n",
       "      <td>34.0</td>\n",
       "    </tr>\n",
       "    <tr>\n",
       "      <th>1</th>\n",
       "      <td>6137.0</td>\n",
       "      <td>212.0</td>\n",
       "      <td>Alabama</td>\n",
       "      <td>AL</td>\n",
       "      <td>4908621</td>\n",
       "      <td>96.9221</td>\n",
       "      <td>38.9</td>\n",
       "    </tr>\n",
       "    <tr>\n",
       "      <th>2</th>\n",
       "      <td>2829.0</td>\n",
       "      <td>47.0</td>\n",
       "      <td>Arkansas</td>\n",
       "      <td>AR</td>\n",
       "      <td>3038999</td>\n",
       "      <td>58.4030</td>\n",
       "      <td>37.9</td>\n",
       "    </tr>\n",
       "    <tr>\n",
       "      <th>3</th>\n",
       "      <td>6280.0</td>\n",
       "      <td>266.0</td>\n",
       "      <td>Arizona</td>\n",
       "      <td>AZ</td>\n",
       "      <td>7378494</td>\n",
       "      <td>64.9550</td>\n",
       "      <td>37.4</td>\n",
       "    </tr>\n",
       "    <tr>\n",
       "      <th>4</th>\n",
       "      <td>41137.0</td>\n",
       "      <td>1651.0</td>\n",
       "      <td>California</td>\n",
       "      <td>CA</td>\n",
       "      <td>39937489</td>\n",
       "      <td>256.3727</td>\n",
       "      <td>36.3</td>\n",
       "    </tr>\n",
       "  </tbody>\n",
       "</table>\n",
       "</div>"
      ],
      "text/plain": [
       "   Total_Cases  Deaths       State Abbreviation  Population   Density  \\\n",
       "0        339.0     9.0      Alaska           AK      734002    1.2863   \n",
       "1       6137.0   212.0     Alabama           AL     4908621   96.9221   \n",
       "2       2829.0    47.0    Arkansas           AR     3038999   58.4030   \n",
       "3       6280.0   266.0     Arizona           AZ     7378494   64.9550   \n",
       "4      41137.0  1651.0  California           CA    39937489  256.3727   \n",
       "\n",
       "   Medain_Age  \n",
       "0        34.0  \n",
       "1        38.9  \n",
       "2        37.9  \n",
       "3        37.4  \n",
       "4        36.3  "
      ]
     },
     "execution_count": 126,
     "metadata": {},
     "output_type": "execute_result"
    }
   ],
   "source": [
    "#looking at dataframe\n",
    "test_states.head()"
   ]
  },
  {
   "cell_type": "code",
   "execution_count": null,
   "metadata": {
    "colab": {},
    "colab_type": "code",
    "id": "Awbj8kMjCW51"
   },
   "outputs": [],
   "source": []
  },
  {
   "cell_type": "code",
   "execution_count": 127,
   "metadata": {
    "colab": {},
    "colab_type": "code",
    "id": "SLY-kujICW54"
   },
   "outputs": [],
   "source": [
    "#naming test data\n",
    "X_test= test_states.drop(test_states.columns[[0,2,3]],axis=1)"
   ]
  },
  {
   "cell_type": "code",
   "execution_count": 128,
   "metadata": {
    "colab": {},
    "colab_type": "code",
    "id": "4yX1_6TaCW56"
   },
   "outputs": [],
   "source": [
    "#naming\n",
    "y_test = test_states.Total_Cases"
   ]
  },
  {
   "cell_type": "code",
   "execution_count": 129,
   "metadata": {
    "colab": {},
    "colab_type": "code",
    "id": "pXTa9Qw0CW57"
   },
   "outputs": [],
   "source": [
    "# creating linear model\n",
    "y_pred=lm_fit.predict(X_test)"
   ]
  },
  {
   "cell_type": "code",
   "execution_count": 130,
   "metadata": {
    "colab": {},
    "colab_type": "code",
    "id": "ZQCcKftRCW59"
   },
   "outputs": [],
   "source": [
    "from sklearn import metrics"
   ]
  },
  {
   "cell_type": "code",
   "execution_count": 131,
   "metadata": {
    "colab": {
     "base_uri": "https://localhost:8080/",
     "height": 35
    },
    "colab_type": "code",
    "id": "lzRIdtS8CW6A",
    "outputId": "4c96f12e-5f63-426e-d96d-c5e653832ddd"
   },
   "outputs": [
    {
     "name": "stdout",
     "output_type": "stream",
     "text": [
      "6406.811598857804\n"
     ]
    }
   ],
   "source": [
    "print(metrics.mean_absolute_error(y_test,y_pred))"
   ]
  },
  {
   "cell_type": "code",
   "execution_count": 132,
   "metadata": {
    "colab": {
     "base_uri": "https://localhost:8080/",
     "height": 35
    },
    "colab_type": "code",
    "id": "B1NaztsCCW6C",
    "outputId": "3997cd37-d173-478c-b244-21782a3b7f79"
   },
   "outputs": [
    {
     "name": "stdout",
     "output_type": "stream",
     "text": [
      "99596484.08658408\n"
     ]
    }
   ],
   "source": [
    "print(metrics.mean_squared_error(y_test,y_pred))"
   ]
  },
  {
   "cell_type": "code",
   "execution_count": 133,
   "metadata": {
    "colab": {
     "base_uri": "https://localhost:8080/",
     "height": 309
    },
    "colab_type": "code",
    "id": "ATDdXJ9MCW6E",
    "outputId": "3aa74209-322f-4dd0-f78a-314fdb6055bf"
   },
   "outputs": [
    {
     "data": {
      "text/plain": [
       "Text(0, 0.5, 'Population')"
      ]
     },
     "execution_count": 133,
     "metadata": {},
     "output_type": "execute_result"
    },
    {
     "data": {
      "image/png": "[encoded data removed]",
      "text/plain": [
       "<Figure size 432x288 with 1 Axes>"
      ]
     },
     "metadata": {
      "needs_background": "light"
     },
     "output_type": "display_data"
    }
   ],
   "source": [
    "plt.scatter(test_states.Total_Cases, test_states.Population, s=10)\n",
    "plt.xlabel('Total_Cases')\n",
    "plt.ylabel('Population')"
   ]
  },
  {
   "cell_type": "code",
   "execution_count": 134,
   "metadata": {
    "colab": {
     "base_uri": "https://localhost:8080/",
     "height": 52
    },
    "colab_type": "code",
    "id": "f_025ilVCW6G",
    "outputId": "c0ac7dc8-a4d6-4ccf-f767-ab98632f2e17"
   },
   "outputs": [
    {
     "name": "stdout",
     "output_type": "stream",
     "text": [
      "12817.768496186587\n",
      "1362885423.6272116\n"
     ]
    }
   ],
   "source": [
    "#naming test data\n",
    "X_test= test_states.drop(test_states.columns[[0,2,3]],axis=1)\n",
    "\n",
    "#naming\n",
    "y_test = test_states.Medain_Age\n",
    "\n",
    "# creating linear model\n",
    "y_pred=lm_fit.predict(X_test)\n",
    "\n",
    "from sklearn import metrics\n",
    "print(metrics.mean_absolute_error(y_test,y_pred))\n",
    "\n",
    "print(metrics.mean_squared_error(y_test,y_pred))\n",
    "\n",
    "\n",
    "\n",
    "\n",
    "\n"
   ]
  }
 ],
 "metadata": {
  "colab": {
   "name": "Corona_Update_0426.ipynb",
   "provenance": [],
   "toc_visible": true
  },
  "kernelspec": {
   "display_name": "Python 3",
   "language": "python",
   "name": "python3"
  },
  "language_info": {
   "codemirror_mode": {
    "name": "ipython",
    "version": 3
   },
   "file_extension": ".py",
   "mimetype": "text/x-python",
   "name": "python",
   "nbconvert_exporter": "python",
   "pygments_lexer": "ipython3",
   "version": "3.7.3"
  }
 },
 "nbformat": 4,
 "nbformat_minor": 1
}
